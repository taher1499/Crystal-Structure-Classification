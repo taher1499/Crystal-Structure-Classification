{
 "cells": [
  {
   "cell_type": "code",
   "execution_count": 2,
   "metadata": {},
   "outputs": [],
   "source": [
    "import pandas as pd\n",
    "import numpy as np"
   ]
  },
  {
   "cell_type": "code",
   "execution_count": 3,
   "metadata": {},
   "outputs": [],
   "source": [
    "# pd.set_option('display.max_rows', 500)\n",
    "pd.set_option('display.max_columns', 500)\n",
    "# pd.set_option('display.width', 1000)\n",
    "# pd.set_option('display.expand_frame_repr', True)"
   ]
  },
  {
   "cell_type": "code",
   "execution_count": 4,
   "metadata": {},
   "outputs": [],
   "source": [
    "import scipy\n",
    "import matplotlib.pyplot as plt\n",
    "%matplotlib inline\n",
    "import seaborn as sns\n",
    "import random\n",
    "import datetime\n",
    "import warnings\n",
    "warnings.filterwarnings('ignore')"
   ]
  },
  {
   "cell_type": "code",
   "execution_count": 5,
   "metadata": {},
   "outputs": [],
   "source": [
    "from matplotlib import rcParams\n",
    "#colorbrewer2 Dark2 qualitative color table\n",
    "dark2_colors = [(0.10588235294117647, 0.6196078431372549, 0.4666666666666667),\n",
    "                (0.8509803921568627, 0.37254901960784315, 0.00784313725490196),\n",
    "                (0.4588235294117647, 0.4392156862745098, 0.7019607843137254),\n",
    "                (0.9058823529411765, 0.1607843137254902, 0.5411764705882353),\n",
    "                (0.4, 0.6509803921568628, 0.11764705882352941),\n",
    "                (0.9019607843137255, 0.6705882352941176, 0.00784313725490196),\n",
    "                (0.6509803921568628, 0.4627450980392157, 0.11372549019607843)]\n",
    "\n",
    "rcParams['figure.figsize'] = (10, 4)\n",
    "rcParams['figure.dpi'] = 150\n",
    "#rcParams['axes.color_cycle'] = dark2_colors\n",
    "rcParams['lines.linewidth'] = 2\n",
    "rcParams['font.size'] = 8\n",
    "rcParams['patch.edgecolor'] = 'white'\n",
    "rcParams['patch.facecolor'] = dark2_colors[0]\n",
    "rcParams['font.family'] = 'StixGeneral'\n",
    "rcParams['axes.grid'] = True\n",
    "rcParams['axes.facecolor'] = '#eeeeee'"
   ]
  },
  {
   "cell_type": "code",
   "execution_count": 6,
   "metadata": {},
   "outputs": [],
   "source": [
    "df=pd.read_csv('data_perovskites.csv')"
   ]
  },
  {
   "cell_type": "code",
   "execution_count": 7,
   "metadata": {},
   "outputs": [],
   "source": [
    "df=df[df['Lowest distortion']!='-']"
   ]
  },
  {
   "cell_type": "code",
   "execution_count": 8,
   "metadata": {},
   "outputs": [
    {
     "data": {
      "text/plain": [
       "Chemical formula                0\n",
       "A                               0\n",
       "B                               0\n",
       "In literature                   0\n",
       "Valence A                       0\n",
       "Valence B                       0\n",
       "Radius A [ang]                  0\n",
       "Radius B [ang]                  0\n",
       "Lowest distortion               0\n",
       "Formation energy [eV/atom]      0\n",
       "Stability [eV/atom]             0\n",
       "Magnetic moment [mu_B]        960\n",
       "Volume per atom [A^3/atom]      0\n",
       "Band gap [eV]                   0\n",
       "a [ang]                         0\n",
       "b [ang]                         0\n",
       "c [ang]                         0\n",
       "alpha [deg]                     0\n",
       "beta [deg]                      0\n",
       "gamma [deg]                     0\n",
       "Vacancy energy [eV/O atom]    362\n",
       "dtype: int64"
      ]
     },
     "execution_count": 8,
     "metadata": {},
     "output_type": "execute_result"
    }
   ],
   "source": [
    "df.isin(['-']).sum(axis=0)"
   ]
  },
  {
   "cell_type": "code",
   "execution_count": 9,
   "metadata": {},
   "outputs": [],
   "source": [
    "df['Goldschmidt Tolerance']=(df['Radius A [ang]']+1.4)/((2**.5)*(df['Radius B [ang]']+1.4))"
   ]
  },
  {
   "cell_type": "code",
   "execution_count": 10,
   "metadata": {},
   "outputs": [],
   "source": [
    "df['Octahedral factor']=(df['Radius B [ang]']/1.4)"
   ]
  },
  {
   "cell_type": "code",
   "execution_count": 10,
   "metadata": {},
   "outputs": [],
   "source": [
    "truedf=df[df['In literature']==True]"
   ]
  },
  {
   "cell_type": "code",
   "execution_count": 11,
   "metadata": {},
   "outputs": [],
   "source": [
    "truedf.to_csv('experimentally proven.csv')"
   ]
  },
  {
   "cell_type": "code",
   "execution_count": 11,
   "metadata": {},
   "outputs": [
    {
     "data": {
      "text/html": [
       "<div>\n",
       "<style scoped>\n",
       "    .dataframe tbody tr th:only-of-type {\n",
       "        vertical-align: middle;\n",
       "    }\n",
       "\n",
       "    .dataframe tbody tr th {\n",
       "        vertical-align: top;\n",
       "    }\n",
       "\n",
       "    .dataframe thead th {\n",
       "        text-align: right;\n",
       "    }\n",
       "</style>\n",
       "<table border=\"1\" class=\"dataframe\">\n",
       "  <thead>\n",
       "    <tr style=\"text-align: right;\">\n",
       "      <th></th>\n",
       "      <th>Chemical formula</th>\n",
       "      <th>A</th>\n",
       "      <th>B</th>\n",
       "      <th>In literature</th>\n",
       "      <th>Valence A</th>\n",
       "      <th>Valence B</th>\n",
       "      <th>Radius A [ang]</th>\n",
       "      <th>Radius B [ang]</th>\n",
       "      <th>Lowest distortion</th>\n",
       "      <th>Formation energy [eV/atom]</th>\n",
       "      <th>Stability [eV/atom]</th>\n",
       "      <th>Magnetic moment [mu_B]</th>\n",
       "      <th>Volume per atom [A^3/atom]</th>\n",
       "      <th>Band gap [eV]</th>\n",
       "      <th>a [ang]</th>\n",
       "      <th>b [ang]</th>\n",
       "      <th>c [ang]</th>\n",
       "      <th>alpha [deg]</th>\n",
       "      <th>beta [deg]</th>\n",
       "      <th>gamma [deg]</th>\n",
       "      <th>Vacancy energy [eV/O atom]</th>\n",
       "      <th>Goldschmidt Tolerance</th>\n",
       "      <th>Octahedral factor</th>\n",
       "    </tr>\n",
       "  </thead>\n",
       "  <tbody>\n",
       "    <tr>\n",
       "      <th>0</th>\n",
       "      <td>Ac2O3</td>\n",
       "      <td>Ac</td>\n",
       "      <td>Ac</td>\n",
       "      <td>False</td>\n",
       "      <td>element not in BV</td>\n",
       "      <td>element not in BV</td>\n",
       "      <td>1.12</td>\n",
       "      <td>1.12</td>\n",
       "      <td>cubic</td>\n",
       "      <td>-2.73</td>\n",
       "      <td>0.85</td>\n",
       "      <td>0</td>\n",
       "      <td>20.84</td>\n",
       "      <td>0.33</td>\n",
       "      <td>4.71</td>\n",
       "      <td>4.71</td>\n",
       "      <td>4.71</td>\n",
       "      <td>90</td>\n",
       "      <td>90</td>\n",
       "      <td>90</td>\n",
       "      <td>3.15</td>\n",
       "      <td>0.707107</td>\n",
       "      <td>0.800000</td>\n",
       "    </tr>\n",
       "    <tr>\n",
       "      <th>1</th>\n",
       "      <td>AcAgO3</td>\n",
       "      <td>Ac</td>\n",
       "      <td>Ag</td>\n",
       "      <td>False</td>\n",
       "      <td>element not in BV</td>\n",
       "      <td>element not in BV</td>\n",
       "      <td>1.12</td>\n",
       "      <td>0.95</td>\n",
       "      <td>orthorhombic</td>\n",
       "      <td>-1.96</td>\n",
       "      <td>-0.06</td>\n",
       "      <td>0</td>\n",
       "      <td>14.49</td>\n",
       "      <td>0</td>\n",
       "      <td>5.78</td>\n",
       "      <td>6.08</td>\n",
       "      <td>8.25</td>\n",
       "      <td>90</td>\n",
       "      <td>90</td>\n",
       "      <td>90</td>\n",
       "      <td>0.82</td>\n",
       "      <td>0.758259</td>\n",
       "      <td>0.678571</td>\n",
       "    </tr>\n",
       "    <tr>\n",
       "      <th>2</th>\n",
       "      <td>AcAlO3</td>\n",
       "      <td>Ac</td>\n",
       "      <td>Al</td>\n",
       "      <td>False</td>\n",
       "      <td>element not in BV</td>\n",
       "      <td>element not in BV</td>\n",
       "      <td>1.12</td>\n",
       "      <td>0.54</td>\n",
       "      <td>cubic</td>\n",
       "      <td>-3.53</td>\n",
       "      <td>-0.11</td>\n",
       "      <td>0</td>\n",
       "      <td>11.49</td>\n",
       "      <td>4.31</td>\n",
       "      <td>3.86</td>\n",
       "      <td>3.86</td>\n",
       "      <td>3.86</td>\n",
       "      <td>90</td>\n",
       "      <td>90</td>\n",
       "      <td>90</td>\n",
       "      <td>6.7</td>\n",
       "      <td>0.918510</td>\n",
       "      <td>0.385714</td>\n",
       "    </tr>\n",
       "    <tr>\n",
       "      <th>3</th>\n",
       "      <td>AcAsO3</td>\n",
       "      <td>Ac</td>\n",
       "      <td>As</td>\n",
       "      <td>False</td>\n",
       "      <td>element not in BV</td>\n",
       "      <td>element not in BV</td>\n",
       "      <td>1.12</td>\n",
       "      <td>0.52</td>\n",
       "      <td>orthorhombic</td>\n",
       "      <td>-2.4</td>\n",
       "      <td>0.22</td>\n",
       "      <td>0</td>\n",
       "      <td>14.36</td>\n",
       "      <td>0</td>\n",
       "      <td>5.78</td>\n",
       "      <td>6.01</td>\n",
       "      <td>8.26</td>\n",
       "      <td>90</td>\n",
       "      <td>90</td>\n",
       "      <td>90</td>\n",
       "      <td>3.63</td>\n",
       "      <td>0.928078</td>\n",
       "      <td>0.371429</td>\n",
       "    </tr>\n",
       "    <tr>\n",
       "      <th>4</th>\n",
       "      <td>AcAuO3</td>\n",
       "      <td>Ac</td>\n",
       "      <td>Au</td>\n",
       "      <td>False</td>\n",
       "      <td>element not in BV</td>\n",
       "      <td>element not in BV</td>\n",
       "      <td>1.12</td>\n",
       "      <td>0.93</td>\n",
       "      <td>orthorhombic</td>\n",
       "      <td>-2.01</td>\n",
       "      <td>-0.06</td>\n",
       "      <td>0</td>\n",
       "      <td>15.19</td>\n",
       "      <td>0.75</td>\n",
       "      <td>5.9</td>\n",
       "      <td>6.75</td>\n",
       "      <td>7.63</td>\n",
       "      <td>90</td>\n",
       "      <td>90</td>\n",
       "      <td>90</td>\n",
       "      <td>0.81</td>\n",
       "      <td>0.764768</td>\n",
       "      <td>0.664286</td>\n",
       "    </tr>\n",
       "    <tr>\n",
       "      <th>...</th>\n",
       "      <td>...</td>\n",
       "      <td>...</td>\n",
       "      <td>...</td>\n",
       "      <td>...</td>\n",
       "      <td>...</td>\n",
       "      <td>...</td>\n",
       "      <td>...</td>\n",
       "      <td>...</td>\n",
       "      <td>...</td>\n",
       "      <td>...</td>\n",
       "      <td>...</td>\n",
       "      <td>...</td>\n",
       "      <td>...</td>\n",
       "      <td>...</td>\n",
       "      <td>...</td>\n",
       "      <td>...</td>\n",
       "      <td>...</td>\n",
       "      <td>...</td>\n",
       "      <td>...</td>\n",
       "      <td>...</td>\n",
       "      <td>...</td>\n",
       "      <td>...</td>\n",
       "      <td>...</td>\n",
       "    </tr>\n",
       "    <tr>\n",
       "      <th>5324</th>\n",
       "      <td>ZrWO3</td>\n",
       "      <td>Zr</td>\n",
       "      <td>W</td>\n",
       "      <td>False</td>\n",
       "      <td>1</td>\n",
       "      <td>5</td>\n",
       "      <td>0.89</td>\n",
       "      <td>0.62</td>\n",
       "      <td>cubic</td>\n",
       "      <td>-1.64</td>\n",
       "      <td>1.2</td>\n",
       "      <td>0.34</td>\n",
       "      <td>12.2</td>\n",
       "      <td>0</td>\n",
       "      <td>3.94</td>\n",
       "      <td>3.94</td>\n",
       "      <td>3.94</td>\n",
       "      <td>90</td>\n",
       "      <td>90</td>\n",
       "      <td>90</td>\n",
       "      <td>0.19</td>\n",
       "      <td>0.801621</td>\n",
       "      <td>0.442857</td>\n",
       "    </tr>\n",
       "    <tr>\n",
       "      <th>5325</th>\n",
       "      <td>ZrYO3</td>\n",
       "      <td>Zr</td>\n",
       "      <td>Y</td>\n",
       "      <td>False</td>\n",
       "      <td>not balanced</td>\n",
       "      <td>not balanced</td>\n",
       "      <td>0.89</td>\n",
       "      <td>0.90</td>\n",
       "      <td>cubic</td>\n",
       "      <td>-2.13</td>\n",
       "      <td>1.42</td>\n",
       "      <td>0.2</td>\n",
       "      <td>15.28</td>\n",
       "      <td>0</td>\n",
       "      <td>4.24</td>\n",
       "      <td>4.24</td>\n",
       "      <td>4.24</td>\n",
       "      <td>90</td>\n",
       "      <td>90</td>\n",
       "      <td>90</td>\n",
       "      <td>-4.92</td>\n",
       "      <td>0.704032</td>\n",
       "      <td>0.642857</td>\n",
       "    </tr>\n",
       "    <tr>\n",
       "      <th>5326</th>\n",
       "      <td>ZrYbO3</td>\n",
       "      <td>Zr</td>\n",
       "      <td>Yb</td>\n",
       "      <td>False</td>\n",
       "      <td>not balanced</td>\n",
       "      <td>not balanced</td>\n",
       "      <td>0.89</td>\n",
       "      <td>0.95</td>\n",
       "      <td>orthorhombic</td>\n",
       "      <td>-3.46</td>\n",
       "      <td>0.21</td>\n",
       "      <td>0</td>\n",
       "      <td>13.14</td>\n",
       "      <td>4.01</td>\n",
       "      <td>5.56</td>\n",
       "      <td>5.73</td>\n",
       "      <td>8.25</td>\n",
       "      <td>90</td>\n",
       "      <td>90</td>\n",
       "      <td>90</td>\n",
       "      <td>-6.18</td>\n",
       "      <td>0.689053</td>\n",
       "      <td>0.678571</td>\n",
       "    </tr>\n",
       "    <tr>\n",
       "      <th>5327</th>\n",
       "      <td>ZrZnO3</td>\n",
       "      <td>Zr</td>\n",
       "      <td>Zn</td>\n",
       "      <td>False</td>\n",
       "      <td>not balanced</td>\n",
       "      <td>not balanced</td>\n",
       "      <td>0.89</td>\n",
       "      <td>0.74</td>\n",
       "      <td>cubic</td>\n",
       "      <td>-1.63</td>\n",
       "      <td>1.21</td>\n",
       "      <td>0</td>\n",
       "      <td>10.8</td>\n",
       "      <td>0</td>\n",
       "      <td>3.78</td>\n",
       "      <td>3.78</td>\n",
       "      <td>3.78</td>\n",
       "      <td>90</td>\n",
       "      <td>90</td>\n",
       "      <td>90</td>\n",
       "      <td>-0.76</td>\n",
       "      <td>0.756670</td>\n",
       "      <td>0.528571</td>\n",
       "    </tr>\n",
       "    <tr>\n",
       "      <th>5328</th>\n",
       "      <td>Zr2O3</td>\n",
       "      <td>Zr</td>\n",
       "      <td>Zr</td>\n",
       "      <td>False</td>\n",
       "      <td>not balanced</td>\n",
       "      <td>not balanced</td>\n",
       "      <td>0.89</td>\n",
       "      <td>0.72</td>\n",
       "      <td>cubic</td>\n",
       "      <td>-2.38</td>\n",
       "      <td>0.91</td>\n",
       "      <td>0.38</td>\n",
       "      <td>13.92</td>\n",
       "      <td>0</td>\n",
       "      <td>4.11</td>\n",
       "      <td>4.11</td>\n",
       "      <td>4.11</td>\n",
       "      <td>90</td>\n",
       "      <td>90</td>\n",
       "      <td>90</td>\n",
       "      <td>3.22</td>\n",
       "      <td>0.763809</td>\n",
       "      <td>0.514286</td>\n",
       "    </tr>\n",
       "  </tbody>\n",
       "</table>\n",
       "<p>5276 rows × 23 columns</p>\n",
       "</div>"
      ],
      "text/plain": [
       "     Chemical formula   A   B  In literature          Valence A  \\\n",
       "0               Ac2O3  Ac  Ac          False  element not in BV   \n",
       "1              AcAgO3  Ac  Ag          False  element not in BV   \n",
       "2              AcAlO3  Ac  Al          False  element not in BV   \n",
       "3              AcAsO3  Ac  As          False  element not in BV   \n",
       "4              AcAuO3  Ac  Au          False  element not in BV   \n",
       "...               ...  ..  ..            ...                ...   \n",
       "5324            ZrWO3  Zr   W          False                  1   \n",
       "5325            ZrYO3  Zr   Y          False       not balanced   \n",
       "5326           ZrYbO3  Zr  Yb          False       not balanced   \n",
       "5327           ZrZnO3  Zr  Zn          False       not balanced   \n",
       "5328            Zr2O3  Zr  Zr          False       not balanced   \n",
       "\n",
       "              Valence B  Radius A [ang]  Radius B [ang] Lowest distortion  \\\n",
       "0     element not in BV            1.12            1.12             cubic   \n",
       "1     element not in BV            1.12            0.95      orthorhombic   \n",
       "2     element not in BV            1.12            0.54             cubic   \n",
       "3     element not in BV            1.12            0.52      orthorhombic   \n",
       "4     element not in BV            1.12            0.93      orthorhombic   \n",
       "...                 ...             ...             ...               ...   \n",
       "5324                  5            0.89            0.62             cubic   \n",
       "5325       not balanced            0.89            0.90             cubic   \n",
       "5326       not balanced            0.89            0.95      orthorhombic   \n",
       "5327       not balanced            0.89            0.74             cubic   \n",
       "5328       not balanced            0.89            0.72             cubic   \n",
       "\n",
       "     Formation energy [eV/atom] Stability [eV/atom] Magnetic moment [mu_B]  \\\n",
       "0                         -2.73                0.85                      0   \n",
       "1                         -1.96               -0.06                      0   \n",
       "2                         -3.53               -0.11                      0   \n",
       "3                          -2.4                0.22                      0   \n",
       "4                         -2.01               -0.06                      0   \n",
       "...                         ...                 ...                    ...   \n",
       "5324                      -1.64                 1.2                   0.34   \n",
       "5325                      -2.13                1.42                    0.2   \n",
       "5326                      -3.46                0.21                      0   \n",
       "5327                      -1.63                1.21                      0   \n",
       "5328                      -2.38                0.91                   0.38   \n",
       "\n",
       "     Volume per atom [A^3/atom] Band gap [eV] a [ang] b [ang] c [ang]  \\\n",
       "0                         20.84          0.33    4.71    4.71    4.71   \n",
       "1                         14.49             0    5.78    6.08    8.25   \n",
       "2                         11.49          4.31    3.86    3.86    3.86   \n",
       "3                         14.36             0    5.78    6.01    8.26   \n",
       "4                         15.19          0.75     5.9    6.75    7.63   \n",
       "...                         ...           ...     ...     ...     ...   \n",
       "5324                       12.2             0    3.94    3.94    3.94   \n",
       "5325                      15.28             0    4.24    4.24    4.24   \n",
       "5326                      13.14          4.01    5.56    5.73    8.25   \n",
       "5327                       10.8             0    3.78    3.78    3.78   \n",
       "5328                      13.92             0    4.11    4.11    4.11   \n",
       "\n",
       "     alpha [deg] beta [deg] gamma [deg] Vacancy energy [eV/O atom]  \\\n",
       "0             90         90          90                       3.15   \n",
       "1             90         90          90                       0.82   \n",
       "2             90         90          90                        6.7   \n",
       "3             90         90          90                       3.63   \n",
       "4             90         90          90                       0.81   \n",
       "...          ...        ...         ...                        ...   \n",
       "5324          90         90          90                       0.19   \n",
       "5325          90         90          90                      -4.92   \n",
       "5326          90         90          90                      -6.18   \n",
       "5327          90         90          90                      -0.76   \n",
       "5328          90         90          90                       3.22   \n",
       "\n",
       "      Goldschmidt Tolerance  Octahedral factor  \n",
       "0                  0.707107           0.800000  \n",
       "1                  0.758259           0.678571  \n",
       "2                  0.918510           0.385714  \n",
       "3                  0.928078           0.371429  \n",
       "4                  0.764768           0.664286  \n",
       "...                     ...                ...  \n",
       "5324               0.801621           0.442857  \n",
       "5325               0.704032           0.642857  \n",
       "5326               0.689053           0.678571  \n",
       "5327               0.756670           0.528571  \n",
       "5328               0.763809           0.514286  \n",
       "\n",
       "[5276 rows x 23 columns]"
      ]
     },
     "execution_count": 11,
     "metadata": {},
     "output_type": "execute_result"
    }
   ],
   "source": [
    "df"
   ]
  },
  {
   "cell_type": "code",
   "execution_count": 12,
   "metadata": {},
   "outputs": [],
   "source": [
    "df=df[df['Valence A']!='element not in BV']"
   ]
  },
  {
   "cell_type": "code",
   "execution_count": 13,
   "metadata": {},
   "outputs": [],
   "source": [
    "df=df[df['Valence A']!='not balanced']"
   ]
  },
  {
   "cell_type": "code",
   "execution_count": 14,
   "metadata": {},
   "outputs": [
    {
     "data": {
      "text/html": [
       "<div>\n",
       "<style scoped>\n",
       "    .dataframe tbody tr th:only-of-type {\n",
       "        vertical-align: middle;\n",
       "    }\n",
       "\n",
       "    .dataframe tbody tr th {\n",
       "        vertical-align: top;\n",
       "    }\n",
       "\n",
       "    .dataframe thead th {\n",
       "        text-align: right;\n",
       "    }\n",
       "</style>\n",
       "<table border=\"1\" class=\"dataframe\">\n",
       "  <thead>\n",
       "    <tr style=\"text-align: right;\">\n",
       "      <th></th>\n",
       "      <th>Chemical formula</th>\n",
       "      <th>A</th>\n",
       "      <th>B</th>\n",
       "      <th>In literature</th>\n",
       "      <th>Valence A</th>\n",
       "      <th>Valence B</th>\n",
       "      <th>Radius A [ang]</th>\n",
       "      <th>Radius B [ang]</th>\n",
       "      <th>Lowest distortion</th>\n",
       "      <th>Formation energy [eV/atom]</th>\n",
       "      <th>Stability [eV/atom]</th>\n",
       "      <th>Magnetic moment [mu_B]</th>\n",
       "      <th>Volume per atom [A^3/atom]</th>\n",
       "      <th>Band gap [eV]</th>\n",
       "      <th>a [ang]</th>\n",
       "      <th>b [ang]</th>\n",
       "      <th>c [ang]</th>\n",
       "      <th>alpha [deg]</th>\n",
       "      <th>beta [deg]</th>\n",
       "      <th>gamma [deg]</th>\n",
       "      <th>Vacancy energy [eV/O atom]</th>\n",
       "      <th>Goldschmidt Tolerance</th>\n",
       "      <th>Octahedral factor</th>\n",
       "    </tr>\n",
       "  </thead>\n",
       "  <tbody>\n",
       "    <tr>\n",
       "      <th>76</th>\n",
       "      <td>AgAsO3</td>\n",
       "      <td>Ag</td>\n",
       "      <td>As</td>\n",
       "      <td>False</td>\n",
       "      <td>1</td>\n",
       "      <td>5</td>\n",
       "      <td>1.28</td>\n",
       "      <td>0.46</td>\n",
       "      <td>tetragonal</td>\n",
       "      <td>-0.82</td>\n",
       "      <td>0.29</td>\n",
       "      <td>-</td>\n",
       "      <td>11.37</td>\n",
       "      <td>0</td>\n",
       "      <td>3.57</td>\n",
       "      <td>3.57</td>\n",
       "      <td>4.46</td>\n",
       "      <td>90</td>\n",
       "      <td>90</td>\n",
       "      <td>90</td>\n",
       "      <td>0.53</td>\n",
       "      <td>1.018842</td>\n",
       "      <td>0.328571</td>\n",
       "    </tr>\n",
       "    <tr>\n",
       "      <th>78</th>\n",
       "      <td>AgBO3</td>\n",
       "      <td>Ag</td>\n",
       "      <td>B</td>\n",
       "      <td>False</td>\n",
       "      <td>3</td>\n",
       "      <td>3</td>\n",
       "      <td>0.75</td>\n",
       "      <td>0.27</td>\n",
       "      <td>cubic</td>\n",
       "      <td>-0.35</td>\n",
       "      <td>1.07</td>\n",
       "      <td>-</td>\n",
       "      <td>8.14</td>\n",
       "      <td>0</td>\n",
       "      <td>3.44</td>\n",
       "      <td>3.44</td>\n",
       "      <td>3.44</td>\n",
       "      <td>90</td>\n",
       "      <td>90</td>\n",
       "      <td>90</td>\n",
       "      <td>-2.64</td>\n",
       "      <td>0.910347</td>\n",
       "      <td>0.192857</td>\n",
       "    </tr>\n",
       "    <tr>\n",
       "      <th>81</th>\n",
       "      <td>AgBiO3</td>\n",
       "      <td>Ag</td>\n",
       "      <td>Bi</td>\n",
       "      <td>False</td>\n",
       "      <td>1</td>\n",
       "      <td>5</td>\n",
       "      <td>1.28</td>\n",
       "      <td>0.76</td>\n",
       "      <td>rhombohedral</td>\n",
       "      <td>-0.82</td>\n",
       "      <td>0.06</td>\n",
       "      <td>-</td>\n",
       "      <td>13.66</td>\n",
       "      <td>0</td>\n",
       "      <td>5.77</td>\n",
       "      <td>5.77</td>\n",
       "      <td>5.77</td>\n",
       "      <td>60.4</td>\n",
       "      <td>60.4</td>\n",
       "      <td>60.4</td>\n",
       "      <td>-0.06</td>\n",
       "      <td>0.877336</td>\n",
       "      <td>0.542857</td>\n",
       "    </tr>\n",
       "    <tr>\n",
       "      <th>86</th>\n",
       "      <td>AgCrO3</td>\n",
       "      <td>Ag</td>\n",
       "      <td>Cr</td>\n",
       "      <td>False</td>\n",
       "      <td>1</td>\n",
       "      <td>5</td>\n",
       "      <td>1.28</td>\n",
       "      <td>0.49</td>\n",
       "      <td>orthorhombic</td>\n",
       "      <td>-1.24</td>\n",
       "      <td>0.15</td>\n",
       "      <td>0.39</td>\n",
       "      <td>10.55</td>\n",
       "      <td>0</td>\n",
       "      <td>5.36</td>\n",
       "      <td>5.4</td>\n",
       "      <td>7.29</td>\n",
       "      <td>90</td>\n",
       "      <td>90</td>\n",
       "      <td>90</td>\n",
       "      <td>0.04</td>\n",
       "      <td>1.002670</td>\n",
       "      <td>0.350000</td>\n",
       "    </tr>\n",
       "    <tr>\n",
       "      <th>100</th>\n",
       "      <td>AgIrO3</td>\n",
       "      <td>Ag</td>\n",
       "      <td>Ir</td>\n",
       "      <td>False</td>\n",
       "      <td>1</td>\n",
       "      <td>5</td>\n",
       "      <td>1.28</td>\n",
       "      <td>0.57</td>\n",
       "      <td>rhombohedral</td>\n",
       "      <td>-0.59</td>\n",
       "      <td>0.15</td>\n",
       "      <td>0.01</td>\n",
       "      <td>11.31</td>\n",
       "      <td>0</td>\n",
       "      <td>5.37</td>\n",
       "      <td>5.37</td>\n",
       "      <td>5.37</td>\n",
       "      <td>61.6</td>\n",
       "      <td>61.6</td>\n",
       "      <td>61.6</td>\n",
       "      <td>1.23</td>\n",
       "      <td>0.961952</td>\n",
       "      <td>0.407143</td>\n",
       "    </tr>\n",
       "    <tr>\n",
       "      <th>...</th>\n",
       "      <td>...</td>\n",
       "      <td>...</td>\n",
       "      <td>...</td>\n",
       "      <td>...</td>\n",
       "      <td>...</td>\n",
       "      <td>...</td>\n",
       "      <td>...</td>\n",
       "      <td>...</td>\n",
       "      <td>...</td>\n",
       "      <td>...</td>\n",
       "      <td>...</td>\n",
       "      <td>...</td>\n",
       "      <td>...</td>\n",
       "      <td>...</td>\n",
       "      <td>...</td>\n",
       "      <td>...</td>\n",
       "      <td>...</td>\n",
       "      <td>...</td>\n",
       "      <td>...</td>\n",
       "      <td>...</td>\n",
       "      <td>...</td>\n",
       "      <td>...</td>\n",
       "      <td>...</td>\n",
       "    </tr>\n",
       "    <tr>\n",
       "      <th>5314</th>\n",
       "      <td>ZrTaO3</td>\n",
       "      <td>Zr</td>\n",
       "      <td>Ta</td>\n",
       "      <td>False</td>\n",
       "      <td>1</td>\n",
       "      <td>5</td>\n",
       "      <td>0.89</td>\n",
       "      <td>0.64</td>\n",
       "      <td>cubic</td>\n",
       "      <td>-2.14</td>\n",
       "      <td>0.92</td>\n",
       "      <td>0.37</td>\n",
       "      <td>12.68</td>\n",
       "      <td>0</td>\n",
       "      <td>3.99</td>\n",
       "      <td>3.99</td>\n",
       "      <td>3.99</td>\n",
       "      <td>90</td>\n",
       "      <td>90</td>\n",
       "      <td>90</td>\n",
       "      <td>2.08</td>\n",
       "      <td>0.793762</td>\n",
       "      <td>0.457143</td>\n",
       "    </tr>\n",
       "    <tr>\n",
       "      <th>5319</th>\n",
       "      <td>ZrTiO3</td>\n",
       "      <td>Zr</td>\n",
       "      <td>Ti</td>\n",
       "      <td>False</td>\n",
       "      <td>2</td>\n",
       "      <td>4</td>\n",
       "      <td>0.89</td>\n",
       "      <td>0.61</td>\n",
       "      <td>cubic</td>\n",
       "      <td>-2.54</td>\n",
       "      <td>0.74</td>\n",
       "      <td>0.18</td>\n",
       "      <td>11.33</td>\n",
       "      <td>0</td>\n",
       "      <td>3.84</td>\n",
       "      <td>3.84</td>\n",
       "      <td>3.84</td>\n",
       "      <td>90</td>\n",
       "      <td>90</td>\n",
       "      <td>90</td>\n",
       "      <td>2.82</td>\n",
       "      <td>0.805609</td>\n",
       "      <td>0.435714</td>\n",
       "    </tr>\n",
       "    <tr>\n",
       "      <th>5322</th>\n",
       "      <td>ZrUO3</td>\n",
       "      <td>Zr</td>\n",
       "      <td>U</td>\n",
       "      <td>False</td>\n",
       "      <td>1</td>\n",
       "      <td>5</td>\n",
       "      <td>0.89</td>\n",
       "      <td>0.76</td>\n",
       "      <td>orthorhombic</td>\n",
       "      <td>-3.05</td>\n",
       "      <td>0.35</td>\n",
       "      <td>0.64</td>\n",
       "      <td>14.51</td>\n",
       "      <td>0</td>\n",
       "      <td>6.1</td>\n",
       "      <td>6.36</td>\n",
       "      <td>7.48</td>\n",
       "      <td>90</td>\n",
       "      <td>90</td>\n",
       "      <td>90</td>\n",
       "      <td>-1.56</td>\n",
       "      <td>0.749664</td>\n",
       "      <td>0.542857</td>\n",
       "    </tr>\n",
       "    <tr>\n",
       "      <th>5323</th>\n",
       "      <td>ZrVO3</td>\n",
       "      <td>Zr</td>\n",
       "      <td>V</td>\n",
       "      <td>False</td>\n",
       "      <td>1</td>\n",
       "      <td>5</td>\n",
       "      <td>0.89</td>\n",
       "      <td>0.54</td>\n",
       "      <td>cubic</td>\n",
       "      <td>-2.21</td>\n",
       "      <td>0.88</td>\n",
       "      <td>0.54</td>\n",
       "      <td>11.09</td>\n",
       "      <td>0</td>\n",
       "      <td>3.81</td>\n",
       "      <td>3.81</td>\n",
       "      <td>3.81</td>\n",
       "      <td>90</td>\n",
       "      <td>90</td>\n",
       "      <td>90</td>\n",
       "      <td>2.4</td>\n",
       "      <td>0.834678</td>\n",
       "      <td>0.385714</td>\n",
       "    </tr>\n",
       "    <tr>\n",
       "      <th>5324</th>\n",
       "      <td>ZrWO3</td>\n",
       "      <td>Zr</td>\n",
       "      <td>W</td>\n",
       "      <td>False</td>\n",
       "      <td>1</td>\n",
       "      <td>5</td>\n",
       "      <td>0.89</td>\n",
       "      <td>0.62</td>\n",
       "      <td>cubic</td>\n",
       "      <td>-1.64</td>\n",
       "      <td>1.2</td>\n",
       "      <td>0.34</td>\n",
       "      <td>12.2</td>\n",
       "      <td>0</td>\n",
       "      <td>3.94</td>\n",
       "      <td>3.94</td>\n",
       "      <td>3.94</td>\n",
       "      <td>90</td>\n",
       "      <td>90</td>\n",
       "      <td>90</td>\n",
       "      <td>0.19</td>\n",
       "      <td>0.801621</td>\n",
       "      <td>0.442857</td>\n",
       "    </tr>\n",
       "  </tbody>\n",
       "</table>\n",
       "<p>2213 rows × 23 columns</p>\n",
       "</div>"
      ],
      "text/plain": [
       "     Chemical formula   A   B  In literature Valence A Valence B  \\\n",
       "76             AgAsO3  Ag  As          False         1         5   \n",
       "78              AgBO3  Ag   B          False         3         3   \n",
       "81             AgBiO3  Ag  Bi          False         1         5   \n",
       "86             AgCrO3  Ag  Cr          False         1         5   \n",
       "100            AgIrO3  Ag  Ir          False         1         5   \n",
       "...               ...  ..  ..            ...       ...       ...   \n",
       "5314           ZrTaO3  Zr  Ta          False         1         5   \n",
       "5319           ZrTiO3  Zr  Ti          False         2         4   \n",
       "5322            ZrUO3  Zr   U          False         1         5   \n",
       "5323            ZrVO3  Zr   V          False         1         5   \n",
       "5324            ZrWO3  Zr   W          False         1         5   \n",
       "\n",
       "      Radius A [ang]  Radius B [ang] Lowest distortion  \\\n",
       "76              1.28            0.46        tetragonal   \n",
       "78              0.75            0.27             cubic   \n",
       "81              1.28            0.76      rhombohedral   \n",
       "86              1.28            0.49      orthorhombic   \n",
       "100             1.28            0.57      rhombohedral   \n",
       "...              ...             ...               ...   \n",
       "5314            0.89            0.64             cubic   \n",
       "5319            0.89            0.61             cubic   \n",
       "5322            0.89            0.76      orthorhombic   \n",
       "5323            0.89            0.54             cubic   \n",
       "5324            0.89            0.62             cubic   \n",
       "\n",
       "     Formation energy [eV/atom] Stability [eV/atom] Magnetic moment [mu_B]  \\\n",
       "76                        -0.82                0.29                      -   \n",
       "78                        -0.35                1.07                      -   \n",
       "81                        -0.82                0.06                      -   \n",
       "86                        -1.24                0.15                   0.39   \n",
       "100                       -0.59                0.15                   0.01   \n",
       "...                         ...                 ...                    ...   \n",
       "5314                      -2.14                0.92                   0.37   \n",
       "5319                      -2.54                0.74                   0.18   \n",
       "5322                      -3.05                0.35                   0.64   \n",
       "5323                      -2.21                0.88                   0.54   \n",
       "5324                      -1.64                 1.2                   0.34   \n",
       "\n",
       "     Volume per atom [A^3/atom] Band gap [eV] a [ang] b [ang] c [ang]  \\\n",
       "76                        11.37             0    3.57    3.57    4.46   \n",
       "78                         8.14             0    3.44    3.44    3.44   \n",
       "81                        13.66             0    5.77    5.77    5.77   \n",
       "86                        10.55             0    5.36     5.4    7.29   \n",
       "100                       11.31             0    5.37    5.37    5.37   \n",
       "...                         ...           ...     ...     ...     ...   \n",
       "5314                      12.68             0    3.99    3.99    3.99   \n",
       "5319                      11.33             0    3.84    3.84    3.84   \n",
       "5322                      14.51             0     6.1    6.36    7.48   \n",
       "5323                      11.09             0    3.81    3.81    3.81   \n",
       "5324                       12.2             0    3.94    3.94    3.94   \n",
       "\n",
       "     alpha [deg] beta [deg] gamma [deg] Vacancy energy [eV/O atom]  \\\n",
       "76            90         90          90                       0.53   \n",
       "78            90         90          90                      -2.64   \n",
       "81          60.4       60.4        60.4                      -0.06   \n",
       "86            90         90          90                       0.04   \n",
       "100         61.6       61.6        61.6                       1.23   \n",
       "...          ...        ...         ...                        ...   \n",
       "5314          90         90          90                       2.08   \n",
       "5319          90         90          90                       2.82   \n",
       "5322          90         90          90                      -1.56   \n",
       "5323          90         90          90                        2.4   \n",
       "5324          90         90          90                       0.19   \n",
       "\n",
       "      Goldschmidt Tolerance  Octahedral factor  \n",
       "76                 1.018842           0.328571  \n",
       "78                 0.910347           0.192857  \n",
       "81                 0.877336           0.542857  \n",
       "86                 1.002670           0.350000  \n",
       "100                0.961952           0.407143  \n",
       "...                     ...                ...  \n",
       "5314               0.793762           0.457143  \n",
       "5319               0.805609           0.435714  \n",
       "5322               0.749664           0.542857  \n",
       "5323               0.834678           0.385714  \n",
       "5324               0.801621           0.442857  \n",
       "\n",
       "[2213 rows x 23 columns]"
      ]
     },
     "execution_count": 14,
     "metadata": {},
     "output_type": "execute_result"
    }
   ],
   "source": [
    "df"
   ]
  },
  {
   "cell_type": "markdown",
   "metadata": {},
   "source": [
    "### Preprocessing"
   ]
  },
  {
   "cell_type": "code",
   "execution_count": 12,
   "metadata": {},
   "outputs": [],
   "source": [
    "for i in df.columns:\n",
    "    df=df[df[i]!='-']"
   ]
  },
  {
   "cell_type": "code",
   "execution_count": 13,
   "metadata": {},
   "outputs": [
    {
     "data": {
      "text/plain": [
       "cubic           2505\n",
       "orthorhombic    1157\n",
       "rhombohedral     234\n",
       "tetragonal        71\n",
       "Name: Lowest distortion, dtype: int64"
      ]
     },
     "execution_count": 13,
     "metadata": {},
     "output_type": "execute_result"
    }
   ],
   "source": [
    "df['Lowest distortion'].value_counts()"
   ]
  },
  {
   "cell_type": "code",
   "execution_count": 14,
   "metadata": {},
   "outputs": [],
   "source": [
    "categorical = df.select_dtypes(include=[np.object])\n",
    "\n",
    "numeric = df.select_dtypes(include=[np.int,np.float])\n",
    "numeric_cols = numeric.columns"
   ]
  },
  {
   "cell_type": "code",
   "execution_count": 15,
   "metadata": {},
   "outputs": [],
   "source": [
    "non_cat=categorical.drop(['Chemical formula','A','B','Valence A','Valence B','Lowest distortion'],axis=1)"
   ]
  },
  {
   "cell_type": "code",
   "execution_count": 16,
   "metadata": {},
   "outputs": [],
   "source": [
    "for i in non_cat.columns:\n",
    "    df[i]=pd.to_numeric(df[i],downcast='float')\n",
    "    non_cat[i]=pd.to_numeric(non_cat[i],downcast='float')"
   ]
  },
  {
   "cell_type": "code",
   "execution_count": 17,
   "metadata": {},
   "outputs": [],
   "source": [
    "numeric=pd.concat([numeric,non_cat],axis=1)"
   ]
  },
  {
   "cell_type": "code",
   "execution_count": 18,
   "metadata": {},
   "outputs": [
    {
     "data": {
      "text/html": [
       "<div>\n",
       "<style scoped>\n",
       "    .dataframe tbody tr th:only-of-type {\n",
       "        vertical-align: middle;\n",
       "    }\n",
       "\n",
       "    .dataframe tbody tr th {\n",
       "        vertical-align: top;\n",
       "    }\n",
       "\n",
       "    .dataframe thead th {\n",
       "        text-align: right;\n",
       "    }\n",
       "</style>\n",
       "<table border=\"1\" class=\"dataframe\">\n",
       "  <thead>\n",
       "    <tr style=\"text-align: right;\">\n",
       "      <th></th>\n",
       "      <th>Radius A [ang]</th>\n",
       "      <th>Radius B [ang]</th>\n",
       "      <th>Goldschmidt Tolerance</th>\n",
       "      <th>Octahedral factor</th>\n",
       "      <th>Formation energy [eV/atom]</th>\n",
       "      <th>Stability [eV/atom]</th>\n",
       "      <th>Magnetic moment [mu_B]</th>\n",
       "      <th>Volume per atom [A^3/atom]</th>\n",
       "      <th>Band gap [eV]</th>\n",
       "      <th>a [ang]</th>\n",
       "      <th>b [ang]</th>\n",
       "      <th>c [ang]</th>\n",
       "      <th>alpha [deg]</th>\n",
       "      <th>beta [deg]</th>\n",
       "      <th>gamma [deg]</th>\n",
       "      <th>Vacancy energy [eV/O atom]</th>\n",
       "    </tr>\n",
       "  </thead>\n",
       "  <tbody>\n",
       "    <tr>\n",
       "      <th>0</th>\n",
       "      <td>1.12</td>\n",
       "      <td>1.12</td>\n",
       "      <td>0.707107</td>\n",
       "      <td>0.800000</td>\n",
       "      <td>-2.73</td>\n",
       "      <td>0.85</td>\n",
       "      <td>0.00</td>\n",
       "      <td>20.84</td>\n",
       "      <td>0.33</td>\n",
       "      <td>4.71</td>\n",
       "      <td>4.71</td>\n",
       "      <td>4.71</td>\n",
       "      <td>90.0</td>\n",
       "      <td>90.0</td>\n",
       "      <td>90.0</td>\n",
       "      <td>3.15</td>\n",
       "    </tr>\n",
       "    <tr>\n",
       "      <th>1</th>\n",
       "      <td>1.12</td>\n",
       "      <td>0.95</td>\n",
       "      <td>0.758259</td>\n",
       "      <td>0.678571</td>\n",
       "      <td>-1.96</td>\n",
       "      <td>-0.06</td>\n",
       "      <td>0.00</td>\n",
       "      <td>14.49</td>\n",
       "      <td>0.00</td>\n",
       "      <td>5.78</td>\n",
       "      <td>6.08</td>\n",
       "      <td>8.25</td>\n",
       "      <td>90.0</td>\n",
       "      <td>90.0</td>\n",
       "      <td>90.0</td>\n",
       "      <td>0.82</td>\n",
       "    </tr>\n",
       "    <tr>\n",
       "      <th>2</th>\n",
       "      <td>1.12</td>\n",
       "      <td>0.54</td>\n",
       "      <td>0.918510</td>\n",
       "      <td>0.385714</td>\n",
       "      <td>-3.53</td>\n",
       "      <td>-0.11</td>\n",
       "      <td>0.00</td>\n",
       "      <td>11.49</td>\n",
       "      <td>4.31</td>\n",
       "      <td>3.86</td>\n",
       "      <td>3.86</td>\n",
       "      <td>3.86</td>\n",
       "      <td>90.0</td>\n",
       "      <td>90.0</td>\n",
       "      <td>90.0</td>\n",
       "      <td>6.70</td>\n",
       "    </tr>\n",
       "    <tr>\n",
       "      <th>3</th>\n",
       "      <td>1.12</td>\n",
       "      <td>0.52</td>\n",
       "      <td>0.928078</td>\n",
       "      <td>0.371429</td>\n",
       "      <td>-2.40</td>\n",
       "      <td>0.22</td>\n",
       "      <td>0.00</td>\n",
       "      <td>14.36</td>\n",
       "      <td>0.00</td>\n",
       "      <td>5.78</td>\n",
       "      <td>6.01</td>\n",
       "      <td>8.26</td>\n",
       "      <td>90.0</td>\n",
       "      <td>90.0</td>\n",
       "      <td>90.0</td>\n",
       "      <td>3.63</td>\n",
       "    </tr>\n",
       "    <tr>\n",
       "      <th>4</th>\n",
       "      <td>1.12</td>\n",
       "      <td>0.93</td>\n",
       "      <td>0.764768</td>\n",
       "      <td>0.664286</td>\n",
       "      <td>-2.01</td>\n",
       "      <td>-0.06</td>\n",
       "      <td>0.00</td>\n",
       "      <td>15.19</td>\n",
       "      <td>0.75</td>\n",
       "      <td>5.90</td>\n",
       "      <td>6.75</td>\n",
       "      <td>7.63</td>\n",
       "      <td>90.0</td>\n",
       "      <td>90.0</td>\n",
       "      <td>90.0</td>\n",
       "      <td>0.81</td>\n",
       "    </tr>\n",
       "    <tr>\n",
       "      <th>...</th>\n",
       "      <td>...</td>\n",
       "      <td>...</td>\n",
       "      <td>...</td>\n",
       "      <td>...</td>\n",
       "      <td>...</td>\n",
       "      <td>...</td>\n",
       "      <td>...</td>\n",
       "      <td>...</td>\n",
       "      <td>...</td>\n",
       "      <td>...</td>\n",
       "      <td>...</td>\n",
       "      <td>...</td>\n",
       "      <td>...</td>\n",
       "      <td>...</td>\n",
       "      <td>...</td>\n",
       "      <td>...</td>\n",
       "    </tr>\n",
       "    <tr>\n",
       "      <th>5324</th>\n",
       "      <td>0.89</td>\n",
       "      <td>0.62</td>\n",
       "      <td>0.801621</td>\n",
       "      <td>0.442857</td>\n",
       "      <td>-1.64</td>\n",
       "      <td>1.20</td>\n",
       "      <td>0.34</td>\n",
       "      <td>12.20</td>\n",
       "      <td>0.00</td>\n",
       "      <td>3.94</td>\n",
       "      <td>3.94</td>\n",
       "      <td>3.94</td>\n",
       "      <td>90.0</td>\n",
       "      <td>90.0</td>\n",
       "      <td>90.0</td>\n",
       "      <td>0.19</td>\n",
       "    </tr>\n",
       "    <tr>\n",
       "      <th>5325</th>\n",
       "      <td>0.89</td>\n",
       "      <td>0.90</td>\n",
       "      <td>0.704032</td>\n",
       "      <td>0.642857</td>\n",
       "      <td>-2.13</td>\n",
       "      <td>1.42</td>\n",
       "      <td>0.20</td>\n",
       "      <td>15.28</td>\n",
       "      <td>0.00</td>\n",
       "      <td>4.24</td>\n",
       "      <td>4.24</td>\n",
       "      <td>4.24</td>\n",
       "      <td>90.0</td>\n",
       "      <td>90.0</td>\n",
       "      <td>90.0</td>\n",
       "      <td>-4.92</td>\n",
       "    </tr>\n",
       "    <tr>\n",
       "      <th>5326</th>\n",
       "      <td>0.89</td>\n",
       "      <td>0.95</td>\n",
       "      <td>0.689053</td>\n",
       "      <td>0.678571</td>\n",
       "      <td>-3.46</td>\n",
       "      <td>0.21</td>\n",
       "      <td>0.00</td>\n",
       "      <td>13.14</td>\n",
       "      <td>4.01</td>\n",
       "      <td>5.56</td>\n",
       "      <td>5.73</td>\n",
       "      <td>8.25</td>\n",
       "      <td>90.0</td>\n",
       "      <td>90.0</td>\n",
       "      <td>90.0</td>\n",
       "      <td>-6.18</td>\n",
       "    </tr>\n",
       "    <tr>\n",
       "      <th>5327</th>\n",
       "      <td>0.89</td>\n",
       "      <td>0.74</td>\n",
       "      <td>0.756670</td>\n",
       "      <td>0.528571</td>\n",
       "      <td>-1.63</td>\n",
       "      <td>1.21</td>\n",
       "      <td>0.00</td>\n",
       "      <td>10.80</td>\n",
       "      <td>0.00</td>\n",
       "      <td>3.78</td>\n",
       "      <td>3.78</td>\n",
       "      <td>3.78</td>\n",
       "      <td>90.0</td>\n",
       "      <td>90.0</td>\n",
       "      <td>90.0</td>\n",
       "      <td>-0.76</td>\n",
       "    </tr>\n",
       "    <tr>\n",
       "      <th>5328</th>\n",
       "      <td>0.89</td>\n",
       "      <td>0.72</td>\n",
       "      <td>0.763809</td>\n",
       "      <td>0.514286</td>\n",
       "      <td>-2.38</td>\n",
       "      <td>0.91</td>\n",
       "      <td>0.38</td>\n",
       "      <td>13.92</td>\n",
       "      <td>0.00</td>\n",
       "      <td>4.11</td>\n",
       "      <td>4.11</td>\n",
       "      <td>4.11</td>\n",
       "      <td>90.0</td>\n",
       "      <td>90.0</td>\n",
       "      <td>90.0</td>\n",
       "      <td>3.22</td>\n",
       "    </tr>\n",
       "  </tbody>\n",
       "</table>\n",
       "<p>3967 rows × 16 columns</p>\n",
       "</div>"
      ],
      "text/plain": [
       "      Radius A [ang]  Radius B [ang]  Goldschmidt Tolerance  \\\n",
       "0               1.12            1.12               0.707107   \n",
       "1               1.12            0.95               0.758259   \n",
       "2               1.12            0.54               0.918510   \n",
       "3               1.12            0.52               0.928078   \n",
       "4               1.12            0.93               0.764768   \n",
       "...              ...             ...                    ...   \n",
       "5324            0.89            0.62               0.801621   \n",
       "5325            0.89            0.90               0.704032   \n",
       "5326            0.89            0.95               0.689053   \n",
       "5327            0.89            0.74               0.756670   \n",
       "5328            0.89            0.72               0.763809   \n",
       "\n",
       "      Octahedral factor  Formation energy [eV/atom]  Stability [eV/atom]  \\\n",
       "0              0.800000                       -2.73                 0.85   \n",
       "1              0.678571                       -1.96                -0.06   \n",
       "2              0.385714                       -3.53                -0.11   \n",
       "3              0.371429                       -2.40                 0.22   \n",
       "4              0.664286                       -2.01                -0.06   \n",
       "...                 ...                         ...                  ...   \n",
       "5324           0.442857                       -1.64                 1.20   \n",
       "5325           0.642857                       -2.13                 1.42   \n",
       "5326           0.678571                       -3.46                 0.21   \n",
       "5327           0.528571                       -1.63                 1.21   \n",
       "5328           0.514286                       -2.38                 0.91   \n",
       "\n",
       "      Magnetic moment [mu_B]  Volume per atom [A^3/atom]  Band gap [eV]  \\\n",
       "0                       0.00                       20.84           0.33   \n",
       "1                       0.00                       14.49           0.00   \n",
       "2                       0.00                       11.49           4.31   \n",
       "3                       0.00                       14.36           0.00   \n",
       "4                       0.00                       15.19           0.75   \n",
       "...                      ...                         ...            ...   \n",
       "5324                    0.34                       12.20           0.00   \n",
       "5325                    0.20                       15.28           0.00   \n",
       "5326                    0.00                       13.14           4.01   \n",
       "5327                    0.00                       10.80           0.00   \n",
       "5328                    0.38                       13.92           0.00   \n",
       "\n",
       "      a [ang]  b [ang]  c [ang]  alpha [deg]  beta [deg]  gamma [deg]  \\\n",
       "0        4.71     4.71     4.71         90.0        90.0         90.0   \n",
       "1        5.78     6.08     8.25         90.0        90.0         90.0   \n",
       "2        3.86     3.86     3.86         90.0        90.0         90.0   \n",
       "3        5.78     6.01     8.26         90.0        90.0         90.0   \n",
       "4        5.90     6.75     7.63         90.0        90.0         90.0   \n",
       "...       ...      ...      ...          ...         ...          ...   \n",
       "5324     3.94     3.94     3.94         90.0        90.0         90.0   \n",
       "5325     4.24     4.24     4.24         90.0        90.0         90.0   \n",
       "5326     5.56     5.73     8.25         90.0        90.0         90.0   \n",
       "5327     3.78     3.78     3.78         90.0        90.0         90.0   \n",
       "5328     4.11     4.11     4.11         90.0        90.0         90.0   \n",
       "\n",
       "      Vacancy energy [eV/O atom]  \n",
       "0                           3.15  \n",
       "1                           0.82  \n",
       "2                           6.70  \n",
       "3                           3.63  \n",
       "4                           0.81  \n",
       "...                          ...  \n",
       "5324                        0.19  \n",
       "5325                       -4.92  \n",
       "5326                       -6.18  \n",
       "5327                       -0.76  \n",
       "5328                        3.22  \n",
       "\n",
       "[3967 rows x 16 columns]"
      ]
     },
     "execution_count": 18,
     "metadata": {},
     "output_type": "execute_result"
    }
   ],
   "source": [
    "numeric"
   ]
  },
  {
   "cell_type": "code",
   "execution_count": 19,
   "metadata": {},
   "outputs": [],
   "source": [
    "categorical=categorical.drop(['Formation energy [eV/atom]','Stability [eV/atom]','Magnetic moment [mu_B]','Volume per atom [A^3/atom]','Band gap [eV]','a [ang]','b [ang]','c [ang]','alpha [deg]','beta [deg]','gamma [deg]','Vacancy energy [eV/O atom]'],axis=1)"
   ]
  },
  {
   "cell_type": "code",
   "execution_count": 20,
   "metadata": {},
   "outputs": [
    {
     "name": "stdout",
     "output_type": "stream",
     "text": [
      "no of categories in Valence A are ['element not in BV' 'not balanced' '1' '3' '2' '4' '5']\n",
      "no of categories in Valence B are ['element not in BV' 'not balanced' '5' '3' '4' '2' '1']\n",
      "no of categories in Lowest distortion are ['cubic' 'orthorhombic' 'rhombohedral' 'tetragonal']\n"
     ]
    }
   ],
   "source": [
    "for i in categorical.columns.drop(['Chemical formula','A','B']):\n",
    "    print('no of categories in {} are {}'.format(i, df[i].unique()))"
   ]
  },
  {
   "cell_type": "code",
   "execution_count": 21,
   "metadata": {},
   "outputs": [],
   "source": [
    "# Mostly uncorrelated except negative correlation between stability and a,b,c\n",
    "# a,b and c and alpha,beta and gamma are strongly correlated\n",
    "# What should be done about the correlation"
   ]
  },
  {
   "cell_type": "code",
   "execution_count": 22,
   "metadata": {},
   "outputs": [
    {
     "data": {
      "text/html": [
       "<style  type=\"text/css\" >\n",
       "    #T_c6ba56b8_a3e8_11ea_aa90_30e37ac86bc0row0_col0 {\n",
       "            background-color:  #b40426;\n",
       "            color:  #f1f1f1;\n",
       "        }    #T_c6ba56b8_a3e8_11ea_aa90_30e37ac86bc0row0_col1 {\n",
       "            background-color:  #b2ccfb;\n",
       "            color:  #000000;\n",
       "        }    #T_c6ba56b8_a3e8_11ea_aa90_30e37ac86bc0row0_col2 {\n",
       "            background-color:  #da5a49;\n",
       "            color:  #000000;\n",
       "        }    #T_c6ba56b8_a3e8_11ea_aa90_30e37ac86bc0row0_col3 {\n",
       "            background-color:  #b2ccfb;\n",
       "            color:  #000000;\n",
       "        }    #T_c6ba56b8_a3e8_11ea_aa90_30e37ac86bc0row0_col4 {\n",
       "            background-color:  #3c4ec2;\n",
       "            color:  #f1f1f1;\n",
       "        }    #T_c6ba56b8_a3e8_11ea_aa90_30e37ac86bc0row0_col5 {\n",
       "            background-color:  #506bda;\n",
       "            color:  #000000;\n",
       "        }    #T_c6ba56b8_a3e8_11ea_aa90_30e37ac86bc0row0_col6 {\n",
       "            background-color:  #3b4cc0;\n",
       "            color:  #f1f1f1;\n",
       "        }    #T_c6ba56b8_a3e8_11ea_aa90_30e37ac86bc0row0_col7 {\n",
       "            background-color:  #b5cdfa;\n",
       "            color:  #000000;\n",
       "        }    #T_c6ba56b8_a3e8_11ea_aa90_30e37ac86bc0row0_col8 {\n",
       "            background-color:  #c6d6f1;\n",
       "            color:  #000000;\n",
       "        }    #T_c6ba56b8_a3e8_11ea_aa90_30e37ac86bc0row0_col9 {\n",
       "            background-color:  #edd2c3;\n",
       "            color:  #000000;\n",
       "        }    #T_c6ba56b8_a3e8_11ea_aa90_30e37ac86bc0row0_col10 {\n",
       "            background-color:  #edd2c3;\n",
       "            color:  #000000;\n",
       "        }    #T_c6ba56b8_a3e8_11ea_aa90_30e37ac86bc0row0_col11 {\n",
       "            background-color:  #edd2c3;\n",
       "            color:  #000000;\n",
       "        }    #T_c6ba56b8_a3e8_11ea_aa90_30e37ac86bc0row0_col12 {\n",
       "            background-color:  #9ebeff;\n",
       "            color:  #000000;\n",
       "        }    #T_c6ba56b8_a3e8_11ea_aa90_30e37ac86bc0row0_col13 {\n",
       "            background-color:  #9ebeff;\n",
       "            color:  #000000;\n",
       "        }    #T_c6ba56b8_a3e8_11ea_aa90_30e37ac86bc0row0_col14 {\n",
       "            background-color:  #9ebeff;\n",
       "            color:  #000000;\n",
       "        }    #T_c6ba56b8_a3e8_11ea_aa90_30e37ac86bc0row0_col15 {\n",
       "            background-color:  #f4c6af;\n",
       "            color:  #000000;\n",
       "        }    #T_c6ba56b8_a3e8_11ea_aa90_30e37ac86bc0row1_col0 {\n",
       "            background-color:  #aec9fc;\n",
       "            color:  #000000;\n",
       "        }    #T_c6ba56b8_a3e8_11ea_aa90_30e37ac86bc0row1_col1 {\n",
       "            background-color:  #b40426;\n",
       "            color:  #f1f1f1;\n",
       "        }    #T_c6ba56b8_a3e8_11ea_aa90_30e37ac86bc0row1_col2 {\n",
       "            background-color:  #3b4cc0;\n",
       "            color:  #f1f1f1;\n",
       "        }    #T_c6ba56b8_a3e8_11ea_aa90_30e37ac86bc0row1_col3 {\n",
       "            background-color:  #b40426;\n",
       "            color:  #f1f1f1;\n",
       "        }    #T_c6ba56b8_a3e8_11ea_aa90_30e37ac86bc0row1_col4 {\n",
       "            background-color:  #8caffe;\n",
       "            color:  #000000;\n",
       "        }    #T_c6ba56b8_a3e8_11ea_aa90_30e37ac86bc0row1_col5 {\n",
       "            background-color:  #ccd9ed;\n",
       "            color:  #000000;\n",
       "        }    #T_c6ba56b8_a3e8_11ea_aa90_30e37ac86bc0row1_col6 {\n",
       "            background-color:  #5e7de7;\n",
       "            color:  #000000;\n",
       "        }    #T_c6ba56b8_a3e8_11ea_aa90_30e37ac86bc0row1_col7 {\n",
       "            background-color:  #e97a5f;\n",
       "            color:  #000000;\n",
       "        }    #T_c6ba56b8_a3e8_11ea_aa90_30e37ac86bc0row1_col8 {\n",
       "            background-color:  #bbd1f8;\n",
       "            color:  #000000;\n",
       "        }    #T_c6ba56b8_a3e8_11ea_aa90_30e37ac86bc0row1_col9 {\n",
       "            background-color:  #f5c4ac;\n",
       "            color:  #000000;\n",
       "        }    #T_c6ba56b8_a3e8_11ea_aa90_30e37ac86bc0row1_col10 {\n",
       "            background-color:  #f3c7b1;\n",
       "            color:  #000000;\n",
       "        }    #T_c6ba56b8_a3e8_11ea_aa90_30e37ac86bc0row1_col11 {\n",
       "            background-color:  #edd1c2;\n",
       "            color:  #000000;\n",
       "        }    #T_c6ba56b8_a3e8_11ea_aa90_30e37ac86bc0row1_col12 {\n",
       "            background-color:  #82a6fb;\n",
       "            color:  #000000;\n",
       "        }    #T_c6ba56b8_a3e8_11ea_aa90_30e37ac86bc0row1_col13 {\n",
       "            background-color:  #81a4fb;\n",
       "            color:  #000000;\n",
       "        }    #T_c6ba56b8_a3e8_11ea_aa90_30e37ac86bc0row1_col14 {\n",
       "            background-color:  #82a6fb;\n",
       "            color:  #000000;\n",
       "        }    #T_c6ba56b8_a3e8_11ea_aa90_30e37ac86bc0row1_col15 {\n",
       "            background-color:  #3b4cc0;\n",
       "            color:  #f1f1f1;\n",
       "        }    #T_c6ba56b8_a3e8_11ea_aa90_30e37ac86bc0row2_col0 {\n",
       "            background-color:  #dc5d4a;\n",
       "            color:  #000000;\n",
       "        }    #T_c6ba56b8_a3e8_11ea_aa90_30e37ac86bc0row2_col1 {\n",
       "            background-color:  #3b4cc0;\n",
       "            color:  #f1f1f1;\n",
       "        }    #T_c6ba56b8_a3e8_11ea_aa90_30e37ac86bc0row2_col2 {\n",
       "            background-color:  #b40426;\n",
       "            color:  #f1f1f1;\n",
       "        }    #T_c6ba56b8_a3e8_11ea_aa90_30e37ac86bc0row2_col3 {\n",
       "            background-color:  #3b4cc0;\n",
       "            color:  #f1f1f1;\n",
       "        }    #T_c6ba56b8_a3e8_11ea_aa90_30e37ac86bc0row2_col4 {\n",
       "            background-color:  #5d7ce6;\n",
       "            color:  #000000;\n",
       "        }    #T_c6ba56b8_a3e8_11ea_aa90_30e37ac86bc0row2_col5 {\n",
       "            background-color:  #5875e1;\n",
       "            color:  #000000;\n",
       "        }    #T_c6ba56b8_a3e8_11ea_aa90_30e37ac86bc0row2_col6 {\n",
       "            background-color:  #5470de;\n",
       "            color:  #000000;\n",
       "        }    #T_c6ba56b8_a3e8_11ea_aa90_30e37ac86bc0row2_col7 {\n",
       "            background-color:  #3b4cc0;\n",
       "            color:  #f1f1f1;\n",
       "        }    #T_c6ba56b8_a3e8_11ea_aa90_30e37ac86bc0row2_col8 {\n",
       "            background-color:  #b9d0f9;\n",
       "            color:  #000000;\n",
       "        }    #T_c6ba56b8_a3e8_11ea_aa90_30e37ac86bc0row2_col9 {\n",
       "            background-color:  #c0d4f5;\n",
       "            color:  #000000;\n",
       "        }    #T_c6ba56b8_a3e8_11ea_aa90_30e37ac86bc0row2_col10 {\n",
       "            background-color:  #c5d6f2;\n",
       "            color:  #000000;\n",
       "        }    #T_c6ba56b8_a3e8_11ea_aa90_30e37ac86bc0row2_col11 {\n",
       "            background-color:  #cfdaea;\n",
       "            color:  #000000;\n",
       "        }    #T_c6ba56b8_a3e8_11ea_aa90_30e37ac86bc0row2_col12 {\n",
       "            background-color:  #a6c4fe;\n",
       "            color:  #000000;\n",
       "        }    #T_c6ba56b8_a3e8_11ea_aa90_30e37ac86bc0row2_col13 {\n",
       "            background-color:  #a6c4fe;\n",
       "            color:  #000000;\n",
       "        }    #T_c6ba56b8_a3e8_11ea_aa90_30e37ac86bc0row2_col14 {\n",
       "            background-color:  #a6c4fe;\n",
       "            color:  #000000;\n",
       "        }    #T_c6ba56b8_a3e8_11ea_aa90_30e37ac86bc0row2_col15 {\n",
       "            background-color:  #f49a7b;\n",
       "            color:  #000000;\n",
       "        }    #T_c6ba56b8_a3e8_11ea_aa90_30e37ac86bc0row3_col0 {\n",
       "            background-color:  #aec9fc;\n",
       "            color:  #000000;\n",
       "        }    #T_c6ba56b8_a3e8_11ea_aa90_30e37ac86bc0row3_col1 {\n",
       "            background-color:  #b40426;\n",
       "            color:  #f1f1f1;\n",
       "        }    #T_c6ba56b8_a3e8_11ea_aa90_30e37ac86bc0row3_col2 {\n",
       "            background-color:  #3b4cc0;\n",
       "            color:  #f1f1f1;\n",
       "        }    #T_c6ba56b8_a3e8_11ea_aa90_30e37ac86bc0row3_col3 {\n",
       "            background-color:  #b40426;\n",
       "            color:  #f1f1f1;\n",
       "        }    #T_c6ba56b8_a3e8_11ea_aa90_30e37ac86bc0row3_col4 {\n",
       "            background-color:  #8caffe;\n",
       "            color:  #000000;\n",
       "        }    #T_c6ba56b8_a3e8_11ea_aa90_30e37ac86bc0row3_col5 {\n",
       "            background-color:  #ccd9ed;\n",
       "            color:  #000000;\n",
       "        }    #T_c6ba56b8_a3e8_11ea_aa90_30e37ac86bc0row3_col6 {\n",
       "            background-color:  #5e7de7;\n",
       "            color:  #000000;\n",
       "        }    #T_c6ba56b8_a3e8_11ea_aa90_30e37ac86bc0row3_col7 {\n",
       "            background-color:  #e97a5f;\n",
       "            color:  #000000;\n",
       "        }    #T_c6ba56b8_a3e8_11ea_aa90_30e37ac86bc0row3_col8 {\n",
       "            background-color:  #bbd1f8;\n",
       "            color:  #000000;\n",
       "        }    #T_c6ba56b8_a3e8_11ea_aa90_30e37ac86bc0row3_col9 {\n",
       "            background-color:  #f5c4ac;\n",
       "            color:  #000000;\n",
       "        }    #T_c6ba56b8_a3e8_11ea_aa90_30e37ac86bc0row3_col10 {\n",
       "            background-color:  #f3c7b1;\n",
       "            color:  #000000;\n",
       "        }    #T_c6ba56b8_a3e8_11ea_aa90_30e37ac86bc0row3_col11 {\n",
       "            background-color:  #edd1c2;\n",
       "            color:  #000000;\n",
       "        }    #T_c6ba56b8_a3e8_11ea_aa90_30e37ac86bc0row3_col12 {\n",
       "            background-color:  #82a6fb;\n",
       "            color:  #000000;\n",
       "        }    #T_c6ba56b8_a3e8_11ea_aa90_30e37ac86bc0row3_col13 {\n",
       "            background-color:  #81a4fb;\n",
       "            color:  #000000;\n",
       "        }    #T_c6ba56b8_a3e8_11ea_aa90_30e37ac86bc0row3_col14 {\n",
       "            background-color:  #82a6fb;\n",
       "            color:  #000000;\n",
       "        }    #T_c6ba56b8_a3e8_11ea_aa90_30e37ac86bc0row3_col15 {\n",
       "            background-color:  #3b4cc0;\n",
       "            color:  #f1f1f1;\n",
       "        }    #T_c6ba56b8_a3e8_11ea_aa90_30e37ac86bc0row4_col0 {\n",
       "            background-color:  #445acc;\n",
       "            color:  #f1f1f1;\n",
       "        }    #T_c6ba56b8_a3e8_11ea_aa90_30e37ac86bc0row4_col1 {\n",
       "            background-color:  #98b9ff;\n",
       "            color:  #000000;\n",
       "        }    #T_c6ba56b8_a3e8_11ea_aa90_30e37ac86bc0row4_col2 {\n",
       "            background-color:  #6c8ff1;\n",
       "            color:  #000000;\n",
       "        }    #T_c6ba56b8_a3e8_11ea_aa90_30e37ac86bc0row4_col3 {\n",
       "            background-color:  #98b9ff;\n",
       "            color:  #000000;\n",
       "        }    #T_c6ba56b8_a3e8_11ea_aa90_30e37ac86bc0row4_col4 {\n",
       "            background-color:  #b40426;\n",
       "            color:  #f1f1f1;\n",
       "        }    #T_c6ba56b8_a3e8_11ea_aa90_30e37ac86bc0row4_col5 {\n",
       "            background-color:  #f29274;\n",
       "            color:  #000000;\n",
       "        }    #T_c6ba56b8_a3e8_11ea_aa90_30e37ac86bc0row4_col6 {\n",
       "            background-color:  #d2dbe8;\n",
       "            color:  #000000;\n",
       "        }    #T_c6ba56b8_a3e8_11ea_aa90_30e37ac86bc0row4_col7 {\n",
       "            background-color:  #5b7ae5;\n",
       "            color:  #000000;\n",
       "        }    #T_c6ba56b8_a3e8_11ea_aa90_30e37ac86bc0row4_col8 {\n",
       "            background-color:  #3b4cc0;\n",
       "            color:  #f1f1f1;\n",
       "        }    #T_c6ba56b8_a3e8_11ea_aa90_30e37ac86bc0row4_col9 {\n",
       "            background-color:  #516ddb;\n",
       "            color:  #000000;\n",
       "        }    #T_c6ba56b8_a3e8_11ea_aa90_30e37ac86bc0row4_col10 {\n",
       "            background-color:  #5470de;\n",
       "            color:  #000000;\n",
       "        }    #T_c6ba56b8_a3e8_11ea_aa90_30e37ac86bc0row4_col11 {\n",
       "            background-color:  #5d7ce6;\n",
       "            color:  #000000;\n",
       "        }    #T_c6ba56b8_a3e8_11ea_aa90_30e37ac86bc0row4_col12 {\n",
       "            background-color:  #abc8fd;\n",
       "            color:  #000000;\n",
       "        }    #T_c6ba56b8_a3e8_11ea_aa90_30e37ac86bc0row4_col13 {\n",
       "            background-color:  #abc8fd;\n",
       "            color:  #000000;\n",
       "        }    #T_c6ba56b8_a3e8_11ea_aa90_30e37ac86bc0row4_col14 {\n",
       "            background-color:  #abc8fd;\n",
       "            color:  #000000;\n",
       "        }    #T_c6ba56b8_a3e8_11ea_aa90_30e37ac86bc0row4_col15 {\n",
       "            background-color:  #516ddb;\n",
       "            color:  #000000;\n",
       "        }    #T_c6ba56b8_a3e8_11ea_aa90_30e37ac86bc0row5_col0 {\n",
       "            background-color:  #3b4cc0;\n",
       "            color:  #f1f1f1;\n",
       "        }    #T_c6ba56b8_a3e8_11ea_aa90_30e37ac86bc0row5_col1 {\n",
       "            background-color:  #c3d5f4;\n",
       "            color:  #000000;\n",
       "        }    #T_c6ba56b8_a3e8_11ea_aa90_30e37ac86bc0row5_col2 {\n",
       "            background-color:  #4961d2;\n",
       "            color:  #f1f1f1;\n",
       "        }    #T_c6ba56b8_a3e8_11ea_aa90_30e37ac86bc0row5_col3 {\n",
       "            background-color:  #c3d5f4;\n",
       "            color:  #000000;\n",
       "        }    #T_c6ba56b8_a3e8_11ea_aa90_30e37ac86bc0row5_col4 {\n",
       "            background-color:  #f59d7e;\n",
       "            color:  #000000;\n",
       "        }    #T_c6ba56b8_a3e8_11ea_aa90_30e37ac86bc0row5_col5 {\n",
       "            background-color:  #b40426;\n",
       "            color:  #f1f1f1;\n",
       "        }    #T_c6ba56b8_a3e8_11ea_aa90_30e37ac86bc0row5_col6 {\n",
       "            background-color:  #b9d0f9;\n",
       "            color:  #000000;\n",
       "        }    #T_c6ba56b8_a3e8_11ea_aa90_30e37ac86bc0row5_col7 {\n",
       "            background-color:  #b6cefa;\n",
       "            color:  #000000;\n",
       "        }    #T_c6ba56b8_a3e8_11ea_aa90_30e37ac86bc0row5_col8 {\n",
       "            background-color:  #5673e0;\n",
       "            color:  #000000;\n",
       "        }    #T_c6ba56b8_a3e8_11ea_aa90_30e37ac86bc0row5_col9 {\n",
       "            background-color:  #3b4cc0;\n",
       "            color:  #f1f1f1;\n",
       "        }    #T_c6ba56b8_a3e8_11ea_aa90_30e37ac86bc0row5_col10 {\n",
       "            background-color:  #3b4cc0;\n",
       "            color:  #f1f1f1;\n",
       "        }    #T_c6ba56b8_a3e8_11ea_aa90_30e37ac86bc0row5_col11 {\n",
       "            background-color:  #3b4cc0;\n",
       "            color:  #f1f1f1;\n",
       "        }    #T_c6ba56b8_a3e8_11ea_aa90_30e37ac86bc0row5_col12 {\n",
       "            background-color:  #cbd8ee;\n",
       "            color:  #000000;\n",
       "        }    #T_c6ba56b8_a3e8_11ea_aa90_30e37ac86bc0row5_col13 {\n",
       "            background-color:  #cad8ef;\n",
       "            color:  #000000;\n",
       "        }    #T_c6ba56b8_a3e8_11ea_aa90_30e37ac86bc0row5_col14 {\n",
       "            background-color:  #cbd8ee;\n",
       "            color:  #000000;\n",
       "        }    #T_c6ba56b8_a3e8_11ea_aa90_30e37ac86bc0row5_col15 {\n",
       "            background-color:  #5a78e4;\n",
       "            color:  #000000;\n",
       "        }    #T_c6ba56b8_a3e8_11ea_aa90_30e37ac86bc0row6_col0 {\n",
       "            background-color:  #7396f5;\n",
       "            color:  #000000;\n",
       "        }    #T_c6ba56b8_a3e8_11ea_aa90_30e37ac86bc0row6_col1 {\n",
       "            background-color:  #9bbcff;\n",
       "            color:  #000000;\n",
       "        }    #T_c6ba56b8_a3e8_11ea_aa90_30e37ac86bc0row6_col2 {\n",
       "            background-color:  #92b4fe;\n",
       "            color:  #000000;\n",
       "        }    #T_c6ba56b8_a3e8_11ea_aa90_30e37ac86bc0row6_col3 {\n",
       "            background-color:  #9bbcff;\n",
       "            color:  #000000;\n",
       "        }    #T_c6ba56b8_a3e8_11ea_aa90_30e37ac86bc0row6_col4 {\n",
       "            background-color:  #e7d7ce;\n",
       "            color:  #000000;\n",
       "        }    #T_c6ba56b8_a3e8_11ea_aa90_30e37ac86bc0row6_col5 {\n",
       "            background-color:  #e2dad5;\n",
       "            color:  #000000;\n",
       "        }    #T_c6ba56b8_a3e8_11ea_aa90_30e37ac86bc0row6_col6 {\n",
       "            background-color:  #b40426;\n",
       "            color:  #f1f1f1;\n",
       "        }    #T_c6ba56b8_a3e8_11ea_aa90_30e37ac86bc0row6_col7 {\n",
       "            background-color:  #6a8bef;\n",
       "            color:  #000000;\n",
       "        }    #T_c6ba56b8_a3e8_11ea_aa90_30e37ac86bc0row6_col8 {\n",
       "            background-color:  #7da0f9;\n",
       "            color:  #000000;\n",
       "        }    #T_c6ba56b8_a3e8_11ea_aa90_30e37ac86bc0row6_col9 {\n",
       "            background-color:  #9abbff;\n",
       "            color:  #000000;\n",
       "        }    #T_c6ba56b8_a3e8_11ea_aa90_30e37ac86bc0row6_col10 {\n",
       "            background-color:  #9bbcff;\n",
       "            color:  #000000;\n",
       "        }    #T_c6ba56b8_a3e8_11ea_aa90_30e37ac86bc0row6_col11 {\n",
       "            background-color:  #a2c1ff;\n",
       "            color:  #000000;\n",
       "        }    #T_c6ba56b8_a3e8_11ea_aa90_30e37ac86bc0row6_col12 {\n",
       "            background-color:  #9dbdff;\n",
       "            color:  #000000;\n",
       "        }    #T_c6ba56b8_a3e8_11ea_aa90_30e37ac86bc0row6_col13 {\n",
       "            background-color:  #9dbdff;\n",
       "            color:  #000000;\n",
       "        }    #T_c6ba56b8_a3e8_11ea_aa90_30e37ac86bc0row6_col14 {\n",
       "            background-color:  #9dbdff;\n",
       "            color:  #000000;\n",
       "        }    #T_c6ba56b8_a3e8_11ea_aa90_30e37ac86bc0row6_col15 {\n",
       "            background-color:  #93b5fe;\n",
       "            color:  #000000;\n",
       "        }    #T_c6ba56b8_a3e8_11ea_aa90_30e37ac86bc0row7_col0 {\n",
       "            background-color:  #d2dbe8;\n",
       "            color:  #000000;\n",
       "        }    #T_c6ba56b8_a3e8_11ea_aa90_30e37ac86bc0row7_col1 {\n",
       "            background-color:  #e36b54;\n",
       "            color:  #000000;\n",
       "        }    #T_c6ba56b8_a3e8_11ea_aa90_30e37ac86bc0row7_col2 {\n",
       "            background-color:  #6f92f3;\n",
       "            color:  #000000;\n",
       "        }    #T_c6ba56b8_a3e8_11ea_aa90_30e37ac86bc0row7_col3 {\n",
       "            background-color:  #e36b54;\n",
       "            color:  #000000;\n",
       "        }    #T_c6ba56b8_a3e8_11ea_aa90_30e37ac86bc0row7_col4 {\n",
       "            background-color:  #81a4fb;\n",
       "            color:  #000000;\n",
       "        }    #T_c6ba56b8_a3e8_11ea_aa90_30e37ac86bc0row7_col5 {\n",
       "            background-color:  #dcdddd;\n",
       "            color:  #000000;\n",
       "        }    #T_c6ba56b8_a3e8_11ea_aa90_30e37ac86bc0row7_col6 {\n",
       "            background-color:  #5f7fe8;\n",
       "            color:  #000000;\n",
       "        }    #T_c6ba56b8_a3e8_11ea_aa90_30e37ac86bc0row7_col7 {\n",
       "            background-color:  #b40426;\n",
       "            color:  #f1f1f1;\n",
       "        }    #T_c6ba56b8_a3e8_11ea_aa90_30e37ac86bc0row7_col8 {\n",
       "            background-color:  #a9c6fd;\n",
       "            color:  #000000;\n",
       "        }    #T_c6ba56b8_a3e8_11ea_aa90_30e37ac86bc0row7_col9 {\n",
       "            background-color:  #ead5c9;\n",
       "            color:  #000000;\n",
       "        }    #T_c6ba56b8_a3e8_11ea_aa90_30e37ac86bc0row7_col10 {\n",
       "            background-color:  #e4d9d2;\n",
       "            color:  #000000;\n",
       "        }    #T_c6ba56b8_a3e8_11ea_aa90_30e37ac86bc0row7_col11 {\n",
       "            background-color:  #d1dae9;\n",
       "            color:  #000000;\n",
       "        }    #T_c6ba56b8_a3e8_11ea_aa90_30e37ac86bc0row7_col12 {\n",
       "            background-color:  #93b5fe;\n",
       "            color:  #000000;\n",
       "        }    #T_c6ba56b8_a3e8_11ea_aa90_30e37ac86bc0row7_col13 {\n",
       "            background-color:  #93b5fe;\n",
       "            color:  #000000;\n",
       "        }    #T_c6ba56b8_a3e8_11ea_aa90_30e37ac86bc0row7_col14 {\n",
       "            background-color:  #93b5fe;\n",
       "            color:  #000000;\n",
       "        }    #T_c6ba56b8_a3e8_11ea_aa90_30e37ac86bc0row7_col15 {\n",
       "            background-color:  #6f92f3;\n",
       "            color:  #000000;\n",
       "        }    #T_c6ba56b8_a3e8_11ea_aa90_30e37ac86bc0row8_col0 {\n",
       "            background-color:  #ccd9ed;\n",
       "            color:  #000000;\n",
       "        }    #T_c6ba56b8_a3e8_11ea_aa90_30e37ac86bc0row8_col1 {\n",
       "            background-color:  #c5d6f2;\n",
       "            color:  #000000;\n",
       "        }    #T_c6ba56b8_a3e8_11ea_aa90_30e37ac86bc0row8_col2 {\n",
       "            background-color:  #c3d5f4;\n",
       "            color:  #000000;\n",
       "        }    #T_c6ba56b8_a3e8_11ea_aa90_30e37ac86bc0row8_col3 {\n",
       "            background-color:  #c5d6f2;\n",
       "            color:  #000000;\n",
       "        }    #T_c6ba56b8_a3e8_11ea_aa90_30e37ac86bc0row8_col4 {\n",
       "            background-color:  #3b4cc0;\n",
       "            color:  #f1f1f1;\n",
       "        }    #T_c6ba56b8_a3e8_11ea_aa90_30e37ac86bc0row8_col5 {\n",
       "            background-color:  #7597f6;\n",
       "            color:  #000000;\n",
       "        }    #T_c6ba56b8_a3e8_11ea_aa90_30e37ac86bc0row8_col6 {\n",
       "            background-color:  #4e68d8;\n",
       "            color:  #000000;\n",
       "        }    #T_c6ba56b8_a3e8_11ea_aa90_30e37ac86bc0row8_col7 {\n",
       "            background-color:  #89acfd;\n",
       "            color:  #000000;\n",
       "        }    #T_c6ba56b8_a3e8_11ea_aa90_30e37ac86bc0row8_col8 {\n",
       "            background-color:  #b40426;\n",
       "            color:  #f1f1f1;\n",
       "        }    #T_c6ba56b8_a3e8_11ea_aa90_30e37ac86bc0row8_col9 {\n",
       "            background-color:  #f2cbb7;\n",
       "            color:  #000000;\n",
       "        }    #T_c6ba56b8_a3e8_11ea_aa90_30e37ac86bc0row8_col10 {\n",
       "            background-color:  #f2cbb7;\n",
       "            color:  #000000;\n",
       "        }    #T_c6ba56b8_a3e8_11ea_aa90_30e37ac86bc0row8_col11 {\n",
       "            background-color:  #f2c9b4;\n",
       "            color:  #000000;\n",
       "        }    #T_c6ba56b8_a3e8_11ea_aa90_30e37ac86bc0row8_col12 {\n",
       "            background-color:  #7597f6;\n",
       "            color:  #000000;\n",
       "        }    #T_c6ba56b8_a3e8_11ea_aa90_30e37ac86bc0row8_col13 {\n",
       "            background-color:  #7597f6;\n",
       "            color:  #000000;\n",
       "        }    #T_c6ba56b8_a3e8_11ea_aa90_30e37ac86bc0row8_col14 {\n",
       "            background-color:  #7396f5;\n",
       "            color:  #000000;\n",
       "        }    #T_c6ba56b8_a3e8_11ea_aa90_30e37ac86bc0row8_col15 {\n",
       "            background-color:  #d2dbe8;\n",
       "            color:  #000000;\n",
       "        }    #T_c6ba56b8_a3e8_11ea_aa90_30e37ac86bc0row9_col0 {\n",
       "            background-color:  #e9d5cb;\n",
       "            color:  #000000;\n",
       "        }    #T_c6ba56b8_a3e8_11ea_aa90_30e37ac86bc0row9_col1 {\n",
       "            background-color:  #f3c7b1;\n",
       "            color:  #000000;\n",
       "        }    #T_c6ba56b8_a3e8_11ea_aa90_30e37ac86bc0row9_col2 {\n",
       "            background-color:  #bbd1f8;\n",
       "            color:  #000000;\n",
       "        }    #T_c6ba56b8_a3e8_11ea_aa90_30e37ac86bc0row9_col3 {\n",
       "            background-color:  #f3c7b1;\n",
       "            color:  #000000;\n",
       "        }    #T_c6ba56b8_a3e8_11ea_aa90_30e37ac86bc0row9_col4 {\n",
       "            background-color:  #3b4cc0;\n",
       "            color:  #f1f1f1;\n",
       "        }    #T_c6ba56b8_a3e8_11ea_aa90_30e37ac86bc0row9_col5 {\n",
       "            background-color:  #4257c9;\n",
       "            color:  #f1f1f1;\n",
       "        }    #T_c6ba56b8_a3e8_11ea_aa90_30e37ac86bc0row9_col6 {\n",
       "            background-color:  #5673e0;\n",
       "            color:  #000000;\n",
       "        }    #T_c6ba56b8_a3e8_11ea_aa90_30e37ac86bc0row9_col7 {\n",
       "            background-color:  #cedaeb;\n",
       "            color:  #000000;\n",
       "        }    #T_c6ba56b8_a3e8_11ea_aa90_30e37ac86bc0row9_col8 {\n",
       "            background-color:  #ecd3c5;\n",
       "            color:  #000000;\n",
       "        }    #T_c6ba56b8_a3e8_11ea_aa90_30e37ac86bc0row9_col9 {\n",
       "            background-color:  #b40426;\n",
       "            color:  #f1f1f1;\n",
       "        }    #T_c6ba56b8_a3e8_11ea_aa90_30e37ac86bc0row9_col10 {\n",
       "            background-color:  #b70d28;\n",
       "            color:  #f1f1f1;\n",
       "        }    #T_c6ba56b8_a3e8_11ea_aa90_30e37ac86bc0row9_col11 {\n",
       "            background-color:  #cc403a;\n",
       "            color:  #f1f1f1;\n",
       "        }    #T_c6ba56b8_a3e8_11ea_aa90_30e37ac86bc0row9_col12 {\n",
       "            background-color:  #3b4cc0;\n",
       "            color:  #f1f1f1;\n",
       "        }    #T_c6ba56b8_a3e8_11ea_aa90_30e37ac86bc0row9_col13 {\n",
       "            background-color:  #3b4cc0;\n",
       "            color:  #f1f1f1;\n",
       "        }    #T_c6ba56b8_a3e8_11ea_aa90_30e37ac86bc0row9_col14 {\n",
       "            background-color:  #3b4cc0;\n",
       "            color:  #f1f1f1;\n",
       "        }    #T_c6ba56b8_a3e8_11ea_aa90_30e37ac86bc0row9_col15 {\n",
       "            background-color:  #9abbff;\n",
       "            color:  #000000;\n",
       "        }    #T_c6ba56b8_a3e8_11ea_aa90_30e37ac86bc0row10_col0 {\n",
       "            background-color:  #e7d7ce;\n",
       "            color:  #000000;\n",
       "        }    #T_c6ba56b8_a3e8_11ea_aa90_30e37ac86bc0row10_col1 {\n",
       "            background-color:  #f2cbb7;\n",
       "            color:  #000000;\n",
       "        }    #T_c6ba56b8_a3e8_11ea_aa90_30e37ac86bc0row10_col2 {\n",
       "            background-color:  #bed2f6;\n",
       "            color:  #000000;\n",
       "        }    #T_c6ba56b8_a3e8_11ea_aa90_30e37ac86bc0row10_col3 {\n",
       "            background-color:  #f2cbb7;\n",
       "            color:  #000000;\n",
       "        }    #T_c6ba56b8_a3e8_11ea_aa90_30e37ac86bc0row10_col4 {\n",
       "            background-color:  #3b4cc0;\n",
       "            color:  #f1f1f1;\n",
       "        }    #T_c6ba56b8_a3e8_11ea_aa90_30e37ac86bc0row10_col5 {\n",
       "            background-color:  #3e51c5;\n",
       "            color:  #f1f1f1;\n",
       "        }    #T_c6ba56b8_a3e8_11ea_aa90_30e37ac86bc0row10_col6 {\n",
       "            background-color:  #5470de;\n",
       "            color:  #000000;\n",
       "        }    #T_c6ba56b8_a3e8_11ea_aa90_30e37ac86bc0row10_col7 {\n",
       "            background-color:  #c4d5f3;\n",
       "            color:  #000000;\n",
       "        }    #T_c6ba56b8_a3e8_11ea_aa90_30e37ac86bc0row10_col8 {\n",
       "            background-color:  #ebd3c6;\n",
       "            color:  #000000;\n",
       "        }    #T_c6ba56b8_a3e8_11ea_aa90_30e37ac86bc0row10_col9 {\n",
       "            background-color:  #b70d28;\n",
       "            color:  #f1f1f1;\n",
       "        }    #T_c6ba56b8_a3e8_11ea_aa90_30e37ac86bc0row10_col10 {\n",
       "            background-color:  #b40426;\n",
       "            color:  #f1f1f1;\n",
       "        }    #T_c6ba56b8_a3e8_11ea_aa90_30e37ac86bc0row10_col11 {\n",
       "            background-color:  #c53334;\n",
       "            color:  #f1f1f1;\n",
       "        }    #T_c6ba56b8_a3e8_11ea_aa90_30e37ac86bc0row10_col12 {\n",
       "            background-color:  #485fd1;\n",
       "            color:  #f1f1f1;\n",
       "        }    #T_c6ba56b8_a3e8_11ea_aa90_30e37ac86bc0row10_col13 {\n",
       "            background-color:  #465ecf;\n",
       "            color:  #f1f1f1;\n",
       "        }    #T_c6ba56b8_a3e8_11ea_aa90_30e37ac86bc0row10_col14 {\n",
       "            background-color:  #485fd1;\n",
       "            color:  #f1f1f1;\n",
       "        }    #T_c6ba56b8_a3e8_11ea_aa90_30e37ac86bc0row10_col15 {\n",
       "            background-color:  #9bbcff;\n",
       "            color:  #000000;\n",
       "        }    #T_c6ba56b8_a3e8_11ea_aa90_30e37ac86bc0row11_col0 {\n",
       "            background-color:  #e6d7cf;\n",
       "            color:  #000000;\n",
       "        }    #T_c6ba56b8_a3e8_11ea_aa90_30e37ac86bc0row11_col1 {\n",
       "            background-color:  #e9d5cb;\n",
       "            color:  #000000;\n",
       "        }    #T_c6ba56b8_a3e8_11ea_aa90_30e37ac86bc0row11_col2 {\n",
       "            background-color:  #c6d6f1;\n",
       "            color:  #000000;\n",
       "        }    #T_c6ba56b8_a3e8_11ea_aa90_30e37ac86bc0row11_col3 {\n",
       "            background-color:  #e9d5cb;\n",
       "            color:  #000000;\n",
       "        }    #T_c6ba56b8_a3e8_11ea_aa90_30e37ac86bc0row11_col4 {\n",
       "            background-color:  #3e51c5;\n",
       "            color:  #f1f1f1;\n",
       "        }    #T_c6ba56b8_a3e8_11ea_aa90_30e37ac86bc0row11_col5 {\n",
       "            background-color:  #3b4cc0;\n",
       "            color:  #f1f1f1;\n",
       "        }    #T_c6ba56b8_a3e8_11ea_aa90_30e37ac86bc0row11_col6 {\n",
       "            background-color:  #5977e3;\n",
       "            color:  #000000;\n",
       "        }    #T_c6ba56b8_a3e8_11ea_aa90_30e37ac86bc0row11_col7 {\n",
       "            background-color:  #a2c1ff;\n",
       "            color:  #000000;\n",
       "        }    #T_c6ba56b8_a3e8_11ea_aa90_30e37ac86bc0row11_col8 {\n",
       "            background-color:  #ecd3c5;\n",
       "            color:  #000000;\n",
       "        }    #T_c6ba56b8_a3e8_11ea_aa90_30e37ac86bc0row11_col9 {\n",
       "            background-color:  #cc403a;\n",
       "            color:  #f1f1f1;\n",
       "        }    #T_c6ba56b8_a3e8_11ea_aa90_30e37ac86bc0row11_col10 {\n",
       "            background-color:  #c53334;\n",
       "            color:  #f1f1f1;\n",
       "        }    #T_c6ba56b8_a3e8_11ea_aa90_30e37ac86bc0row11_col11 {\n",
       "            background-color:  #b40426;\n",
       "            color:  #f1f1f1;\n",
       "        }    #T_c6ba56b8_a3e8_11ea_aa90_30e37ac86bc0row11_col12 {\n",
       "            background-color:  #86a9fc;\n",
       "            color:  #000000;\n",
       "        }    #T_c6ba56b8_a3e8_11ea_aa90_30e37ac86bc0row11_col13 {\n",
       "            background-color:  #86a9fc;\n",
       "            color:  #000000;\n",
       "        }    #T_c6ba56b8_a3e8_11ea_aa90_30e37ac86bc0row11_col14 {\n",
       "            background-color:  #86a9fc;\n",
       "            color:  #000000;\n",
       "        }    #T_c6ba56b8_a3e8_11ea_aa90_30e37ac86bc0row11_col15 {\n",
       "            background-color:  #a1c0ff;\n",
       "            color:  #000000;\n",
       "        }    #T_c6ba56b8_a3e8_11ea_aa90_30e37ac86bc0row12_col0 {\n",
       "            background-color:  #b7cff9;\n",
       "            color:  #000000;\n",
       "        }    #T_c6ba56b8_a3e8_11ea_aa90_30e37ac86bc0row12_col1 {\n",
       "            background-color:  #a3c2fe;\n",
       "            color:  #000000;\n",
       "        }    #T_c6ba56b8_a3e8_11ea_aa90_30e37ac86bc0row12_col2 {\n",
       "            background-color:  #c1d4f4;\n",
       "            color:  #000000;\n",
       "        }    #T_c6ba56b8_a3e8_11ea_aa90_30e37ac86bc0row12_col3 {\n",
       "            background-color:  #a3c2fe;\n",
       "            color:  #000000;\n",
       "        }    #T_c6ba56b8_a3e8_11ea_aa90_30e37ac86bc0row12_col4 {\n",
       "            background-color:  #bcd2f7;\n",
       "            color:  #000000;\n",
       "        }    #T_c6ba56b8_a3e8_11ea_aa90_30e37ac86bc0row12_col5 {\n",
       "            background-color:  #e4d9d2;\n",
       "            color:  #000000;\n",
       "        }    #T_c6ba56b8_a3e8_11ea_aa90_30e37ac86bc0row12_col6 {\n",
       "            background-color:  #86a9fc;\n",
       "            color:  #000000;\n",
       "        }    #T_c6ba56b8_a3e8_11ea_aa90_30e37ac86bc0row12_col7 {\n",
       "            background-color:  #85a8fc;\n",
       "            color:  #000000;\n",
       "        }    #T_c6ba56b8_a3e8_11ea_aa90_30e37ac86bc0row12_col8 {\n",
       "            background-color:  #89acfd;\n",
       "            color:  #000000;\n",
       "        }    #T_c6ba56b8_a3e8_11ea_aa90_30e37ac86bc0row12_col9 {\n",
       "            background-color:  #6788ee;\n",
       "            color:  #000000;\n",
       "        }    #T_c6ba56b8_a3e8_11ea_aa90_30e37ac86bc0row12_col10 {\n",
       "            background-color:  #799cf8;\n",
       "            color:  #000000;\n",
       "        }    #T_c6ba56b8_a3e8_11ea_aa90_30e37ac86bc0row12_col11 {\n",
       "            background-color:  #b3cdfb;\n",
       "            color:  #000000;\n",
       "        }    #T_c6ba56b8_a3e8_11ea_aa90_30e37ac86bc0row12_col12 {\n",
       "            background-color:  #b40426;\n",
       "            color:  #f1f1f1;\n",
       "        }    #T_c6ba56b8_a3e8_11ea_aa90_30e37ac86bc0row12_col13 {\n",
       "            background-color:  #b40426;\n",
       "            color:  #f1f1f1;\n",
       "        }    #T_c6ba56b8_a3e8_11ea_aa90_30e37ac86bc0row12_col14 {\n",
       "            background-color:  #b40426;\n",
       "            color:  #f1f1f1;\n",
       "        }    #T_c6ba56b8_a3e8_11ea_aa90_30e37ac86bc0row12_col15 {\n",
       "            background-color:  #c3d5f4;\n",
       "            color:  #000000;\n",
       "        }    #T_c6ba56b8_a3e8_11ea_aa90_30e37ac86bc0row13_col0 {\n",
       "            background-color:  #b7cff9;\n",
       "            color:  #000000;\n",
       "        }    #T_c6ba56b8_a3e8_11ea_aa90_30e37ac86bc0row13_col1 {\n",
       "            background-color:  #a2c1ff;\n",
       "            color:  #000000;\n",
       "        }    #T_c6ba56b8_a3e8_11ea_aa90_30e37ac86bc0row13_col2 {\n",
       "            background-color:  #c1d4f4;\n",
       "            color:  #000000;\n",
       "        }    #T_c6ba56b8_a3e8_11ea_aa90_30e37ac86bc0row13_col3 {\n",
       "            background-color:  #a2c1ff;\n",
       "            color:  #000000;\n",
       "        }    #T_c6ba56b8_a3e8_11ea_aa90_30e37ac86bc0row13_col4 {\n",
       "            background-color:  #bcd2f7;\n",
       "            color:  #000000;\n",
       "        }    #T_c6ba56b8_a3e8_11ea_aa90_30e37ac86bc0row13_col5 {\n",
       "            background-color:  #e4d9d2;\n",
       "            color:  #000000;\n",
       "        }    #T_c6ba56b8_a3e8_11ea_aa90_30e37ac86bc0row13_col6 {\n",
       "            background-color:  #85a8fc;\n",
       "            color:  #000000;\n",
       "        }    #T_c6ba56b8_a3e8_11ea_aa90_30e37ac86bc0row13_col7 {\n",
       "            background-color:  #85a8fc;\n",
       "            color:  #000000;\n",
       "        }    #T_c6ba56b8_a3e8_11ea_aa90_30e37ac86bc0row13_col8 {\n",
       "            background-color:  #89acfd;\n",
       "            color:  #000000;\n",
       "        }    #T_c6ba56b8_a3e8_11ea_aa90_30e37ac86bc0row13_col9 {\n",
       "            background-color:  #688aef;\n",
       "            color:  #000000;\n",
       "        }    #T_c6ba56b8_a3e8_11ea_aa90_30e37ac86bc0row13_col10 {\n",
       "            background-color:  #799cf8;\n",
       "            color:  #000000;\n",
       "        }    #T_c6ba56b8_a3e8_11ea_aa90_30e37ac86bc0row13_col11 {\n",
       "            background-color:  #b3cdfb;\n",
       "            color:  #000000;\n",
       "        }    #T_c6ba56b8_a3e8_11ea_aa90_30e37ac86bc0row13_col12 {\n",
       "            background-color:  #b40426;\n",
       "            color:  #f1f1f1;\n",
       "        }    #T_c6ba56b8_a3e8_11ea_aa90_30e37ac86bc0row13_col13 {\n",
       "            background-color:  #b40426;\n",
       "            color:  #f1f1f1;\n",
       "        }    #T_c6ba56b8_a3e8_11ea_aa90_30e37ac86bc0row13_col14 {\n",
       "            background-color:  #b50927;\n",
       "            color:  #f1f1f1;\n",
       "        }    #T_c6ba56b8_a3e8_11ea_aa90_30e37ac86bc0row13_col15 {\n",
       "            background-color:  #c3d5f4;\n",
       "            color:  #000000;\n",
       "        }    #T_c6ba56b8_a3e8_11ea_aa90_30e37ac86bc0row14_col0 {\n",
       "            background-color:  #b7cff9;\n",
       "            color:  #000000;\n",
       "        }    #T_c6ba56b8_a3e8_11ea_aa90_30e37ac86bc0row14_col1 {\n",
       "            background-color:  #a3c2fe;\n",
       "            color:  #000000;\n",
       "        }    #T_c6ba56b8_a3e8_11ea_aa90_30e37ac86bc0row14_col2 {\n",
       "            background-color:  #c1d4f4;\n",
       "            color:  #000000;\n",
       "        }    #T_c6ba56b8_a3e8_11ea_aa90_30e37ac86bc0row14_col3 {\n",
       "            background-color:  #a3c2fe;\n",
       "            color:  #000000;\n",
       "        }    #T_c6ba56b8_a3e8_11ea_aa90_30e37ac86bc0row14_col4 {\n",
       "            background-color:  #bcd2f7;\n",
       "            color:  #000000;\n",
       "        }    #T_c6ba56b8_a3e8_11ea_aa90_30e37ac86bc0row14_col5 {\n",
       "            background-color:  #e4d9d2;\n",
       "            color:  #000000;\n",
       "        }    #T_c6ba56b8_a3e8_11ea_aa90_30e37ac86bc0row14_col6 {\n",
       "            background-color:  #86a9fc;\n",
       "            color:  #000000;\n",
       "        }    #T_c6ba56b8_a3e8_11ea_aa90_30e37ac86bc0row14_col7 {\n",
       "            background-color:  #85a8fc;\n",
       "            color:  #000000;\n",
       "        }    #T_c6ba56b8_a3e8_11ea_aa90_30e37ac86bc0row14_col8 {\n",
       "            background-color:  #89acfd;\n",
       "            color:  #000000;\n",
       "        }    #T_c6ba56b8_a3e8_11ea_aa90_30e37ac86bc0row14_col9 {\n",
       "            background-color:  #6788ee;\n",
       "            color:  #000000;\n",
       "        }    #T_c6ba56b8_a3e8_11ea_aa90_30e37ac86bc0row14_col10 {\n",
       "            background-color:  #799cf8;\n",
       "            color:  #000000;\n",
       "        }    #T_c6ba56b8_a3e8_11ea_aa90_30e37ac86bc0row14_col11 {\n",
       "            background-color:  #b3cdfb;\n",
       "            color:  #000000;\n",
       "        }    #T_c6ba56b8_a3e8_11ea_aa90_30e37ac86bc0row14_col12 {\n",
       "            background-color:  #b40426;\n",
       "            color:  #f1f1f1;\n",
       "        }    #T_c6ba56b8_a3e8_11ea_aa90_30e37ac86bc0row14_col13 {\n",
       "            background-color:  #b50927;\n",
       "            color:  #f1f1f1;\n",
       "        }    #T_c6ba56b8_a3e8_11ea_aa90_30e37ac86bc0row14_col14 {\n",
       "            background-color:  #b40426;\n",
       "            color:  #f1f1f1;\n",
       "        }    #T_c6ba56b8_a3e8_11ea_aa90_30e37ac86bc0row14_col15 {\n",
       "            background-color:  #c3d5f4;\n",
       "            color:  #000000;\n",
       "        }    #T_c6ba56b8_a3e8_11ea_aa90_30e37ac86bc0row15_col0 {\n",
       "            background-color:  #f5c4ac;\n",
       "            color:  #000000;\n",
       "        }    #T_c6ba56b8_a3e8_11ea_aa90_30e37ac86bc0row15_col1 {\n",
       "            background-color:  #455cce;\n",
       "            color:  #f1f1f1;\n",
       "        }    #T_c6ba56b8_a3e8_11ea_aa90_30e37ac86bc0row15_col2 {\n",
       "            background-color:  #f39778;\n",
       "            color:  #000000;\n",
       "        }    #T_c6ba56b8_a3e8_11ea_aa90_30e37ac86bc0row15_col3 {\n",
       "            background-color:  #455cce;\n",
       "            color:  #f1f1f1;\n",
       "        }    #T_c6ba56b8_a3e8_11ea_aa90_30e37ac86bc0row15_col4 {\n",
       "            background-color:  #4c66d6;\n",
       "            color:  #000000;\n",
       "        }    #T_c6ba56b8_a3e8_11ea_aa90_30e37ac86bc0row15_col5 {\n",
       "            background-color:  #7597f6;\n",
       "            color:  #000000;\n",
       "        }    #T_c6ba56b8_a3e8_11ea_aa90_30e37ac86bc0row15_col6 {\n",
       "            background-color:  #6180e9;\n",
       "            color:  #000000;\n",
       "        }    #T_c6ba56b8_a3e8_11ea_aa90_30e37ac86bc0row15_col7 {\n",
       "            background-color:  #455cce;\n",
       "            color:  #f1f1f1;\n",
       "        }    #T_c6ba56b8_a3e8_11ea_aa90_30e37ac86bc0row15_col8 {\n",
       "            background-color:  #cfdaea;\n",
       "            color:  #000000;\n",
       "        }    #T_c6ba56b8_a3e8_11ea_aa90_30e37ac86bc0row15_col9 {\n",
       "            background-color:  #a9c6fd;\n",
       "            color:  #000000;\n",
       "        }    #T_c6ba56b8_a3e8_11ea_aa90_30e37ac86bc0row15_col10 {\n",
       "            background-color:  #adc9fd;\n",
       "            color:  #000000;\n",
       "        }    #T_c6ba56b8_a3e8_11ea_aa90_30e37ac86bc0row15_col11 {\n",
       "            background-color:  #b5cdfa;\n",
       "            color:  #000000;\n",
       "        }    #T_c6ba56b8_a3e8_11ea_aa90_30e37ac86bc0row15_col12 {\n",
       "            background-color:  #afcafc;\n",
       "            color:  #000000;\n",
       "        }    #T_c6ba56b8_a3e8_11ea_aa90_30e37ac86bc0row15_col13 {\n",
       "            background-color:  #afcafc;\n",
       "            color:  #000000;\n",
       "        }    #T_c6ba56b8_a3e8_11ea_aa90_30e37ac86bc0row15_col14 {\n",
       "            background-color:  #afcafc;\n",
       "            color:  #000000;\n",
       "        }    #T_c6ba56b8_a3e8_11ea_aa90_30e37ac86bc0row15_col15 {\n",
       "            background-color:  #b40426;\n",
       "            color:  #f1f1f1;\n",
       "        }</style><table id=\"T_c6ba56b8_a3e8_11ea_aa90_30e37ac86bc0\" ><thead>    <tr>        <th class=\"blank level0\" ></th>        <th class=\"col_heading level0 col0\" >Radius A [ang]</th>        <th class=\"col_heading level0 col1\" >Radius B [ang]</th>        <th class=\"col_heading level0 col2\" >Goldschmidt Tolerance</th>        <th class=\"col_heading level0 col3\" >Octahedral factor</th>        <th class=\"col_heading level0 col4\" >Formation energy [eV/atom]</th>        <th class=\"col_heading level0 col5\" >Stability [eV/atom]</th>        <th class=\"col_heading level0 col6\" >Magnetic moment [mu_B]</th>        <th class=\"col_heading level0 col7\" >Volume per atom [A^3/atom]</th>        <th class=\"col_heading level0 col8\" >Band gap [eV]</th>        <th class=\"col_heading level0 col9\" >a [ang]</th>        <th class=\"col_heading level0 col10\" >b [ang]</th>        <th class=\"col_heading level0 col11\" >c [ang]</th>        <th class=\"col_heading level0 col12\" >alpha [deg]</th>        <th class=\"col_heading level0 col13\" >beta [deg]</th>        <th class=\"col_heading level0 col14\" >gamma [deg]</th>        <th class=\"col_heading level0 col15\" >Vacancy energy [eV/O atom]</th>    </tr></thead><tbody>\n",
       "                <tr>\n",
       "                        <th id=\"T_c6ba56b8_a3e8_11ea_aa90_30e37ac86bc0level0_row0\" class=\"row_heading level0 row0\" >Radius A [ang]</th>\n",
       "                        <td id=\"T_c6ba56b8_a3e8_11ea_aa90_30e37ac86bc0row0_col0\" class=\"data row0 col0\" >1.00</td>\n",
       "                        <td id=\"T_c6ba56b8_a3e8_11ea_aa90_30e37ac86bc0row0_col1\" class=\"data row0 col1\" >-0.01</td>\n",
       "                        <td id=\"T_c6ba56b8_a3e8_11ea_aa90_30e37ac86bc0row0_col2\" class=\"data row0 col2\" >0.82</td>\n",
       "                        <td id=\"T_c6ba56b8_a3e8_11ea_aa90_30e37ac86bc0row0_col3\" class=\"data row0 col3\" >-0.01</td>\n",
       "                        <td id=\"T_c6ba56b8_a3e8_11ea_aa90_30e37ac86bc0row0_col4\" class=\"data row0 col4\" >-0.49</td>\n",
       "                        <td id=\"T_c6ba56b8_a3e8_11ea_aa90_30e37ac86bc0row0_col5\" class=\"data row0 col5\" >-0.54</td>\n",
       "                        <td id=\"T_c6ba56b8_a3e8_11ea_aa90_30e37ac86bc0row0_col6\" class=\"data row0 col6\" >-0.26</td>\n",
       "                        <td id=\"T_c6ba56b8_a3e8_11ea_aa90_30e37ac86bc0row0_col7\" class=\"data row0 col7\" >0.17</td>\n",
       "                        <td id=\"T_c6ba56b8_a3e8_11ea_aa90_30e37ac86bc0row0_col8\" class=\"data row0 col8\" >0.13</td>\n",
       "                        <td id=\"T_c6ba56b8_a3e8_11ea_aa90_30e37ac86bc0row0_col9\" class=\"data row0 col9\" >0.30</td>\n",
       "                        <td id=\"T_c6ba56b8_a3e8_11ea_aa90_30e37ac86bc0row0_col10\" class=\"data row0 col10\" >0.29</td>\n",
       "                        <td id=\"T_c6ba56b8_a3e8_11ea_aa90_30e37ac86bc0row0_col11\" class=\"data row0 col11\" >0.29</td>\n",
       "                        <td id=\"T_c6ba56b8_a3e8_11ea_aa90_30e37ac86bc0row0_col12\" class=\"data row0 col12\" >0.03</td>\n",
       "                        <td id=\"T_c6ba56b8_a3e8_11ea_aa90_30e37ac86bc0row0_col13\" class=\"data row0 col13\" >0.03</td>\n",
       "                        <td id=\"T_c6ba56b8_a3e8_11ea_aa90_30e37ac86bc0row0_col14\" class=\"data row0 col14\" >0.03</td>\n",
       "                        <td id=\"T_c6ba56b8_a3e8_11ea_aa90_30e37ac86bc0row0_col15\" class=\"data row0 col15\" >0.43</td>\n",
       "            </tr>\n",
       "            <tr>\n",
       "                        <th id=\"T_c6ba56b8_a3e8_11ea_aa90_30e37ac86bc0level0_row1\" class=\"row_heading level0 row1\" >Radius B [ang]</th>\n",
       "                        <td id=\"T_c6ba56b8_a3e8_11ea_aa90_30e37ac86bc0row1_col0\" class=\"data row1 col0\" >-0.01</td>\n",
       "                        <td id=\"T_c6ba56b8_a3e8_11ea_aa90_30e37ac86bc0row1_col1\" class=\"data row1 col1\" >1.00</td>\n",
       "                        <td id=\"T_c6ba56b8_a3e8_11ea_aa90_30e37ac86bc0row1_col2\" class=\"data row1 col2\" >-0.57</td>\n",
       "                        <td id=\"T_c6ba56b8_a3e8_11ea_aa90_30e37ac86bc0row1_col3\" class=\"data row1 col3\" >1.00</td>\n",
       "                        <td id=\"T_c6ba56b8_a3e8_11ea_aa90_30e37ac86bc0row1_col4\" class=\"data row1 col4\" >-0.13</td>\n",
       "                        <td id=\"T_c6ba56b8_a3e8_11ea_aa90_30e37ac86bc0row1_col5\" class=\"data row1 col5\" >0.07</td>\n",
       "                        <td id=\"T_c6ba56b8_a3e8_11ea_aa90_30e37ac86bc0row1_col6\" class=\"data row1 col6\" >-0.12</td>\n",
       "                        <td id=\"T_c6ba56b8_a3e8_11ea_aa90_30e37ac86bc0row1_col7\" class=\"data row1 col7\" >0.77</td>\n",
       "                        <td id=\"T_c6ba56b8_a3e8_11ea_aa90_30e37ac86bc0row1_col8\" class=\"data row1 col8\" >0.08</td>\n",
       "                        <td id=\"T_c6ba56b8_a3e8_11ea_aa90_30e37ac86bc0row1_col9\" class=\"data row1 col9\" >0.40</td>\n",
       "                        <td id=\"T_c6ba56b8_a3e8_11ea_aa90_30e37ac86bc0row1_col10\" class=\"data row1 col10\" >0.37</td>\n",
       "                        <td id=\"T_c6ba56b8_a3e8_11ea_aa90_30e37ac86bc0row1_col11\" class=\"data row1 col11\" >0.29</td>\n",
       "                        <td id=\"T_c6ba56b8_a3e8_11ea_aa90_30e37ac86bc0row1_col12\" class=\"data row1 col12\" >-0.08</td>\n",
       "                        <td id=\"T_c6ba56b8_a3e8_11ea_aa90_30e37ac86bc0row1_col13\" class=\"data row1 col13\" >-0.08</td>\n",
       "                        <td id=\"T_c6ba56b8_a3e8_11ea_aa90_30e37ac86bc0row1_col14\" class=\"data row1 col14\" >-0.08</td>\n",
       "                        <td id=\"T_c6ba56b8_a3e8_11ea_aa90_30e37ac86bc0row1_col15\" class=\"data row1 col15\" >-0.52</td>\n",
       "            </tr>\n",
       "            <tr>\n",
       "                        <th id=\"T_c6ba56b8_a3e8_11ea_aa90_30e37ac86bc0level0_row2\" class=\"row_heading level0 row2\" >Goldschmidt Tolerance</th>\n",
       "                        <td id=\"T_c6ba56b8_a3e8_11ea_aa90_30e37ac86bc0row2_col0\" class=\"data row2 col0\" >0.82</td>\n",
       "                        <td id=\"T_c6ba56b8_a3e8_11ea_aa90_30e37ac86bc0row2_col1\" class=\"data row2 col1\" >-0.57</td>\n",
       "                        <td id=\"T_c6ba56b8_a3e8_11ea_aa90_30e37ac86bc0row2_col2\" class=\"data row2 col2\" >1.00</td>\n",
       "                        <td id=\"T_c6ba56b8_a3e8_11ea_aa90_30e37ac86bc0row2_col3\" class=\"data row2 col3\" >-0.57</td>\n",
       "                        <td id=\"T_c6ba56b8_a3e8_11ea_aa90_30e37ac86bc0row2_col4\" class=\"data row2 col4\" >-0.33</td>\n",
       "                        <td id=\"T_c6ba56b8_a3e8_11ea_aa90_30e37ac86bc0row2_col5\" class=\"data row2 col5\" >-0.49</td>\n",
       "                        <td id=\"T_c6ba56b8_a3e8_11ea_aa90_30e37ac86bc0row2_col6\" class=\"data row2 col6\" >-0.16</td>\n",
       "                        <td id=\"T_c6ba56b8_a3e8_11ea_aa90_30e37ac86bc0row2_col7\" class=\"data row2 col7\" >-0.31</td>\n",
       "                        <td id=\"T_c6ba56b8_a3e8_11ea_aa90_30e37ac86bc0row2_col8\" class=\"data row2 col8\" >0.07</td>\n",
       "                        <td id=\"T_c6ba56b8_a3e8_11ea_aa90_30e37ac86bc0row2_col9\" class=\"data row2 col9\" >0.03</td>\n",
       "                        <td id=\"T_c6ba56b8_a3e8_11ea_aa90_30e37ac86bc0row2_col10\" class=\"data row2 col10\" >0.04</td>\n",
       "                        <td id=\"T_c6ba56b8_a3e8_11ea_aa90_30e37ac86bc0row2_col11\" class=\"data row2 col11\" >0.09</td>\n",
       "                        <td id=\"T_c6ba56b8_a3e8_11ea_aa90_30e37ac86bc0row2_col12\" class=\"data row2 col12\" >0.06</td>\n",
       "                        <td id=\"T_c6ba56b8_a3e8_11ea_aa90_30e37ac86bc0row2_col13\" class=\"data row2 col13\" >0.06</td>\n",
       "                        <td id=\"T_c6ba56b8_a3e8_11ea_aa90_30e37ac86bc0row2_col14\" class=\"data row2 col14\" >0.06</td>\n",
       "                        <td id=\"T_c6ba56b8_a3e8_11ea_aa90_30e37ac86bc0row2_col15\" class=\"data row2 col15\" >0.62</td>\n",
       "            </tr>\n",
       "            <tr>\n",
       "                        <th id=\"T_c6ba56b8_a3e8_11ea_aa90_30e37ac86bc0level0_row3\" class=\"row_heading level0 row3\" >Octahedral factor</th>\n",
       "                        <td id=\"T_c6ba56b8_a3e8_11ea_aa90_30e37ac86bc0row3_col0\" class=\"data row3 col0\" >-0.01</td>\n",
       "                        <td id=\"T_c6ba56b8_a3e8_11ea_aa90_30e37ac86bc0row3_col1\" class=\"data row3 col1\" >1.00</td>\n",
       "                        <td id=\"T_c6ba56b8_a3e8_11ea_aa90_30e37ac86bc0row3_col2\" class=\"data row3 col2\" >-0.57</td>\n",
       "                        <td id=\"T_c6ba56b8_a3e8_11ea_aa90_30e37ac86bc0row3_col3\" class=\"data row3 col3\" >1.00</td>\n",
       "                        <td id=\"T_c6ba56b8_a3e8_11ea_aa90_30e37ac86bc0row3_col4\" class=\"data row3 col4\" >-0.13</td>\n",
       "                        <td id=\"T_c6ba56b8_a3e8_11ea_aa90_30e37ac86bc0row3_col5\" class=\"data row3 col5\" >0.07</td>\n",
       "                        <td id=\"T_c6ba56b8_a3e8_11ea_aa90_30e37ac86bc0row3_col6\" class=\"data row3 col6\" >-0.12</td>\n",
       "                        <td id=\"T_c6ba56b8_a3e8_11ea_aa90_30e37ac86bc0row3_col7\" class=\"data row3 col7\" >0.77</td>\n",
       "                        <td id=\"T_c6ba56b8_a3e8_11ea_aa90_30e37ac86bc0row3_col8\" class=\"data row3 col8\" >0.08</td>\n",
       "                        <td id=\"T_c6ba56b8_a3e8_11ea_aa90_30e37ac86bc0row3_col9\" class=\"data row3 col9\" >0.40</td>\n",
       "                        <td id=\"T_c6ba56b8_a3e8_11ea_aa90_30e37ac86bc0row3_col10\" class=\"data row3 col10\" >0.37</td>\n",
       "                        <td id=\"T_c6ba56b8_a3e8_11ea_aa90_30e37ac86bc0row3_col11\" class=\"data row3 col11\" >0.29</td>\n",
       "                        <td id=\"T_c6ba56b8_a3e8_11ea_aa90_30e37ac86bc0row3_col12\" class=\"data row3 col12\" >-0.08</td>\n",
       "                        <td id=\"T_c6ba56b8_a3e8_11ea_aa90_30e37ac86bc0row3_col13\" class=\"data row3 col13\" >-0.08</td>\n",
       "                        <td id=\"T_c6ba56b8_a3e8_11ea_aa90_30e37ac86bc0row3_col14\" class=\"data row3 col14\" >-0.08</td>\n",
       "                        <td id=\"T_c6ba56b8_a3e8_11ea_aa90_30e37ac86bc0row3_col15\" class=\"data row3 col15\" >-0.52</td>\n",
       "            </tr>\n",
       "            <tr>\n",
       "                        <th id=\"T_c6ba56b8_a3e8_11ea_aa90_30e37ac86bc0level0_row4\" class=\"row_heading level0 row4\" >Formation energy [eV/atom]</th>\n",
       "                        <td id=\"T_c6ba56b8_a3e8_11ea_aa90_30e37ac86bc0row4_col0\" class=\"data row4 col0\" >-0.49</td>\n",
       "                        <td id=\"T_c6ba56b8_a3e8_11ea_aa90_30e37ac86bc0row4_col1\" class=\"data row4 col1\" >-0.13</td>\n",
       "                        <td id=\"T_c6ba56b8_a3e8_11ea_aa90_30e37ac86bc0row4_col2\" class=\"data row4 col2\" >-0.33</td>\n",
       "                        <td id=\"T_c6ba56b8_a3e8_11ea_aa90_30e37ac86bc0row4_col3\" class=\"data row4 col3\" >-0.13</td>\n",
       "                        <td id=\"T_c6ba56b8_a3e8_11ea_aa90_30e37ac86bc0row4_col4\" class=\"data row4 col4\" >1.00</td>\n",
       "                        <td id=\"T_c6ba56b8_a3e8_11ea_aa90_30e37ac86bc0row4_col5\" class=\"data row4 col5\" >0.61</td>\n",
       "                        <td id=\"T_c6ba56b8_a3e8_11ea_aa90_30e37ac86bc0row4_col6\" class=\"data row4 col6\" >0.31</td>\n",
       "                        <td id=\"T_c6ba56b8_a3e8_11ea_aa90_30e37ac86bc0row4_col7\" class=\"data row4 col7\" >-0.17</td>\n",
       "                        <td id=\"T_c6ba56b8_a3e8_11ea_aa90_30e37ac86bc0row4_col8\" class=\"data row4 col8\" >-0.49</td>\n",
       "                        <td id=\"T_c6ba56b8_a3e8_11ea_aa90_30e37ac86bc0row4_col9\" class=\"data row4 col9\" >-0.49</td>\n",
       "                        <td id=\"T_c6ba56b8_a3e8_11ea_aa90_30e37ac86bc0row4_col10\" class=\"data row4 col10\" >-0.49</td>\n",
       "                        <td id=\"T_c6ba56b8_a3e8_11ea_aa90_30e37ac86bc0row4_col11\" class=\"data row4 col11\" >-0.47</td>\n",
       "                        <td id=\"T_c6ba56b8_a3e8_11ea_aa90_30e37ac86bc0row4_col12\" class=\"data row4 col12\" >0.09</td>\n",
       "                        <td id=\"T_c6ba56b8_a3e8_11ea_aa90_30e37ac86bc0row4_col13\" class=\"data row4 col13\" >0.09</td>\n",
       "                        <td id=\"T_c6ba56b8_a3e8_11ea_aa90_30e37ac86bc0row4_col14\" class=\"data row4 col14\" >0.09</td>\n",
       "                        <td id=\"T_c6ba56b8_a3e8_11ea_aa90_30e37ac86bc0row4_col15\" class=\"data row4 col15\" >-0.40</td>\n",
       "            </tr>\n",
       "            <tr>\n",
       "                        <th id=\"T_c6ba56b8_a3e8_11ea_aa90_30e37ac86bc0level0_row5\" class=\"row_heading level0 row5\" >Stability [eV/atom]</th>\n",
       "                        <td id=\"T_c6ba56b8_a3e8_11ea_aa90_30e37ac86bc0row5_col0\" class=\"data row5 col0\" >-0.54</td>\n",
       "                        <td id=\"T_c6ba56b8_a3e8_11ea_aa90_30e37ac86bc0row5_col1\" class=\"data row5 col1\" >0.07</td>\n",
       "                        <td id=\"T_c6ba56b8_a3e8_11ea_aa90_30e37ac86bc0row5_col2\" class=\"data row5 col2\" >-0.49</td>\n",
       "                        <td id=\"T_c6ba56b8_a3e8_11ea_aa90_30e37ac86bc0row5_col3\" class=\"data row5 col3\" >0.07</td>\n",
       "                        <td id=\"T_c6ba56b8_a3e8_11ea_aa90_30e37ac86bc0row5_col4\" class=\"data row5 col4\" >0.61</td>\n",
       "                        <td id=\"T_c6ba56b8_a3e8_11ea_aa90_30e37ac86bc0row5_col5\" class=\"data row5 col5\" >1.00</td>\n",
       "                        <td id=\"T_c6ba56b8_a3e8_11ea_aa90_30e37ac86bc0row5_col6\" class=\"data row5 col6\" >0.21</td>\n",
       "                        <td id=\"T_c6ba56b8_a3e8_11ea_aa90_30e37ac86bc0row5_col7\" class=\"data row5 col7\" >0.17</td>\n",
       "                        <td id=\"T_c6ba56b8_a3e8_11ea_aa90_30e37ac86bc0row5_col8\" class=\"data row5 col8\" >-0.35</td>\n",
       "                        <td id=\"T_c6ba56b8_a3e8_11ea_aa90_30e37ac86bc0row5_col9\" class=\"data row5 col9\" >-0.61</td>\n",
       "                        <td id=\"T_c6ba56b8_a3e8_11ea_aa90_30e37ac86bc0row5_col10\" class=\"data row5 col10\" >-0.63</td>\n",
       "                        <td id=\"T_c6ba56b8_a3e8_11ea_aa90_30e37ac86bc0row5_col11\" class=\"data row5 col11\" >-0.66</td>\n",
       "                        <td id=\"T_c6ba56b8_a3e8_11ea_aa90_30e37ac86bc0row5_col12\" class=\"data row5 col12\" >0.22</td>\n",
       "                        <td id=\"T_c6ba56b8_a3e8_11ea_aa90_30e37ac86bc0row5_col13\" class=\"data row5 col13\" >0.22</td>\n",
       "                        <td id=\"T_c6ba56b8_a3e8_11ea_aa90_30e37ac86bc0row5_col14\" class=\"data row5 col14\" >0.22</td>\n",
       "                        <td id=\"T_c6ba56b8_a3e8_11ea_aa90_30e37ac86bc0row5_col15\" class=\"data row5 col15\" >-0.36</td>\n",
       "            </tr>\n",
       "            <tr>\n",
       "                        <th id=\"T_c6ba56b8_a3e8_11ea_aa90_30e37ac86bc0level0_row6\" class=\"row_heading level0 row6\" >Magnetic moment [mu_B]</th>\n",
       "                        <td id=\"T_c6ba56b8_a3e8_11ea_aa90_30e37ac86bc0row6_col0\" class=\"data row6 col0\" >-0.26</td>\n",
       "                        <td id=\"T_c6ba56b8_a3e8_11ea_aa90_30e37ac86bc0row6_col1\" class=\"data row6 col1\" >-0.12</td>\n",
       "                        <td id=\"T_c6ba56b8_a3e8_11ea_aa90_30e37ac86bc0row6_col2\" class=\"data row6 col2\" >-0.16</td>\n",
       "                        <td id=\"T_c6ba56b8_a3e8_11ea_aa90_30e37ac86bc0row6_col3\" class=\"data row6 col3\" >-0.12</td>\n",
       "                        <td id=\"T_c6ba56b8_a3e8_11ea_aa90_30e37ac86bc0row6_col4\" class=\"data row6 col4\" >0.31</td>\n",
       "                        <td id=\"T_c6ba56b8_a3e8_11ea_aa90_30e37ac86bc0row6_col5\" class=\"data row6 col5\" >0.21</td>\n",
       "                        <td id=\"T_c6ba56b8_a3e8_11ea_aa90_30e37ac86bc0row6_col6\" class=\"data row6 col6\" >1.00</td>\n",
       "                        <td id=\"T_c6ba56b8_a3e8_11ea_aa90_30e37ac86bc0row6_col7\" class=\"data row6 col7\" >-0.11</td>\n",
       "                        <td id=\"T_c6ba56b8_a3e8_11ea_aa90_30e37ac86bc0row6_col8\" class=\"data row6 col8\" >-0.18</td>\n",
       "                        <td id=\"T_c6ba56b8_a3e8_11ea_aa90_30e37ac86bc0row6_col9\" class=\"data row6 col9\" >-0.15</td>\n",
       "                        <td id=\"T_c6ba56b8_a3e8_11ea_aa90_30e37ac86bc0row6_col10\" class=\"data row6 col10\" >-0.16</td>\n",
       "                        <td id=\"T_c6ba56b8_a3e8_11ea_aa90_30e37ac86bc0row6_col11\" class=\"data row6 col11\" >-0.14</td>\n",
       "                        <td id=\"T_c6ba56b8_a3e8_11ea_aa90_30e37ac86bc0row6_col12\" class=\"data row6 col12\" >0.03</td>\n",
       "                        <td id=\"T_c6ba56b8_a3e8_11ea_aa90_30e37ac86bc0row6_col13\" class=\"data row6 col13\" >0.03</td>\n",
       "                        <td id=\"T_c6ba56b8_a3e8_11ea_aa90_30e37ac86bc0row6_col14\" class=\"data row6 col14\" >0.03</td>\n",
       "                        <td id=\"T_c6ba56b8_a3e8_11ea_aa90_30e37ac86bc0row6_col15\" class=\"data row6 col15\" >-0.11</td>\n",
       "            </tr>\n",
       "            <tr>\n",
       "                        <th id=\"T_c6ba56b8_a3e8_11ea_aa90_30e37ac86bc0level0_row7\" class=\"row_heading level0 row7\" >Volume per atom [A^3/atom]</th>\n",
       "                        <td id=\"T_c6ba56b8_a3e8_11ea_aa90_30e37ac86bc0row7_col0\" class=\"data row7 col0\" >0.17</td>\n",
       "                        <td id=\"T_c6ba56b8_a3e8_11ea_aa90_30e37ac86bc0row7_col1\" class=\"data row7 col1\" >0.77</td>\n",
       "                        <td id=\"T_c6ba56b8_a3e8_11ea_aa90_30e37ac86bc0row7_col2\" class=\"data row7 col2\" >-0.31</td>\n",
       "                        <td id=\"T_c6ba56b8_a3e8_11ea_aa90_30e37ac86bc0row7_col3\" class=\"data row7 col3\" >0.77</td>\n",
       "                        <td id=\"T_c6ba56b8_a3e8_11ea_aa90_30e37ac86bc0row7_col4\" class=\"data row7 col4\" >-0.17</td>\n",
       "                        <td id=\"T_c6ba56b8_a3e8_11ea_aa90_30e37ac86bc0row7_col5\" class=\"data row7 col5\" >0.17</td>\n",
       "                        <td id=\"T_c6ba56b8_a3e8_11ea_aa90_30e37ac86bc0row7_col6\" class=\"data row7 col6\" >-0.11</td>\n",
       "                        <td id=\"T_c6ba56b8_a3e8_11ea_aa90_30e37ac86bc0row7_col7\" class=\"data row7 col7\" >1.00</td>\n",
       "                        <td id=\"T_c6ba56b8_a3e8_11ea_aa90_30e37ac86bc0row7_col8\" class=\"data row7 col8\" >0.00</td>\n",
       "                        <td id=\"T_c6ba56b8_a3e8_11ea_aa90_30e37ac86bc0row7_col9\" class=\"data row7 col9\" >0.28</td>\n",
       "                        <td id=\"T_c6ba56b8_a3e8_11ea_aa90_30e37ac86bc0row7_col10\" class=\"data row7 col10\" >0.23</td>\n",
       "                        <td id=\"T_c6ba56b8_a3e8_11ea_aa90_30e37ac86bc0row7_col11\" class=\"data row7 col11\" >0.10</td>\n",
       "                        <td id=\"T_c6ba56b8_a3e8_11ea_aa90_30e37ac86bc0row7_col12\" class=\"data row7 col12\" >-0.01</td>\n",
       "                        <td id=\"T_c6ba56b8_a3e8_11ea_aa90_30e37ac86bc0row7_col13\" class=\"data row7 col13\" >-0.01</td>\n",
       "                        <td id=\"T_c6ba56b8_a3e8_11ea_aa90_30e37ac86bc0row7_col14\" class=\"data row7 col14\" >-0.01</td>\n",
       "                        <td id=\"T_c6ba56b8_a3e8_11ea_aa90_30e37ac86bc0row7_col15\" class=\"data row7 col15\" >-0.26</td>\n",
       "            </tr>\n",
       "            <tr>\n",
       "                        <th id=\"T_c6ba56b8_a3e8_11ea_aa90_30e37ac86bc0level0_row8\" class=\"row_heading level0 row8\" >Band gap [eV]</th>\n",
       "                        <td id=\"T_c6ba56b8_a3e8_11ea_aa90_30e37ac86bc0row8_col0\" class=\"data row8 col0\" >0.13</td>\n",
       "                        <td id=\"T_c6ba56b8_a3e8_11ea_aa90_30e37ac86bc0row8_col1\" class=\"data row8 col1\" >0.08</td>\n",
       "                        <td id=\"T_c6ba56b8_a3e8_11ea_aa90_30e37ac86bc0row8_col2\" class=\"data row8 col2\" >0.07</td>\n",
       "                        <td id=\"T_c6ba56b8_a3e8_11ea_aa90_30e37ac86bc0row8_col3\" class=\"data row8 col3\" >0.08</td>\n",
       "                        <td id=\"T_c6ba56b8_a3e8_11ea_aa90_30e37ac86bc0row8_col4\" class=\"data row8 col4\" >-0.49</td>\n",
       "                        <td id=\"T_c6ba56b8_a3e8_11ea_aa90_30e37ac86bc0row8_col5\" class=\"data row8 col5\" >-0.35</td>\n",
       "                        <td id=\"T_c6ba56b8_a3e8_11ea_aa90_30e37ac86bc0row8_col6\" class=\"data row8 col6\" >-0.18</td>\n",
       "                        <td id=\"T_c6ba56b8_a3e8_11ea_aa90_30e37ac86bc0row8_col7\" class=\"data row8 col7\" >0.00</td>\n",
       "                        <td id=\"T_c6ba56b8_a3e8_11ea_aa90_30e37ac86bc0row8_col8\" class=\"data row8 col8\" >1.00</td>\n",
       "                        <td id=\"T_c6ba56b8_a3e8_11ea_aa90_30e37ac86bc0row8_col9\" class=\"data row8 col9\" >0.35</td>\n",
       "                        <td id=\"T_c6ba56b8_a3e8_11ea_aa90_30e37ac86bc0row8_col10\" class=\"data row8 col10\" >0.35</td>\n",
       "                        <td id=\"T_c6ba56b8_a3e8_11ea_aa90_30e37ac86bc0row8_col11\" class=\"data row8 col11\" >0.35</td>\n",
       "                        <td id=\"T_c6ba56b8_a3e8_11ea_aa90_30e37ac86bc0row8_col12\" class=\"data row8 col12\" >-0.13</td>\n",
       "                        <td id=\"T_c6ba56b8_a3e8_11ea_aa90_30e37ac86bc0row8_col13\" class=\"data row8 col13\" >-0.13</td>\n",
       "                        <td id=\"T_c6ba56b8_a3e8_11ea_aa90_30e37ac86bc0row8_col14\" class=\"data row8 col14\" >-0.13</td>\n",
       "                        <td id=\"T_c6ba56b8_a3e8_11ea_aa90_30e37ac86bc0row8_col15\" class=\"data row8 col15\" >0.18</td>\n",
       "            </tr>\n",
       "            <tr>\n",
       "                        <th id=\"T_c6ba56b8_a3e8_11ea_aa90_30e37ac86bc0level0_row9\" class=\"row_heading level0 row9\" >a [ang]</th>\n",
       "                        <td id=\"T_c6ba56b8_a3e8_11ea_aa90_30e37ac86bc0row9_col0\" class=\"data row9 col0\" >0.30</td>\n",
       "                        <td id=\"T_c6ba56b8_a3e8_11ea_aa90_30e37ac86bc0row9_col1\" class=\"data row9 col1\" >0.40</td>\n",
       "                        <td id=\"T_c6ba56b8_a3e8_11ea_aa90_30e37ac86bc0row9_col2\" class=\"data row9 col2\" >0.03</td>\n",
       "                        <td id=\"T_c6ba56b8_a3e8_11ea_aa90_30e37ac86bc0row9_col3\" class=\"data row9 col3\" >0.40</td>\n",
       "                        <td id=\"T_c6ba56b8_a3e8_11ea_aa90_30e37ac86bc0row9_col4\" class=\"data row9 col4\" >-0.49</td>\n",
       "                        <td id=\"T_c6ba56b8_a3e8_11ea_aa90_30e37ac86bc0row9_col5\" class=\"data row9 col5\" >-0.61</td>\n",
       "                        <td id=\"T_c6ba56b8_a3e8_11ea_aa90_30e37ac86bc0row9_col6\" class=\"data row9 col6\" >-0.15</td>\n",
       "                        <td id=\"T_c6ba56b8_a3e8_11ea_aa90_30e37ac86bc0row9_col7\" class=\"data row9 col7\" >0.28</td>\n",
       "                        <td id=\"T_c6ba56b8_a3e8_11ea_aa90_30e37ac86bc0row9_col8\" class=\"data row9 col8\" >0.35</td>\n",
       "                        <td id=\"T_c6ba56b8_a3e8_11ea_aa90_30e37ac86bc0row9_col9\" class=\"data row9 col9\" >1.00</td>\n",
       "                        <td id=\"T_c6ba56b8_a3e8_11ea_aa90_30e37ac86bc0row9_col10\" class=\"data row9 col10\" >0.99</td>\n",
       "                        <td id=\"T_c6ba56b8_a3e8_11ea_aa90_30e37ac86bc0row9_col11\" class=\"data row9 col11\" >0.89</td>\n",
       "                        <td id=\"T_c6ba56b8_a3e8_11ea_aa90_30e37ac86bc0row9_col12\" class=\"data row9 col12\" >-0.38</td>\n",
       "                        <td id=\"T_c6ba56b8_a3e8_11ea_aa90_30e37ac86bc0row9_col13\" class=\"data row9 col13\" >-0.38</td>\n",
       "                        <td id=\"T_c6ba56b8_a3e8_11ea_aa90_30e37ac86bc0row9_col14\" class=\"data row9 col14\" >-0.38</td>\n",
       "                        <td id=\"T_c6ba56b8_a3e8_11ea_aa90_30e37ac86bc0row9_col15\" class=\"data row9 col15\" >-0.08</td>\n",
       "            </tr>\n",
       "            <tr>\n",
       "                        <th id=\"T_c6ba56b8_a3e8_11ea_aa90_30e37ac86bc0level0_row10\" class=\"row_heading level0 row10\" >b [ang]</th>\n",
       "                        <td id=\"T_c6ba56b8_a3e8_11ea_aa90_30e37ac86bc0row10_col0\" class=\"data row10 col0\" >0.29</td>\n",
       "                        <td id=\"T_c6ba56b8_a3e8_11ea_aa90_30e37ac86bc0row10_col1\" class=\"data row10 col1\" >0.37</td>\n",
       "                        <td id=\"T_c6ba56b8_a3e8_11ea_aa90_30e37ac86bc0row10_col2\" class=\"data row10 col2\" >0.04</td>\n",
       "                        <td id=\"T_c6ba56b8_a3e8_11ea_aa90_30e37ac86bc0row10_col3\" class=\"data row10 col3\" >0.37</td>\n",
       "                        <td id=\"T_c6ba56b8_a3e8_11ea_aa90_30e37ac86bc0row10_col4\" class=\"data row10 col4\" >-0.49</td>\n",
       "                        <td id=\"T_c6ba56b8_a3e8_11ea_aa90_30e37ac86bc0row10_col5\" class=\"data row10 col5\" >-0.63</td>\n",
       "                        <td id=\"T_c6ba56b8_a3e8_11ea_aa90_30e37ac86bc0row10_col6\" class=\"data row10 col6\" >-0.16</td>\n",
       "                        <td id=\"T_c6ba56b8_a3e8_11ea_aa90_30e37ac86bc0row10_col7\" class=\"data row10 col7\" >0.23</td>\n",
       "                        <td id=\"T_c6ba56b8_a3e8_11ea_aa90_30e37ac86bc0row10_col8\" class=\"data row10 col8\" >0.35</td>\n",
       "                        <td id=\"T_c6ba56b8_a3e8_11ea_aa90_30e37ac86bc0row10_col9\" class=\"data row10 col9\" >0.99</td>\n",
       "                        <td id=\"T_c6ba56b8_a3e8_11ea_aa90_30e37ac86bc0row10_col10\" class=\"data row10 col10\" >1.00</td>\n",
       "                        <td id=\"T_c6ba56b8_a3e8_11ea_aa90_30e37ac86bc0row10_col11\" class=\"data row10 col11\" >0.92</td>\n",
       "                        <td id=\"T_c6ba56b8_a3e8_11ea_aa90_30e37ac86bc0row10_col12\" class=\"data row10 col12\" >-0.32</td>\n",
       "                        <td id=\"T_c6ba56b8_a3e8_11ea_aa90_30e37ac86bc0row10_col13\" class=\"data row10 col13\" >-0.32</td>\n",
       "                        <td id=\"T_c6ba56b8_a3e8_11ea_aa90_30e37ac86bc0row10_col14\" class=\"data row10 col14\" >-0.32</td>\n",
       "                        <td id=\"T_c6ba56b8_a3e8_11ea_aa90_30e37ac86bc0row10_col15\" class=\"data row10 col15\" >-0.08</td>\n",
       "            </tr>\n",
       "            <tr>\n",
       "                        <th id=\"T_c6ba56b8_a3e8_11ea_aa90_30e37ac86bc0level0_row11\" class=\"row_heading level0 row11\" >c [ang]</th>\n",
       "                        <td id=\"T_c6ba56b8_a3e8_11ea_aa90_30e37ac86bc0row11_col0\" class=\"data row11 col0\" >0.29</td>\n",
       "                        <td id=\"T_c6ba56b8_a3e8_11ea_aa90_30e37ac86bc0row11_col1\" class=\"data row11 col1\" >0.29</td>\n",
       "                        <td id=\"T_c6ba56b8_a3e8_11ea_aa90_30e37ac86bc0row11_col2\" class=\"data row11 col2\" >0.09</td>\n",
       "                        <td id=\"T_c6ba56b8_a3e8_11ea_aa90_30e37ac86bc0row11_col3\" class=\"data row11 col3\" >0.29</td>\n",
       "                        <td id=\"T_c6ba56b8_a3e8_11ea_aa90_30e37ac86bc0row11_col4\" class=\"data row11 col4\" >-0.47</td>\n",
       "                        <td id=\"T_c6ba56b8_a3e8_11ea_aa90_30e37ac86bc0row11_col5\" class=\"data row11 col5\" >-0.66</td>\n",
       "                        <td id=\"T_c6ba56b8_a3e8_11ea_aa90_30e37ac86bc0row11_col6\" class=\"data row11 col6\" >-0.14</td>\n",
       "                        <td id=\"T_c6ba56b8_a3e8_11ea_aa90_30e37ac86bc0row11_col7\" class=\"data row11 col7\" >0.10</td>\n",
       "                        <td id=\"T_c6ba56b8_a3e8_11ea_aa90_30e37ac86bc0row11_col8\" class=\"data row11 col8\" >0.35</td>\n",
       "                        <td id=\"T_c6ba56b8_a3e8_11ea_aa90_30e37ac86bc0row11_col9\" class=\"data row11 col9\" >0.89</td>\n",
       "                        <td id=\"T_c6ba56b8_a3e8_11ea_aa90_30e37ac86bc0row11_col10\" class=\"data row11 col10\" >0.92</td>\n",
       "                        <td id=\"T_c6ba56b8_a3e8_11ea_aa90_30e37ac86bc0row11_col11\" class=\"data row11 col11\" >1.00</td>\n",
       "                        <td id=\"T_c6ba56b8_a3e8_11ea_aa90_30e37ac86bc0row11_col12\" class=\"data row11 col12\" >-0.06</td>\n",
       "                        <td id=\"T_c6ba56b8_a3e8_11ea_aa90_30e37ac86bc0row11_col13\" class=\"data row11 col13\" >-0.06</td>\n",
       "                        <td id=\"T_c6ba56b8_a3e8_11ea_aa90_30e37ac86bc0row11_col14\" class=\"data row11 col14\" >-0.06</td>\n",
       "                        <td id=\"T_c6ba56b8_a3e8_11ea_aa90_30e37ac86bc0row11_col15\" class=\"data row11 col15\" >-0.05</td>\n",
       "            </tr>\n",
       "            <tr>\n",
       "                        <th id=\"T_c6ba56b8_a3e8_11ea_aa90_30e37ac86bc0level0_row12\" class=\"row_heading level0 row12\" >alpha [deg]</th>\n",
       "                        <td id=\"T_c6ba56b8_a3e8_11ea_aa90_30e37ac86bc0row12_col0\" class=\"data row12 col0\" >0.03</td>\n",
       "                        <td id=\"T_c6ba56b8_a3e8_11ea_aa90_30e37ac86bc0row12_col1\" class=\"data row12 col1\" >-0.08</td>\n",
       "                        <td id=\"T_c6ba56b8_a3e8_11ea_aa90_30e37ac86bc0row12_col2\" class=\"data row12 col2\" >0.06</td>\n",
       "                        <td id=\"T_c6ba56b8_a3e8_11ea_aa90_30e37ac86bc0row12_col3\" class=\"data row12 col3\" >-0.08</td>\n",
       "                        <td id=\"T_c6ba56b8_a3e8_11ea_aa90_30e37ac86bc0row12_col4\" class=\"data row12 col4\" >0.09</td>\n",
       "                        <td id=\"T_c6ba56b8_a3e8_11ea_aa90_30e37ac86bc0row12_col5\" class=\"data row12 col5\" >0.22</td>\n",
       "                        <td id=\"T_c6ba56b8_a3e8_11ea_aa90_30e37ac86bc0row12_col6\" class=\"data row12 col6\" >0.03</td>\n",
       "                        <td id=\"T_c6ba56b8_a3e8_11ea_aa90_30e37ac86bc0row12_col7\" class=\"data row12 col7\" >-0.01</td>\n",
       "                        <td id=\"T_c6ba56b8_a3e8_11ea_aa90_30e37ac86bc0row12_col8\" class=\"data row12 col8\" >-0.13</td>\n",
       "                        <td id=\"T_c6ba56b8_a3e8_11ea_aa90_30e37ac86bc0row12_col9\" class=\"data row12 col9\" >-0.38</td>\n",
       "                        <td id=\"T_c6ba56b8_a3e8_11ea_aa90_30e37ac86bc0row12_col10\" class=\"data row12 col10\" >-0.32</td>\n",
       "                        <td id=\"T_c6ba56b8_a3e8_11ea_aa90_30e37ac86bc0row12_col11\" class=\"data row12 col11\" >-0.06</td>\n",
       "                        <td id=\"T_c6ba56b8_a3e8_11ea_aa90_30e37ac86bc0row12_col12\" class=\"data row12 col12\" >1.00</td>\n",
       "                        <td id=\"T_c6ba56b8_a3e8_11ea_aa90_30e37ac86bc0row12_col13\" class=\"data row12 col13\" >1.00</td>\n",
       "                        <td id=\"T_c6ba56b8_a3e8_11ea_aa90_30e37ac86bc0row12_col14\" class=\"data row12 col14\" >1.00</td>\n",
       "                        <td id=\"T_c6ba56b8_a3e8_11ea_aa90_30e37ac86bc0row12_col15\" class=\"data row12 col15\" >0.10</td>\n",
       "            </tr>\n",
       "            <tr>\n",
       "                        <th id=\"T_c6ba56b8_a3e8_11ea_aa90_30e37ac86bc0level0_row13\" class=\"row_heading level0 row13\" >beta [deg]</th>\n",
       "                        <td id=\"T_c6ba56b8_a3e8_11ea_aa90_30e37ac86bc0row13_col0\" class=\"data row13 col0\" >0.03</td>\n",
       "                        <td id=\"T_c6ba56b8_a3e8_11ea_aa90_30e37ac86bc0row13_col1\" class=\"data row13 col1\" >-0.08</td>\n",
       "                        <td id=\"T_c6ba56b8_a3e8_11ea_aa90_30e37ac86bc0row13_col2\" class=\"data row13 col2\" >0.06</td>\n",
       "                        <td id=\"T_c6ba56b8_a3e8_11ea_aa90_30e37ac86bc0row13_col3\" class=\"data row13 col3\" >-0.08</td>\n",
       "                        <td id=\"T_c6ba56b8_a3e8_11ea_aa90_30e37ac86bc0row13_col4\" class=\"data row13 col4\" >0.09</td>\n",
       "                        <td id=\"T_c6ba56b8_a3e8_11ea_aa90_30e37ac86bc0row13_col5\" class=\"data row13 col5\" >0.22</td>\n",
       "                        <td id=\"T_c6ba56b8_a3e8_11ea_aa90_30e37ac86bc0row13_col6\" class=\"data row13 col6\" >0.03</td>\n",
       "                        <td id=\"T_c6ba56b8_a3e8_11ea_aa90_30e37ac86bc0row13_col7\" class=\"data row13 col7\" >-0.01</td>\n",
       "                        <td id=\"T_c6ba56b8_a3e8_11ea_aa90_30e37ac86bc0row13_col8\" class=\"data row13 col8\" >-0.13</td>\n",
       "                        <td id=\"T_c6ba56b8_a3e8_11ea_aa90_30e37ac86bc0row13_col9\" class=\"data row13 col9\" >-0.38</td>\n",
       "                        <td id=\"T_c6ba56b8_a3e8_11ea_aa90_30e37ac86bc0row13_col10\" class=\"data row13 col10\" >-0.32</td>\n",
       "                        <td id=\"T_c6ba56b8_a3e8_11ea_aa90_30e37ac86bc0row13_col11\" class=\"data row13 col11\" >-0.06</td>\n",
       "                        <td id=\"T_c6ba56b8_a3e8_11ea_aa90_30e37ac86bc0row13_col12\" class=\"data row13 col12\" >1.00</td>\n",
       "                        <td id=\"T_c6ba56b8_a3e8_11ea_aa90_30e37ac86bc0row13_col13\" class=\"data row13 col13\" >1.00</td>\n",
       "                        <td id=\"T_c6ba56b8_a3e8_11ea_aa90_30e37ac86bc0row13_col14\" class=\"data row13 col14\" >0.99</td>\n",
       "                        <td id=\"T_c6ba56b8_a3e8_11ea_aa90_30e37ac86bc0row13_col15\" class=\"data row13 col15\" >0.10</td>\n",
       "            </tr>\n",
       "            <tr>\n",
       "                        <th id=\"T_c6ba56b8_a3e8_11ea_aa90_30e37ac86bc0level0_row14\" class=\"row_heading level0 row14\" >gamma [deg]</th>\n",
       "                        <td id=\"T_c6ba56b8_a3e8_11ea_aa90_30e37ac86bc0row14_col0\" class=\"data row14 col0\" >0.03</td>\n",
       "                        <td id=\"T_c6ba56b8_a3e8_11ea_aa90_30e37ac86bc0row14_col1\" class=\"data row14 col1\" >-0.08</td>\n",
       "                        <td id=\"T_c6ba56b8_a3e8_11ea_aa90_30e37ac86bc0row14_col2\" class=\"data row14 col2\" >0.06</td>\n",
       "                        <td id=\"T_c6ba56b8_a3e8_11ea_aa90_30e37ac86bc0row14_col3\" class=\"data row14 col3\" >-0.08</td>\n",
       "                        <td id=\"T_c6ba56b8_a3e8_11ea_aa90_30e37ac86bc0row14_col4\" class=\"data row14 col4\" >0.09</td>\n",
       "                        <td id=\"T_c6ba56b8_a3e8_11ea_aa90_30e37ac86bc0row14_col5\" class=\"data row14 col5\" >0.22</td>\n",
       "                        <td id=\"T_c6ba56b8_a3e8_11ea_aa90_30e37ac86bc0row14_col6\" class=\"data row14 col6\" >0.03</td>\n",
       "                        <td id=\"T_c6ba56b8_a3e8_11ea_aa90_30e37ac86bc0row14_col7\" class=\"data row14 col7\" >-0.01</td>\n",
       "                        <td id=\"T_c6ba56b8_a3e8_11ea_aa90_30e37ac86bc0row14_col8\" class=\"data row14 col8\" >-0.13</td>\n",
       "                        <td id=\"T_c6ba56b8_a3e8_11ea_aa90_30e37ac86bc0row14_col9\" class=\"data row14 col9\" >-0.38</td>\n",
       "                        <td id=\"T_c6ba56b8_a3e8_11ea_aa90_30e37ac86bc0row14_col10\" class=\"data row14 col10\" >-0.32</td>\n",
       "                        <td id=\"T_c6ba56b8_a3e8_11ea_aa90_30e37ac86bc0row14_col11\" class=\"data row14 col11\" >-0.06</td>\n",
       "                        <td id=\"T_c6ba56b8_a3e8_11ea_aa90_30e37ac86bc0row14_col12\" class=\"data row14 col12\" >1.00</td>\n",
       "                        <td id=\"T_c6ba56b8_a3e8_11ea_aa90_30e37ac86bc0row14_col13\" class=\"data row14 col13\" >0.99</td>\n",
       "                        <td id=\"T_c6ba56b8_a3e8_11ea_aa90_30e37ac86bc0row14_col14\" class=\"data row14 col14\" >1.00</td>\n",
       "                        <td id=\"T_c6ba56b8_a3e8_11ea_aa90_30e37ac86bc0row14_col15\" class=\"data row14 col15\" >0.10</td>\n",
       "            </tr>\n",
       "            <tr>\n",
       "                        <th id=\"T_c6ba56b8_a3e8_11ea_aa90_30e37ac86bc0level0_row15\" class=\"row_heading level0 row15\" >Vacancy energy [eV/O atom]</th>\n",
       "                        <td id=\"T_c6ba56b8_a3e8_11ea_aa90_30e37ac86bc0row15_col0\" class=\"data row15 col0\" >0.43</td>\n",
       "                        <td id=\"T_c6ba56b8_a3e8_11ea_aa90_30e37ac86bc0row15_col1\" class=\"data row15 col1\" >-0.52</td>\n",
       "                        <td id=\"T_c6ba56b8_a3e8_11ea_aa90_30e37ac86bc0row15_col2\" class=\"data row15 col2\" >0.62</td>\n",
       "                        <td id=\"T_c6ba56b8_a3e8_11ea_aa90_30e37ac86bc0row15_col3\" class=\"data row15 col3\" >-0.52</td>\n",
       "                        <td id=\"T_c6ba56b8_a3e8_11ea_aa90_30e37ac86bc0row15_col4\" class=\"data row15 col4\" >-0.40</td>\n",
       "                        <td id=\"T_c6ba56b8_a3e8_11ea_aa90_30e37ac86bc0row15_col5\" class=\"data row15 col5\" >-0.36</td>\n",
       "                        <td id=\"T_c6ba56b8_a3e8_11ea_aa90_30e37ac86bc0row15_col6\" class=\"data row15 col6\" >-0.11</td>\n",
       "                        <td id=\"T_c6ba56b8_a3e8_11ea_aa90_30e37ac86bc0row15_col7\" class=\"data row15 col7\" >-0.26</td>\n",
       "                        <td id=\"T_c6ba56b8_a3e8_11ea_aa90_30e37ac86bc0row15_col8\" class=\"data row15 col8\" >0.18</td>\n",
       "                        <td id=\"T_c6ba56b8_a3e8_11ea_aa90_30e37ac86bc0row15_col9\" class=\"data row15 col9\" >-0.08</td>\n",
       "                        <td id=\"T_c6ba56b8_a3e8_11ea_aa90_30e37ac86bc0row15_col10\" class=\"data row15 col10\" >-0.08</td>\n",
       "                        <td id=\"T_c6ba56b8_a3e8_11ea_aa90_30e37ac86bc0row15_col11\" class=\"data row15 col11\" >-0.05</td>\n",
       "                        <td id=\"T_c6ba56b8_a3e8_11ea_aa90_30e37ac86bc0row15_col12\" class=\"data row15 col12\" >0.10</td>\n",
       "                        <td id=\"T_c6ba56b8_a3e8_11ea_aa90_30e37ac86bc0row15_col13\" class=\"data row15 col13\" >0.10</td>\n",
       "                        <td id=\"T_c6ba56b8_a3e8_11ea_aa90_30e37ac86bc0row15_col14\" class=\"data row15 col14\" >0.10</td>\n",
       "                        <td id=\"T_c6ba56b8_a3e8_11ea_aa90_30e37ac86bc0row15_col15\" class=\"data row15 col15\" >1.00</td>\n",
       "            </tr>\n",
       "    </tbody></table>"
      ],
      "text/plain": [
       "<pandas.io.formats.style.Styler at 0x1fc51add3c8>"
      ]
     },
     "execution_count": 22,
     "metadata": {},
     "output_type": "execute_result"
    }
   ],
   "source": [
    "corr = numeric.corr()\n",
    "corr.style.background_gradient(cmap='coolwarm')\n",
    "corr.style.background_gradient(cmap='coolwarm').set_precision(2)"
   ]
  },
  {
   "cell_type": "code",
   "execution_count": 23,
   "metadata": {},
   "outputs": [],
   "source": [
    "test=df[df['In literature']==True]"
   ]
  },
  {
   "cell_type": "code",
   "execution_count": 24,
   "metadata": {},
   "outputs": [
    {
     "data": {
      "text/plain": [
       "<matplotlib.axes._subplots.AxesSubplot at 0x1fc51ac7f98>"
      ]
     },
     "execution_count": 24,
     "metadata": {},
     "output_type": "execute_result"
    },
    {
     "data": {
      "image/png": "[encoded data removed]",
      "text/plain": [
       "<Figure size 1500x600 with 1 Axes>"
      ]
     },
     "metadata": {
      "needs_background": "light"
     },
     "output_type": "display_data"
    }
   ],
   "source": [
    "sns.scatterplot(test['Octahedral factor'],test['Goldschmidt Tolerance'],hue=test['Lowest distortion'])"
   ]
  },
  {
   "cell_type": "code",
   "execution_count": 25,
   "metadata": {},
   "outputs": [],
   "source": [
    "#Should I cap the octahedral values from 0.3 to 1?\n",
    "#How to do this?"
   ]
  },
  {
   "cell_type": "code",
   "execution_count": 26,
   "metadata": {},
   "outputs": [
    {
     "data": {
      "image/png": "[encoded data removed]",
      "text/plain": [
       "<Figure size 1500x600 with 1 Axes>"
      ]
     },
     "metadata": {
      "needs_background": "light"
     },
     "output_type": "display_data"
    },
    {
     "data": {
      "image/png": "[encoded data removed]",
      "text/plain": [
       "<Figure size 1500x600 with 1 Axes>"
      ]
     },
     "metadata": {
      "needs_background": "light"
     },
     "output_type": "display_data"
    },
    {
     "data": {
      "image/png": "[encoded data removed]",
      "text/plain": [
       "<Figure size 1500x600 with 1 Axes>"
      ]
     },
     "metadata": {
      "needs_background": "light"
     },
     "output_type": "display_data"
    },
    {
     "data": {
      "image/png": "[encoded data removed]",
      "text/plain": [
       "<Figure size 1500x600 with 1 Axes>"
      ]
     },
     "metadata": {
      "needs_background": "light"
     },
     "output_type": "display_data"
    },
    {
     "data": {
      "image/png": "[encoded data removed]",
      "text/plain": [
       "<Figure size 1500x600 with 1 Axes>"
      ]
     },
     "metadata": {
      "needs_background": "light"
     },
     "output_type": "display_data"
    },
    {
     "data": {
      "image/png": "[encoded data removed]",
      "text/plain": [
       "<Figure size 1500x600 with 1 Axes>"
      ]
     },
     "metadata": {
      "needs_background": "light"
     },
     "output_type": "display_data"
    },
    {
     "data": {
      "image/png": "[encoded data removed]",
      "text/plain": [
       "<Figure size 1500x600 with 1 Axes>"
      ]
     },
     "metadata": {
      "needs_background": "light"
     },
     "output_type": "display_data"
    },
    {
     "data": {
      "image/png": "[encoded data removed]",
      "text/plain": [
       "<Figure size 1500x600 with 1 Axes>"
      ]
     },
     "metadata": {
      "needs_background": "light"
     },
     "output_type": "display_data"
    },
    {
     "data": {
      "image/png": "[encoded data removed]",
      "text/plain": [
       "<Figure size 1500x600 with 1 Axes>"
      ]
     },
     "metadata": {
      "needs_background": "light"
     },
     "output_type": "display_data"
    },
    {
     "data": {
      "image/png": "[encoded data removed]",
      "text/plain": [
       "<Figure size 1500x600 with 1 Axes>"
      ]
     },
     "metadata": {
      "needs_background": "light"
     },
     "output_type": "display_data"
    },
    {
     "data": {
      "image/png": "[encoded data removed]",
      "text/plain": [
       "<Figure size 1500x600 with 1 Axes>"
      ]
     },
     "metadata": {
      "needs_background": "light"
     },
     "output_type": "display_data"
    },
    {
     "data": {
      "image/png": "[encoded data removed]",
      "text/plain": [
       "<Figure size 1500x600 with 1 Axes>"
      ]
     },
     "metadata": {
      "needs_background": "light"
     },
     "output_type": "display_data"
    },
    {
     "data": {
      "image/png": "[encoded data removed]",
      "text/plain": [
       "<Figure size 1500x600 with 1 Axes>"
      ]
     },
     "metadata": {
      "needs_background": "light"
     },
     "output_type": "display_data"
    },
    {
     "data": {
      "image/png": "[encoded data removed]",
      "text/plain": [
       "<Figure size 1500x600 with 1 Axes>"
      ]
     },
     "metadata": {
      "needs_background": "light"
     },
     "output_type": "display_data"
    },
    {
     "data": {
      "image/png": "[encoded data removed]",
      "text/plain": [
       "<Figure size 1500x600 with 1 Axes>"
      ]
     },
     "metadata": {
      "needs_background": "light"
     },
     "output_type": "display_data"
    },
    {
     "data": {
      "image/png": "[encoded data removed]",
      "text/plain": [
       "<Figure size 1500x600 with 1 Axes>"
      ]
     },
     "metadata": {
      "needs_background": "light"
     },
     "output_type": "display_data"
    }
   ],
   "source": [
    "for i in numeric.columns:\n",
    "    plt.scatter(df['Lowest distortion'], df[i])\n",
    "    #plt.tight_layout()\n",
    "    plt.ylabel(i)\n",
    "    plt.show()\n",
    "    \n",
    "#Should I cap the stability value at 1. Because above 1 it is only cubic. How will this capping help?"
   ]
  },
  {
   "cell_type": "code",
   "execution_count": 27,
   "metadata": {},
   "outputs": [
    {
     "name": "stdout",
     "output_type": "stream",
     "text": [
      "cubic has vacancy energy mean = -0.923054\n",
      "orthorhombic has vacancy energy mean = -0.471513\n",
      "rhombohedral has vacancy energy mean = -2.762137\n",
      "tetragonal has vacancy energy mean = 1.319859\n"
     ]
    }
   ],
   "source": [
    "for i in df['Lowest distortion'].unique():\n",
    "    print('%s has vacancy energy mean = %f'%(i,df[df['Lowest distortion']==i]['Vacancy energy [eV/O atom]'].mean()))"
   ]
  },
  {
   "cell_type": "code",
   "execution_count": 28,
   "metadata": {},
   "outputs": [
    {
     "name": "stdout",
     "output_type": "stream",
     "text": [
      "cubic has magnetic moment mean = 0.334711\n",
      "orthorhombic has magnetic moment mean = 0.234952\n",
      "rhombohedral has magnetic moment mean = 0.252607\n",
      "tetragonal has magnetic moment mean = 0.152254\n"
     ]
    }
   ],
   "source": [
    "for i in df['Lowest distortion'].unique():\n",
    "    print('%s has magnetic moment mean = %f'%(i,df[df['Lowest distortion']==i]['Magnetic moment [mu_B]'].mean()))"
   ]
  },
  {
   "cell_type": "markdown",
   "metadata": {},
   "source": [
    "## Replacing missing magnetic and valence energy values with means of corresponding crystal structure"
   ]
  },
  {
   "cell_type": "code",
   "execution_count": 29,
   "metadata": {},
   "outputs": [],
   "source": [
    "missing_values='-'"
   ]
  },
  {
   "cell_type": "code",
   "execution_count": 30,
   "metadata": {},
   "outputs": [],
   "source": [
    "ogdf=pd.read_csv('data_perovskites.csv',na_values=missing_values)"
   ]
  },
  {
   "cell_type": "code",
   "execution_count": 31,
   "metadata": {},
   "outputs": [],
   "source": [
    "ogdf.dropna(subset = [\"Lowest distortion\"], inplace=True)"
   ]
  },
  {
   "cell_type": "code",
   "execution_count": 32,
   "metadata": {},
   "outputs": [
    {
     "data": {
      "text/plain": [
       "Chemical formula                0\n",
       "A                               0\n",
       "B                               0\n",
       "In literature                   0\n",
       "Valence A                       0\n",
       "Valence B                       0\n",
       "Radius A [ang]                  0\n",
       "Radius B [ang]                  0\n",
       "Lowest distortion               0\n",
       "Formation energy [eV/atom]      0\n",
       "Stability [eV/atom]             0\n",
       "Magnetic moment [mu_B]        960\n",
       "Volume per atom [A^3/atom]      0\n",
       "Band gap [eV]                   0\n",
       "a [ang]                         0\n",
       "b [ang]                         0\n",
       "c [ang]                         0\n",
       "alpha [deg]                     0\n",
       "beta [deg]                      0\n",
       "gamma [deg]                     0\n",
       "Vacancy energy [eV/O atom]    362\n",
       "dtype: int64"
      ]
     },
     "execution_count": 32,
     "metadata": {},
     "output_type": "execute_result"
    }
   ],
   "source": [
    "ogdf.isna().sum()"
   ]
  },
  {
   "cell_type": "code",
   "execution_count": 33,
   "metadata": {},
   "outputs": [],
   "source": [
    "only_cubic=ogdf[ogdf['Lowest distortion']=='cubic']\n",
    "only_orthorhombic=ogdf[ogdf['Lowest distortion']=='orthorhombic']\n",
    "only_rhombohedral=ogdf[ogdf['Lowest distortion']=='rhombohedral']\n",
    "only_tetragonal=ogdf[ogdf['Lowest distortion']=='tetragonal']"
   ]
  },
  {
   "cell_type": "code",
   "execution_count": 34,
   "metadata": {},
   "outputs": [
    {
     "data": {
      "text/plain": [
       "Chemical formula                0\n",
       "A                               0\n",
       "B                               0\n",
       "In literature                   0\n",
       "Valence A                       0\n",
       "Valence B                       0\n",
       "Radius A [ang]                  0\n",
       "Radius B [ang]                  0\n",
       "Lowest distortion               0\n",
       "Formation energy [eV/atom]      0\n",
       "Stability [eV/atom]             0\n",
       "Magnetic moment [mu_B]        580\n",
       "Volume per atom [A^3/atom]      0\n",
       "Band gap [eV]                   0\n",
       "a [ang]                         0\n",
       "b [ang]                         0\n",
       "c [ang]                         0\n",
       "alpha [deg]                     0\n",
       "beta [deg]                      0\n",
       "gamma [deg]                     0\n",
       "Vacancy energy [eV/O atom]    171\n",
       "dtype: int64"
      ]
     },
     "execution_count": 34,
     "metadata": {},
     "output_type": "execute_result"
    }
   ],
   "source": [
    "only_cubic.isna().sum()"
   ]
  },
  {
   "cell_type": "code",
   "execution_count": 35,
   "metadata": {},
   "outputs": [],
   "source": [
    "only_cubic['Magnetic moment [mu_B]'].fillna(0.334711,inplace=True)\n",
    "only_orthorhombic['Magnetic moment [mu_B]'].fillna(0.234952,inplace=True)\n",
    "only_rhombohedral['Magnetic moment [mu_B]'].fillna(0.252607,inplace=True)\n",
    "only_tetragonal['Magnetic moment [mu_B]'].fillna(0.152254,inplace=True)"
   ]
  },
  {
   "cell_type": "code",
   "execution_count": 36,
   "metadata": {},
   "outputs": [],
   "source": [
    "only_cubic['Vacancy energy [eV/O atom]'].fillna(-0.923054,inplace=True)\n",
    "only_orthorhombic['Vacancy energy [eV/O atom]'].fillna(-0.471513,inplace=True)\n",
    "only_rhombohedral['Vacancy energy [eV/O atom]'].fillna(-2.762137,inplace=True)\n",
    "only_tetragonal['Vacancy energy [eV/O atom]'].fillna(1.319859,inplace=True)"
   ]
  },
  {
   "cell_type": "code",
   "execution_count": 37,
   "metadata": {},
   "outputs": [],
   "source": [
    "newdf = pd.concat([only_tetragonal,only_rhombohedral,only_orthorhombic,only_cubic])"
   ]
  },
  {
   "cell_type": "code",
   "execution_count": 38,
   "metadata": {},
   "outputs": [],
   "source": [
    "newdf['Goldschmidt Tolerance']=(newdf['Radius A [ang]']+1.4)/((2**.5)*(newdf['Radius B [ang]']+1.4))"
   ]
  },
  {
   "cell_type": "code",
   "execution_count": 39,
   "metadata": {},
   "outputs": [],
   "source": [
    "newdf['Octahedral factor']=(newdf['Radius B [ang]']/1.4)"
   ]
  },
  {
   "cell_type": "code",
   "execution_count": 40,
   "metadata": {},
   "outputs": [],
   "source": [
    "new_data=pd.read_csv('rhombohedral.csv')"
   ]
  },
  {
   "cell_type": "code",
   "execution_count": 41,
   "metadata": {},
   "outputs": [],
   "source": [
    "new_data=new_data[['ABO3','rA at 12 [ang]','rA at 6 [ang]','rB at 6 [ang]','tR']]"
   ]
  },
  {
   "cell_type": "code",
   "execution_count": 42,
   "metadata": {},
   "outputs": [],
   "source": [
    "newdf=pd.merge(newdf,new_data,how='left',left_on='Chemical formula',right_on='ABO3')"
   ]
  },
  {
   "cell_type": "code",
   "execution_count": 43,
   "metadata": {},
   "outputs": [],
   "source": [
    "newdf['New Tolerance Factor']=((newdf['rA at 6 [ang]']/newdf['rA at 12 [ang]'])/3)*((newdf['Radius A [ang]']+1.4)/(newdf['Radius B [ang]']+1.4))*((newdf['Radius B [ang]']+1.4)/1.4*(2**0.5))*((newdf['Radius A [ang]']+1.4)/1.4*(2**0.5))"
   ]
  },
  {
   "cell_type": "code",
   "execution_count": 44,
   "metadata": {},
   "outputs": [],
   "source": [
    "#newdf=newdf[newdf['Valence A']!='not balanced']"
   ]
  },
  {
   "cell_type": "code",
   "execution_count": 45,
   "metadata": {},
   "outputs": [],
   "source": [
    "#newdf=newdf[newdf['Valence A']!='element not in BV']"
   ]
  },
  {
   "cell_type": "code",
   "execution_count": 46,
   "metadata": {},
   "outputs": [],
   "source": [
    "#newdf['Valence A']=pd.to_numeric(newdf['Valence A'],downcast='float')\n",
    "#newdf['Valence B']=pd.to_numeric(newdf['Valence B'],downcast='float')"
   ]
  },
  {
   "cell_type": "code",
   "execution_count": 47,
   "metadata": {},
   "outputs": [
    {
     "data": {
      "text/plain": [
       "cubic           0.616566\n",
       "orthorhombic    0.298143\n",
       "rhombohedral    0.061221\n",
       "tetragonal      0.024071\n",
       "Name: Lowest distortion, dtype: float64"
      ]
     },
     "execution_count": 47,
     "metadata": {},
     "output_type": "execute_result"
    }
   ],
   "source": [
    "newdf['Lowest distortion'].value_counts()/5276"
   ]
  },
  {
   "cell_type": "code",
   "execution_count": 48,
   "metadata": {},
   "outputs": [],
   "source": [
    "truedf=newdf[newdf['In literature']==True]"
   ]
  },
  {
   "cell_type": "code",
   "execution_count": 49,
   "metadata": {},
   "outputs": [],
   "source": [
    "supposed_rhom = truedf[(truedf['tR'] >= 0.9) & (truedf['tR'] <= 1.1)]"
   ]
  },
  {
   "cell_type": "code",
   "execution_count": 50,
   "metadata": {},
   "outputs": [
    {
     "data": {
      "text/plain": [
       "orthorhombic    145\n",
       "rhombohedral     10\n",
       "cubic             9\n",
       "tetragonal        3\n",
       "Name: Lowest distortion, dtype: int64"
      ]
     },
     "execution_count": 50,
     "metadata": {},
     "output_type": "execute_result"
    }
   ],
   "source": [
    "supposed_rhom['Lowest distortion'].value_counts()"
   ]
  },
  {
   "cell_type": "code",
   "execution_count": 51,
   "metadata": {},
   "outputs": [
    {
     "data": {
      "image/png": "[encoded data removed]",
      "text/plain": [
       "<Figure size 1500x600 with 1 Axes>"
      ]
     },
     "metadata": {
      "needs_background": "light"
     },
     "output_type": "display_data"
    }
   ],
   "source": [
    "plt.scatter(newdf[newdf['In literature']==True]['Lowest distortion'], newdf[newdf['In literature']==True]['New Tolerance Factor'])\n",
    "#plt.tight_layout()\n",
    "plt.ylabel('New Tolerance Factor')\n",
    "plt.show()"
   ]
  },
  {
   "cell_type": "markdown",
   "metadata": {},
   "source": [
    "### building the model on on real values"
   ]
  },
  {
   "cell_type": "code",
   "execution_count": 52,
   "metadata": {},
   "outputs": [],
   "source": [
    "#newdf=newdf[newdf['In literature']==True]"
   ]
  },
  {
   "cell_type": "code",
   "execution_count": null,
   "metadata": {},
   "outputs": [],
   "source": []
  },
  {
   "cell_type": "code",
   "execution_count": 53,
   "metadata": {},
   "outputs": [],
   "source": [
    "categorical = newdf.select_dtypes(include=[np.object])\n",
    "\n",
    "numeric = newdf.select_dtypes(include=[np.int,np.float,np.float32])\n",
    "numeric_cols = numeric.columns\n",
    "\n",
    "numeric_cols\n",
    "\n",
    "non_cat=categorical.drop(['Chemical formula','A','B','Valence A','Valence B','Lowest distortion','ABO3'],axis=1)\n",
    "\n",
    "for i in non_cat.columns:\n",
    "    df[i]=pd.to_numeric(df[i],downcast='float')\n",
    "    non_cat[i]=pd.to_numeric(non_cat[i],downcast='float')\n",
    "\n",
    "\n",
    "numeric=pd.concat([numeric,non_cat],axis=1)"
   ]
  },
  {
   "cell_type": "markdown",
   "metadata": {},
   "source": [
    "## Model Building"
   ]
  },
  {
   "cell_type": "code",
   "execution_count": 54,
   "metadata": {},
   "outputs": [
    {
     "data": {
      "text/plain": [
       "Index(['Radius A [ang]', 'Radius B [ang]', 'Formation energy [eV/atom]',\n",
       "       'Stability [eV/atom]', 'Magnetic moment [mu_B]',\n",
       "       'Volume per atom [A^3/atom]', 'Band gap [eV]', 'a [ang]', 'b [ang]',\n",
       "       'c [ang]', 'alpha [deg]', 'beta [deg]', 'gamma [deg]',\n",
       "       'Vacancy energy [eV/O atom]', 'Goldschmidt Tolerance',\n",
       "       'Octahedral factor', 'rA at 12 [ang]', 'rA at 6 [ang]', 'rB at 6 [ang]',\n",
       "       'tR', 'New Tolerance Factor'],\n",
       "      dtype='object')"
      ]
     },
     "execution_count": 54,
     "metadata": {},
     "output_type": "execute_result"
    }
   ],
   "source": [
    "numeric.columns"
   ]
  },
  {
   "cell_type": "code",
   "execution_count": 55,
   "metadata": {},
   "outputs": [
    {
     "data": {
      "text/html": [
       "<div>\n",
       "<style scoped>\n",
       "    .dataframe tbody tr th:only-of-type {\n",
       "        vertical-align: middle;\n",
       "    }\n",
       "\n",
       "    .dataframe tbody tr th {\n",
       "        vertical-align: top;\n",
       "    }\n",
       "\n",
       "    .dataframe thead th {\n",
       "        text-align: right;\n",
       "    }\n",
       "</style>\n",
       "<table border=\"1\" class=\"dataframe\">\n",
       "  <thead>\n",
       "    <tr style=\"text-align: right;\">\n",
       "      <th></th>\n",
       "      <th>Radius A [ang]</th>\n",
       "      <th>Radius B [ang]</th>\n",
       "      <th>Formation energy [eV/atom]</th>\n",
       "      <th>Stability [eV/atom]</th>\n",
       "      <th>Magnetic moment [mu_B]</th>\n",
       "      <th>Volume per atom [A^3/atom]</th>\n",
       "      <th>Band gap [eV]</th>\n",
       "      <th>a [ang]</th>\n",
       "      <th>b [ang]</th>\n",
       "      <th>c [ang]</th>\n",
       "      <th>alpha [deg]</th>\n",
       "      <th>beta [deg]</th>\n",
       "      <th>gamma [deg]</th>\n",
       "      <th>Vacancy energy [eV/O atom]</th>\n",
       "      <th>Goldschmidt Tolerance</th>\n",
       "      <th>Octahedral factor</th>\n",
       "      <th>rA at 12 [ang]</th>\n",
       "      <th>rA at 6 [ang]</th>\n",
       "      <th>rB at 6 [ang]</th>\n",
       "      <th>tR</th>\n",
       "      <th>New Tolerance Factor</th>\n",
       "    </tr>\n",
       "  </thead>\n",
       "  <tbody>\n",
       "    <tr>\n",
       "      <th>0</th>\n",
       "      <td>1.12</td>\n",
       "      <td>1.67</td>\n",
       "      <td>-1.60</td>\n",
       "      <td>0.75</td>\n",
       "      <td>0.000000</td>\n",
       "      <td>19.92</td>\n",
       "      <td>0.00</td>\n",
       "      <td>4.18</td>\n",
       "      <td>4.18</td>\n",
       "      <td>5.70</td>\n",
       "      <td>90.0</td>\n",
       "      <td>90.0</td>\n",
       "      <td>90.0</td>\n",
       "      <td>-1.41</td>\n",
       "      <td>0.580426</td>\n",
       "      <td>1.192857</td>\n",
       "      <td>1.12</td>\n",
       "      <td>1.12</td>\n",
       "      <td>1.67</td>\n",
       "      <td>1.214883</td>\n",
       "      <td>2.160000</td>\n",
       "    </tr>\n",
       "    <tr>\n",
       "      <th>1</th>\n",
       "      <td>1.12</td>\n",
       "      <td>0.40</td>\n",
       "      <td>-2.78</td>\n",
       "      <td>0.40</td>\n",
       "      <td>0.000000</td>\n",
       "      <td>12.76</td>\n",
       "      <td>0.00</td>\n",
       "      <td>3.79</td>\n",
       "      <td>3.79</td>\n",
       "      <td>4.44</td>\n",
       "      <td>90.0</td>\n",
       "      <td>90.0</td>\n",
       "      <td>90.0</td>\n",
       "      <td>4.34</td>\n",
       "      <td>0.989949</td>\n",
       "      <td>0.285714</td>\n",
       "      <td>1.12</td>\n",
       "      <td>1.12</td>\n",
       "      <td>0.40</td>\n",
       "      <td>1.194086</td>\n",
       "      <td>2.160000</td>\n",
       "    </tr>\n",
       "    <tr>\n",
       "      <th>2</th>\n",
       "      <td>1.28</td>\n",
       "      <td>0.46</td>\n",
       "      <td>-0.82</td>\n",
       "      <td>0.29</td>\n",
       "      <td>0.152254</td>\n",
       "      <td>11.37</td>\n",
       "      <td>0.00</td>\n",
       "      <td>3.57</td>\n",
       "      <td>3.57</td>\n",
       "      <td>4.46</td>\n",
       "      <td>90.0</td>\n",
       "      <td>90.0</td>\n",
       "      <td>90.0</td>\n",
       "      <td>0.53</td>\n",
       "      <td>1.018842</td>\n",
       "      <td>0.328571</td>\n",
       "      <td>1.28</td>\n",
       "      <td>0.95</td>\n",
       "      <td>0.46</td>\n",
       "      <td>0.923839</td>\n",
       "      <td>1.813159</td>\n",
       "    </tr>\n",
       "    <tr>\n",
       "      <th>3</th>\n",
       "      <td>1.28</td>\n",
       "      <td>0.40</td>\n",
       "      <td>-1.63</td>\n",
       "      <td>0.32</td>\n",
       "      <td>0.152254</td>\n",
       "      <td>10.22</td>\n",
       "      <td>0.00</td>\n",
       "      <td>3.32</td>\n",
       "      <td>3.32</td>\n",
       "      <td>4.64</td>\n",
       "      <td>90.0</td>\n",
       "      <td>90.0</td>\n",
       "      <td>90.0</td>\n",
       "      <td>0.19</td>\n",
       "      <td>1.052803</td>\n",
       "      <td>0.285714</td>\n",
       "      <td>1.28</td>\n",
       "      <td>0.95</td>\n",
       "      <td>0.40</td>\n",
       "      <td>0.928222</td>\n",
       "      <td>1.813159</td>\n",
       "    </tr>\n",
       "    <tr>\n",
       "      <th>4</th>\n",
       "      <td>1.28</td>\n",
       "      <td>0.54</td>\n",
       "      <td>-1.58</td>\n",
       "      <td>0.13</td>\n",
       "      <td>0.000000</td>\n",
       "      <td>11.42</td>\n",
       "      <td>0.34</td>\n",
       "      <td>3.68</td>\n",
       "      <td>3.68</td>\n",
       "      <td>4.21</td>\n",
       "      <td>90.0</td>\n",
       "      <td>90.0</td>\n",
       "      <td>90.0</td>\n",
       "      <td>1.83</td>\n",
       "      <td>0.976828</td>\n",
       "      <td>0.385714</td>\n",
       "      <td>1.28</td>\n",
       "      <td>0.95</td>\n",
       "      <td>0.54</td>\n",
       "      <td>0.919137</td>\n",
       "      <td>1.813159</td>\n",
       "    </tr>\n",
       "    <tr>\n",
       "      <th>...</th>\n",
       "      <td>...</td>\n",
       "      <td>...</td>\n",
       "      <td>...</td>\n",
       "      <td>...</td>\n",
       "      <td>...</td>\n",
       "      <td>...</td>\n",
       "      <td>...</td>\n",
       "      <td>...</td>\n",
       "      <td>...</td>\n",
       "      <td>...</td>\n",
       "      <td>...</td>\n",
       "      <td>...</td>\n",
       "      <td>...</td>\n",
       "      <td>...</td>\n",
       "      <td>...</td>\n",
       "      <td>...</td>\n",
       "      <td>...</td>\n",
       "      <td>...</td>\n",
       "      <td>...</td>\n",
       "      <td>...</td>\n",
       "      <td>...</td>\n",
       "    </tr>\n",
       "    <tr>\n",
       "      <th>5271</th>\n",
       "      <td>0.89</td>\n",
       "      <td>0.54</td>\n",
       "      <td>-2.21</td>\n",
       "      <td>0.88</td>\n",
       "      <td>0.540000</td>\n",
       "      <td>11.09</td>\n",
       "      <td>0.00</td>\n",
       "      <td>3.81</td>\n",
       "      <td>3.81</td>\n",
       "      <td>3.81</td>\n",
       "      <td>90.0</td>\n",
       "      <td>90.0</td>\n",
       "      <td>90.0</td>\n",
       "      <td>2.40</td>\n",
       "      <td>0.834678</td>\n",
       "      <td>0.385714</td>\n",
       "      <td>0.89</td>\n",
       "      <td>0.72</td>\n",
       "      <td>0.54</td>\n",
       "      <td>0.894528</td>\n",
       "      <td>1.442999</td>\n",
       "    </tr>\n",
       "    <tr>\n",
       "      <th>5272</th>\n",
       "      <td>0.89</td>\n",
       "      <td>0.62</td>\n",
       "      <td>-1.64</td>\n",
       "      <td>1.20</td>\n",
       "      <td>0.340000</td>\n",
       "      <td>12.20</td>\n",
       "      <td>0.00</td>\n",
       "      <td>3.94</td>\n",
       "      <td>3.94</td>\n",
       "      <td>3.94</td>\n",
       "      <td>90.0</td>\n",
       "      <td>90.0</td>\n",
       "      <td>90.0</td>\n",
       "      <td>0.19</td>\n",
       "      <td>0.801621</td>\n",
       "      <td>0.442857</td>\n",
       "      <td>0.89</td>\n",
       "      <td>0.72</td>\n",
       "      <td>0.62</td>\n",
       "      <td>0.892819</td>\n",
       "      <td>1.442999</td>\n",
       "    </tr>\n",
       "    <tr>\n",
       "      <th>5273</th>\n",
       "      <td>0.89</td>\n",
       "      <td>0.90</td>\n",
       "      <td>-2.13</td>\n",
       "      <td>1.42</td>\n",
       "      <td>0.200000</td>\n",
       "      <td>15.28</td>\n",
       "      <td>0.00</td>\n",
       "      <td>4.24</td>\n",
       "      <td>4.24</td>\n",
       "      <td>4.24</td>\n",
       "      <td>90.0</td>\n",
       "      <td>90.0</td>\n",
       "      <td>90.0</td>\n",
       "      <td>-4.92</td>\n",
       "      <td>0.704032</td>\n",
       "      <td>0.642857</td>\n",
       "      <td>0.89</td>\n",
       "      <td>0.72</td>\n",
       "      <td>0.90</td>\n",
       "      <td>0.893744</td>\n",
       "      <td>1.442999</td>\n",
       "    </tr>\n",
       "    <tr>\n",
       "      <th>5274</th>\n",
       "      <td>0.89</td>\n",
       "      <td>0.74</td>\n",
       "      <td>-1.63</td>\n",
       "      <td>1.21</td>\n",
       "      <td>0.000000</td>\n",
       "      <td>10.80</td>\n",
       "      <td>0.00</td>\n",
       "      <td>3.78</td>\n",
       "      <td>3.78</td>\n",
       "      <td>3.78</td>\n",
       "      <td>90.0</td>\n",
       "      <td>90.0</td>\n",
       "      <td>90.0</td>\n",
       "      <td>-0.76</td>\n",
       "      <td>0.756670</td>\n",
       "      <td>0.528571</td>\n",
       "      <td>0.89</td>\n",
       "      <td>0.72</td>\n",
       "      <td>0.74</td>\n",
       "      <td>0.892023</td>\n",
       "      <td>1.442999</td>\n",
       "    </tr>\n",
       "    <tr>\n",
       "      <th>5275</th>\n",
       "      <td>0.89</td>\n",
       "      <td>0.72</td>\n",
       "      <td>-2.38</td>\n",
       "      <td>0.91</td>\n",
       "      <td>0.380000</td>\n",
       "      <td>13.92</td>\n",
       "      <td>0.00</td>\n",
       "      <td>4.11</td>\n",
       "      <td>4.11</td>\n",
       "      <td>4.11</td>\n",
       "      <td>90.0</td>\n",
       "      <td>90.0</td>\n",
       "      <td>90.0</td>\n",
       "      <td>3.22</td>\n",
       "      <td>0.763809</td>\n",
       "      <td>0.514286</td>\n",
       "      <td>0.89</td>\n",
       "      <td>0.72</td>\n",
       "      <td>0.72</td>\n",
       "      <td>0.892021</td>\n",
       "      <td>1.442999</td>\n",
       "    </tr>\n",
       "  </tbody>\n",
       "</table>\n",
       "<p>5276 rows × 21 columns</p>\n",
       "</div>"
      ],
      "text/plain": [
       "      Radius A [ang]  Radius B [ang]  Formation energy [eV/atom]  \\\n",
       "0               1.12            1.67                       -1.60   \n",
       "1               1.12            0.40                       -2.78   \n",
       "2               1.28            0.46                       -0.82   \n",
       "3               1.28            0.40                       -1.63   \n",
       "4               1.28            0.54                       -1.58   \n",
       "...              ...             ...                         ...   \n",
       "5271            0.89            0.54                       -2.21   \n",
       "5272            0.89            0.62                       -1.64   \n",
       "5273            0.89            0.90                       -2.13   \n",
       "5274            0.89            0.74                       -1.63   \n",
       "5275            0.89            0.72                       -2.38   \n",
       "\n",
       "      Stability [eV/atom]  Magnetic moment [mu_B]  Volume per atom [A^3/atom]  \\\n",
       "0                    0.75                0.000000                       19.92   \n",
       "1                    0.40                0.000000                       12.76   \n",
       "2                    0.29                0.152254                       11.37   \n",
       "3                    0.32                0.152254                       10.22   \n",
       "4                    0.13                0.000000                       11.42   \n",
       "...                   ...                     ...                         ...   \n",
       "5271                 0.88                0.540000                       11.09   \n",
       "5272                 1.20                0.340000                       12.20   \n",
       "5273                 1.42                0.200000                       15.28   \n",
       "5274                 1.21                0.000000                       10.80   \n",
       "5275                 0.91                0.380000                       13.92   \n",
       "\n",
       "      Band gap [eV]  a [ang]  b [ang]  c [ang]  alpha [deg]  beta [deg]  \\\n",
       "0              0.00     4.18     4.18     5.70         90.0        90.0   \n",
       "1              0.00     3.79     3.79     4.44         90.0        90.0   \n",
       "2              0.00     3.57     3.57     4.46         90.0        90.0   \n",
       "3              0.00     3.32     3.32     4.64         90.0        90.0   \n",
       "4              0.34     3.68     3.68     4.21         90.0        90.0   \n",
       "...             ...      ...      ...      ...          ...         ...   \n",
       "5271           0.00     3.81     3.81     3.81         90.0        90.0   \n",
       "5272           0.00     3.94     3.94     3.94         90.0        90.0   \n",
       "5273           0.00     4.24     4.24     4.24         90.0        90.0   \n",
       "5274           0.00     3.78     3.78     3.78         90.0        90.0   \n",
       "5275           0.00     4.11     4.11     4.11         90.0        90.0   \n",
       "\n",
       "      gamma [deg]  Vacancy energy [eV/O atom]  Goldschmidt Tolerance  \\\n",
       "0            90.0                       -1.41               0.580426   \n",
       "1            90.0                        4.34               0.989949   \n",
       "2            90.0                        0.53               1.018842   \n",
       "3            90.0                        0.19               1.052803   \n",
       "4            90.0                        1.83               0.976828   \n",
       "...           ...                         ...                    ...   \n",
       "5271         90.0                        2.40               0.834678   \n",
       "5272         90.0                        0.19               0.801621   \n",
       "5273         90.0                       -4.92               0.704032   \n",
       "5274         90.0                       -0.76               0.756670   \n",
       "5275         90.0                        3.22               0.763809   \n",
       "\n",
       "      Octahedral factor  rA at 12 [ang]  rA at 6 [ang]  rB at 6 [ang]  \\\n",
       "0              1.192857            1.12           1.12           1.67   \n",
       "1              0.285714            1.12           1.12           0.40   \n",
       "2              0.328571            1.28           0.95           0.46   \n",
       "3              0.285714            1.28           0.95           0.40   \n",
       "4              0.385714            1.28           0.95           0.54   \n",
       "...                 ...             ...            ...            ...   \n",
       "5271           0.385714            0.89           0.72           0.54   \n",
       "5272           0.442857            0.89           0.72           0.62   \n",
       "5273           0.642857            0.89           0.72           0.90   \n",
       "5274           0.528571            0.89           0.72           0.74   \n",
       "5275           0.514286            0.89           0.72           0.72   \n",
       "\n",
       "            tR  New Tolerance Factor  \n",
       "0     1.214883              2.160000  \n",
       "1     1.194086              2.160000  \n",
       "2     0.923839              1.813159  \n",
       "3     0.928222              1.813159  \n",
       "4     0.919137              1.813159  \n",
       "...        ...                   ...  \n",
       "5271  0.894528              1.442999  \n",
       "5272  0.892819              1.442999  \n",
       "5273  0.893744              1.442999  \n",
       "5274  0.892023              1.442999  \n",
       "5275  0.892021              1.442999  \n",
       "\n",
       "[5276 rows x 21 columns]"
      ]
     },
     "execution_count": 55,
     "metadata": {},
     "output_type": "execute_result"
    }
   ],
   "source": [
    "numeric"
   ]
  },
  {
   "cell_type": "code",
   "execution_count": 56,
   "metadata": {},
   "outputs": [
    {
     "data": {
      "text/plain": [
       "cubic           3253\n",
       "orthorhombic    1573\n",
       "rhombohedral     323\n",
       "tetragonal       127\n",
       "Name: Lowest distortion, dtype: int64"
      ]
     },
     "execution_count": 56,
     "metadata": {},
     "output_type": "execute_result"
    }
   ],
   "source": [
    "categorical['Lowest distortion'].value_counts()"
   ]
  },
  {
   "cell_type": "code",
   "execution_count": 83,
   "metadata": {},
   "outputs": [],
   "source": [
    "import re\n",
    "regex = re.compile(r\"\\[|\\]|<\", re.IGNORECASE)"
   ]
  },
  {
   "cell_type": "code",
   "execution_count": 84,
   "metadata": {},
   "outputs": [],
   "source": [
    "numeric.columns = [regex.sub(\"_\", col) if any(x in str(col) for x in set(('[', ']', '<'))) else col for col in numeric.columns.values]\n"
   ]
  },
  {
   "cell_type": "code",
   "execution_count": 85,
   "metadata": {},
   "outputs": [],
   "source": [
    "test=newdf"
   ]
  },
  {
   "cell_type": "code",
   "execution_count": 86,
   "metadata": {},
   "outputs": [
    {
     "data": {
      "text/plain": [
       "orthorhombic    183\n",
       "cubic            18\n",
       "rhombohedral     15\n",
       "tetragonal        6\n",
       "Name: Lowest distortion, dtype: int64"
      ]
     },
     "execution_count": 86,
     "metadata": {},
     "output_type": "execute_result"
    }
   ],
   "source": [
    "newdf['Lowest distortion'].value_counts()"
   ]
  },
  {
   "cell_type": "code",
   "execution_count": 87,
   "metadata": {},
   "outputs": [],
   "source": [
    "from sklearn.model_selection import train_test_split\n",
    "from sklearn.utils import resample\n",
    "from sklearn.preprocessing import LabelEncoder"
   ]
  },
  {
   "cell_type": "code",
   "execution_count": 88,
   "metadata": {},
   "outputs": [],
   "source": [
    "#le_target = LabelEncoder()\n",
    "#test['Lowest distortion']= le_target.fit_transform(test['Lowest distortion'])"
   ]
  },
  {
   "cell_type": "code",
   "execution_count": 116,
   "metadata": {},
   "outputs": [],
   "source": [
    "X=numeric.drop(['Volume per atom _A^3/atom_','a _ang_','b _ang_','c _ang_','alpha _deg_','beta _deg_','gamma _deg_'],axis=1)\n",
    "y=test['Lowest distortion']"
   ]
  },
  {
   "cell_type": "code",
   "execution_count": 117,
   "metadata": {},
   "outputs": [
    {
     "data": {
      "text/plain": [
       "1    183\n",
       "0     18\n",
       "2     15\n",
       "3      6\n",
       "Name: Lowest distortion, dtype: int64"
      ]
     },
     "execution_count": 117,
     "metadata": {},
     "output_type": "execute_result"
    }
   ],
   "source": [
    "newdf['Lowest distortion'].value_counts()"
   ]
  },
  {
   "cell_type": "code",
   "execution_count": 118,
   "metadata": {},
   "outputs": [],
   "source": [
    "X_train, X_test, y_train, y_test = train_test_split( X, y, test_size=0.33, random_state=42)"
   ]
  },
  {
   "cell_type": "code",
   "execution_count": 119,
   "metadata": {},
   "outputs": [],
   "source": [
    "train_data = pd.concat([X_train, y_train], axis=1)"
   ]
  },
  {
   "cell_type": "code",
   "execution_count": 120,
   "metadata": {},
   "outputs": [
    {
     "data": {
      "text/plain": [
       "1    120\n",
       "0     13\n",
       "2     10\n",
       "3      5\n",
       "Name: Lowest distortion, dtype: int64"
      ]
     },
     "execution_count": 120,
     "metadata": {},
     "output_type": "execute_result"
    }
   ],
   "source": [
    "train_data['Lowest distortion'].value_counts()"
   ]
  },
  {
   "cell_type": "code",
   "execution_count": null,
   "metadata": {},
   "outputs": [],
   "source": [
    "majority= train_data[train_data['Lowest distortion']==0]\n",
    "minority= train_data[train_data['Lowest distortion']==1]"
   ]
  },
  {
   "cell_type": "code",
   "execution_count": null,
   "metadata": {},
   "outputs": [],
   "source": [
    "# upsample minority\n",
    "min_upsampled = resample(minority,\n",
    " replace=True, # sample with replacement\n",
    " n_samples=len(majority), # match number in majority class\n",
    " random_state=27) # reproducible results"
   ]
  },
  {
   "cell_type": "code",
   "execution_count": 121,
   "metadata": {},
   "outputs": [],
   "source": [
    "#cubic = train_data[train_data['Lowest distortion']==0]\n",
    "#orthorhombic = train_data[train_data['Lowest distortion']==1]\n",
    "#rhombohedral = train_data[train_data['Lowest distortion']==2]\n",
    "#tetragonal= train_data[train_data['Lowest distortion']==3]"
   ]
  },
  {
   "cell_type": "code",
   "execution_count": 122,
   "metadata": {},
   "outputs": [],
   "source": [
    "# upsample minority\n",
    "#rho_upsampled = resample(rhombohedral,\n",
    " #replace=True, # sample with replacement\n",
    "# n_samples=len(orthorhombic), # match number in majority class\n",
    "# random_state=27) # reproducible results\n",
    "\n",
    "# upsample minority\n",
    "#tetra_upsampled = resample(tetragonal,\n",
    " #replace=True, # sample with replacement\n",
    " #n_samples=len(orthorhombic), # match number in majority class\n",
    " #random_state=27) # reproducible results\n",
    "\n",
    "# upsample minority\n",
    "#cubic_upsampled = resample(cubic,\n",
    " #replace=True, # sample with replacement\n",
    " #n_samples=len(orthorhombic), # match number in majority class\n",
    " #random_state=27) # reproducible results"
   ]
  },
  {
   "cell_type": "code",
   "execution_count": 95,
   "metadata": {},
   "outputs": [],
   "source": [
    "# upsample minority\n",
    "#rho_upsampled = resample(rhombohedral,\n",
    " #replace=True, # sample with replacement\n",
    " #n_samples=len(cubic), # match number in majority class\n",
    " #random_state=27) # reproducible results\n",
    "\n",
    "# upsample minority\n",
    "#tetra_upsampled = resample(tetragonal,\n",
    " #replace=True, # sample with replacement\n",
    " #n_samples=len(cubic), # match number in majority class\n",
    " #random_state=27) # reproducible results\n",
    "\n",
    "# upsample minority\n",
    "#ortho_upsampled = resample(orthorhombic,\n",
    " #replace=True, # sample with replacement\n",
    " #n_samples=len(cubic), # match number in majority class\n",
    " #random_state=27) # reproducible results\n"
   ]
  },
  {
   "cell_type": "code",
   "execution_count": 123,
   "metadata": {},
   "outputs": [],
   "source": [
    "#upsampled = pd.concat([orthorhombic, rho_upsampled, cubic_upsampled, tetra_upsampled])"
   ]
  },
  {
   "cell_type": "code",
   "execution_count": 114,
   "metadata": {},
   "outputs": [],
   "source": [
    "#upsampled = pd.concat([cubic, rho_upsampled, ortho_upsampled, tetra_upsampled])"
   ]
  },
  {
   "cell_type": "code",
   "execution_count": null,
   "metadata": {},
   "outputs": [],
   "source": [
    "upsampled = pd.concat([min_upsampled,majority])"
   ]
  },
  {
   "cell_type": "code",
   "execution_count": 124,
   "metadata": {},
   "outputs": [
    {
     "data": {
      "text/plain": [
       "3    120\n",
       "2    120\n",
       "1    120\n",
       "0    120\n",
       "Name: Lowest distortion, dtype: int64"
      ]
     },
     "execution_count": 124,
     "metadata": {},
     "output_type": "execute_result"
    }
   ],
   "source": [
    "upsampled['Lowest distortion'].value_counts()"
   ]
  },
  {
   "cell_type": "code",
   "execution_count": 125,
   "metadata": {},
   "outputs": [],
   "source": [
    "X_new=upsampled.drop('Lowest distortion',axis=1)\n",
    "y_new=upsampled['Lowest distortion']"
   ]
  },
  {
   "cell_type": "code",
   "execution_count": 126,
   "metadata": {},
   "outputs": [],
   "source": [
    "from sklearn.metrics import accuracy_score, confusion_matrix\n",
    "from sklearn.ensemble import RandomForestClassifier\n",
    "from sklearn import svm, tree\n",
    "from xgboost import XGBClassifier\n",
    "from sklearn.model_selection import train_test_split\n",
    "from sklearn.metrics import f1_score, confusion_matrix, accuracy_score\n"
   ]
  },
  {
   "cell_type": "code",
   "execution_count": 127,
   "metadata": {},
   "outputs": [],
   "source": [
    "classifiers=list()\n",
    "model1 = XGBClassifier()\n",
    "classifiers.append(model1)\n",
    "model2 = svm.SVC()\n",
    "classifiers.append(model2)\n",
    "model3 = tree.DecisionTreeClassifier()\n",
    "classifiers.append(model3)\n",
    "model4 = RandomForestClassifier()\n",
    "classifiers.append(model4)"
   ]
  },
  {
   "cell_type": "code",
   "execution_count": 128,
   "metadata": {},
   "outputs": [
    {
     "data": {
      "text/plain": [
       "[XGBClassifier(base_score=0.5, booster='gbtree', colsample_bylevel=1,\n",
       "               colsample_bynode=1, colsample_bytree=1, gamma=0,\n",
       "               learning_rate=0.1, max_delta_step=0, max_depth=3,\n",
       "               min_child_weight=1, missing=None, n_estimators=100, n_jobs=1,\n",
       "               nthread=None, objective='binary:logistic', random_state=0,\n",
       "               reg_alpha=0, reg_lambda=1, scale_pos_weight=1, seed=None,\n",
       "               silent=None, subsample=1, verbosity=1),\n",
       " SVC(C=1.0, break_ties=False, cache_size=200, class_weight=None, coef0=0.0,\n",
       "     decision_function_shape='ovr', degree=3, gamma='scale', kernel='rbf',\n",
       "     max_iter=-1, probability=False, random_state=None, shrinking=True,\n",
       "     tol=0.001, verbose=False),\n",
       " DecisionTreeClassifier(ccp_alpha=0.0, class_weight=None, criterion='gini',\n",
       "                        max_depth=None, max_features=None, max_leaf_nodes=None,\n",
       "                        min_impurity_decrease=0.0, min_impurity_split=None,\n",
       "                        min_samples_leaf=1, min_samples_split=2,\n",
       "                        min_weight_fraction_leaf=0.0, presort='deprecated',\n",
       "                        random_state=None, splitter='best'),\n",
       " RandomForestClassifier(bootstrap=True, ccp_alpha=0.0, class_weight=None,\n",
       "                        criterion='gini', max_depth=None, max_features='auto',\n",
       "                        max_leaf_nodes=None, max_samples=None,\n",
       "                        min_impurity_decrease=0.0, min_impurity_split=None,\n",
       "                        min_samples_leaf=1, min_samples_split=2,\n",
       "                        min_weight_fraction_leaf=0.0, n_estimators=100,\n",
       "                        n_jobs=None, oob_score=False, random_state=None,\n",
       "                        verbose=0, warm_start=False)]"
      ]
     },
     "execution_count": 128,
     "metadata": {},
     "output_type": "execute_result"
    }
   ],
   "source": [
    "classifiers"
   ]
  },
  {
   "cell_type": "code",
   "execution_count": 129,
   "metadata": {},
   "outputs": [
    {
     "data": {
      "text/plain": [
       "629     1\n",
       "663     1\n",
       "606     1\n",
       "685     1\n",
       "1106    1\n",
       "       ..\n",
       "4       3\n",
       "6       3\n",
       "6       3\n",
       "59      3\n",
       "4       3\n",
       "Name: Lowest distortion, Length: 480, dtype: int32"
      ]
     },
     "execution_count": 129,
     "metadata": {},
     "output_type": "execute_result"
    }
   ],
   "source": [
    "y_new"
   ]
  },
  {
   "cell_type": "code",
   "execution_count": 130,
   "metadata": {},
   "outputs": [],
   "source": [
    "#for clf in classifiers:\n",
    " #   clf.fit(X_new, y_new)\n",
    "  #  y_pred= model.predict(X_test)\n",
    "   # acc = accuracy_score(y_test, y_pred)\n",
    "    #print(\"Accuracy of %s is %s\"%(clf,acc))\n",
    "    #cm = confusion_matrix(y_test, y_pred)\n",
    "   # print(\"Confusion Matrix of %s is %s\"%(clf,cm))"
   ]
  },
  {
   "cell_type": "markdown",
   "metadata": {},
   "source": [
    "## Support Vector Machine"
   ]
  },
  {
   "cell_type": "code",
   "execution_count": 131,
   "metadata": {},
   "outputs": [
    {
     "data": {
      "text/plain": [
       "SVC(C=1.0, break_ties=False, cache_size=200, class_weight=None, coef0=0.0,\n",
       "    decision_function_shape='ovr', degree=3, gamma='scale', kernel='rbf',\n",
       "    max_iter=-1, probability=False, random_state=None, shrinking=True,\n",
       "    tol=0.001, verbose=False)"
      ]
     },
     "execution_count": 131,
     "metadata": {},
     "output_type": "execute_result"
    }
   ],
   "source": [
    "model2.fit(X_new, y_new)"
   ]
  },
  {
   "cell_type": "code",
   "execution_count": 132,
   "metadata": {},
   "outputs": [
    {
     "data": {
      "text/plain": [
       "0.70625"
      ]
     },
     "execution_count": 132,
     "metadata": {},
     "output_type": "execute_result"
    }
   ],
   "source": [
    "model2.score(X_new,y_new)"
   ]
  },
  {
   "cell_type": "code",
   "execution_count": 133,
   "metadata": {},
   "outputs": [
    {
     "data": {
      "text/plain": [
       "0.6216216216216216"
      ]
     },
     "execution_count": 133,
     "metadata": {},
     "output_type": "execute_result"
    }
   ],
   "source": [
    "model2.score(X_test,y_test)"
   ]
  },
  {
   "cell_type": "code",
   "execution_count": 134,
   "metadata": {},
   "outputs": [
    {
     "data": {
      "text/plain": [
       "0.6216216216216216"
      ]
     },
     "execution_count": 134,
     "metadata": {},
     "output_type": "execute_result"
    }
   ],
   "source": [
    "from sklearn.metrics import f1_score, confusion_matrix, accuracy_score\n",
    "\n",
    "preds = model2.predict(X_test)\n",
    "accuracy_score(preds,y_test)"
   ]
  },
  {
   "cell_type": "code",
   "execution_count": 135,
   "metadata": {},
   "outputs": [
    {
     "data": {
      "text/plain": [
       "array([[ 2,  4,  1,  0],\n",
       "       [ 0, 41,  1,  1],\n",
       "       [ 1,  8,  3,  0],\n",
       "       [ 2, 10,  0,  0]], dtype=int64)"
      ]
     },
     "execution_count": 135,
     "metadata": {},
     "output_type": "execute_result"
    }
   ],
   "source": [
    "confusion_matrix(preds,y_test)"
   ]
  },
  {
   "cell_type": "code",
   "execution_count": 136,
   "metadata": {},
   "outputs": [
    {
     "data": {
      "text/plain": [
       "1    63\n",
       "2     5\n",
       "0     5\n",
       "3     1\n",
       "Name: Lowest distortion, dtype: int64"
      ]
     },
     "execution_count": 136,
     "metadata": {},
     "output_type": "execute_result"
    }
   ],
   "source": [
    "y_test.value_counts()"
   ]
  },
  {
   "cell_type": "code",
   "execution_count": 137,
   "metadata": {},
   "outputs": [
    {
     "data": {
      "text/plain": [
       "1    43\n",
       "3    12\n",
       "2    12\n",
       "0     7\n",
       "dtype: int64"
      ]
     },
     "execution_count": 137,
     "metadata": {},
     "output_type": "execute_result"
    }
   ],
   "source": [
    "pd.Series(preds).value_counts()"
   ]
  },
  {
   "cell_type": "code",
   "execution_count": 256,
   "metadata": {},
   "outputs": [],
   "source": [
    "# The orthorhombic are being incorrectly identified at rhombohedral and tetragonal"
   ]
  },
  {
   "cell_type": "code",
   "execution_count": 138,
   "metadata": {},
   "outputs": [],
   "source": [
    "#accuracy 0.8076923076923077\n",
    "#confusion matrix\n",
    "#array([[973,   2,   2,   2],\n",
    "#       [  6, 332,  33,   2],\n",
    "#       [  7, 101,  59,   0],\n",
    "#       [ 62,  89,  29,  43]], dtype=int64)\n",
    "\n",
    "#accuracy not changed after introducing valence a and b\n",
    "# on introducing new tolerance factor accuracy improved to 0.8352468427095293\n",
    "\n",
    "#on building only on experimentall true data\n",
    "#0.6216216216216216\n",
    "#array([[ 2,  4,  1,  0],\n",
    "  #     [ 0, 41,  1,  1],\n",
    "      # [ 1,  8,  3,  0],\n",
    "     #  [ 2, 10,  0,  0]], dtype=int64)"
   ]
  },
  {
   "cell_type": "markdown",
   "metadata": {},
   "source": [
    "## XGBoost"
   ]
  },
  {
   "cell_type": "code",
   "execution_count": 139,
   "metadata": {},
   "outputs": [
    {
     "data": {
      "text/html": [
       "<div>\n",
       "<style scoped>\n",
       "    .dataframe tbody tr th:only-of-type {\n",
       "        vertical-align: middle;\n",
       "    }\n",
       "\n",
       "    .dataframe tbody tr th {\n",
       "        vertical-align: top;\n",
       "    }\n",
       "\n",
       "    .dataframe thead th {\n",
       "        text-align: right;\n",
       "    }\n",
       "</style>\n",
       "<table border=\"1\" class=\"dataframe\">\n",
       "  <thead>\n",
       "    <tr style=\"text-align: right;\">\n",
       "      <th></th>\n",
       "      <th>Radius A _ang_</th>\n",
       "      <th>Radius B _ang_</th>\n",
       "      <th>Formation energy _eV/atom_</th>\n",
       "      <th>Stability _eV/atom_</th>\n",
       "      <th>Magnetic moment _mu_B_</th>\n",
       "      <th>Band gap _eV_</th>\n",
       "      <th>Vacancy energy _eV/O atom_</th>\n",
       "      <th>Goldschmidt Tolerance</th>\n",
       "      <th>Octahedral factor</th>\n",
       "      <th>rA at 12 _ang_</th>\n",
       "      <th>rA at 6 _ang_</th>\n",
       "      <th>rB at 6 _ang_</th>\n",
       "      <th>New Tolerance Factor</th>\n",
       "    </tr>\n",
       "  </thead>\n",
       "  <tbody>\n",
       "    <tr>\n",
       "      <th>629</th>\n",
       "      <td>1.38</td>\n",
       "      <td>0.65</td>\n",
       "      <td>-1.55</td>\n",
       "      <td>0.02</td>\n",
       "      <td>1.000000</td>\n",
       "      <td>1.28</td>\n",
       "      <td>2.59</td>\n",
       "      <td>0.958906</td>\n",
       "      <td>0.464286</td>\n",
       "      <td>1.38</td>\n",
       "      <td>0.90</td>\n",
       "      <td>0.65</td>\n",
       "      <td>1.714374</td>\n",
       "    </tr>\n",
       "    <tr>\n",
       "      <th>663</th>\n",
       "      <td>1.34</td>\n",
       "      <td>0.55</td>\n",
       "      <td>-2.61</td>\n",
       "      <td>0.05</td>\n",
       "      <td>0.400000</td>\n",
       "      <td>0.54</td>\n",
       "      <td>1.46</td>\n",
       "      <td>0.993576</td>\n",
       "      <td>0.392857</td>\n",
       "      <td>1.34</td>\n",
       "      <td>1.00</td>\n",
       "      <td>0.55</td>\n",
       "      <td>1.905676</td>\n",
       "    </tr>\n",
       "    <tr>\n",
       "      <th>606</th>\n",
       "      <td>1.61</td>\n",
       "      <td>0.94</td>\n",
       "      <td>-3.62</td>\n",
       "      <td>0.00</td>\n",
       "      <td>0.000000</td>\n",
       "      <td>4.36</td>\n",
       "      <td>6.15</td>\n",
       "      <td>0.909569</td>\n",
       "      <td>0.671429</td>\n",
       "      <td>1.61</td>\n",
       "      <td>1.35</td>\n",
       "      <td>0.94</td>\n",
       "      <td>2.584006</td>\n",
       "    </tr>\n",
       "    <tr>\n",
       "      <th>685</th>\n",
       "      <td>1.34</td>\n",
       "      <td>0.69</td>\n",
       "      <td>-2.53</td>\n",
       "      <td>0.02</td>\n",
       "      <td>0.234952</td>\n",
       "      <td>2.74</td>\n",
       "      <td>3.48</td>\n",
       "      <td>0.927020</td>\n",
       "      <td>0.492857</td>\n",
       "      <td>1.34</td>\n",
       "      <td>1.00</td>\n",
       "      <td>0.69</td>\n",
       "      <td>1.905676</td>\n",
       "    </tr>\n",
       "    <tr>\n",
       "      <th>1106</th>\n",
       "      <td>1.36</td>\n",
       "      <td>0.68</td>\n",
       "      <td>-2.40</td>\n",
       "      <td>0.04</td>\n",
       "      <td>0.200000</td>\n",
       "      <td>0.00</td>\n",
       "      <td>2.05</td>\n",
       "      <td>0.938276</td>\n",
       "      <td>0.485714</td>\n",
       "      <td>1.36</td>\n",
       "      <td>1.03</td>\n",
       "      <td>0.68</td>\n",
       "      <td>1.962317</td>\n",
       "    </tr>\n",
       "    <tr>\n",
       "      <th>...</th>\n",
       "      <td>...</td>\n",
       "      <td>...</td>\n",
       "      <td>...</td>\n",
       "      <td>...</td>\n",
       "      <td>...</td>\n",
       "      <td>...</td>\n",
       "      <td>...</td>\n",
       "      <td>...</td>\n",
       "      <td>...</td>\n",
       "      <td>...</td>\n",
       "      <td>...</td>\n",
       "      <td>...</td>\n",
       "      <td>...</td>\n",
       "    </tr>\n",
       "    <tr>\n",
       "      <th>4</th>\n",
       "      <td>1.28</td>\n",
       "      <td>0.54</td>\n",
       "      <td>-1.58</td>\n",
       "      <td>0.13</td>\n",
       "      <td>0.000000</td>\n",
       "      <td>0.34</td>\n",
       "      <td>1.83</td>\n",
       "      <td>0.976828</td>\n",
       "      <td>0.385714</td>\n",
       "      <td>1.28</td>\n",
       "      <td>0.95</td>\n",
       "      <td>0.54</td>\n",
       "      <td>1.813159</td>\n",
       "    </tr>\n",
       "    <tr>\n",
       "      <th>6</th>\n",
       "      <td>1.61</td>\n",
       "      <td>0.61</td>\n",
       "      <td>-3.29</td>\n",
       "      <td>-0.03</td>\n",
       "      <td>0.000000</td>\n",
       "      <td>1.68</td>\n",
       "      <td>5.36</td>\n",
       "      <td>1.058901</td>\n",
       "      <td>0.435714</td>\n",
       "      <td>1.61</td>\n",
       "      <td>1.35</td>\n",
       "      <td>0.61</td>\n",
       "      <td>2.584006</td>\n",
       "    </tr>\n",
       "    <tr>\n",
       "      <th>6</th>\n",
       "      <td>1.61</td>\n",
       "      <td>0.61</td>\n",
       "      <td>-3.29</td>\n",
       "      <td>-0.03</td>\n",
       "      <td>0.000000</td>\n",
       "      <td>1.68</td>\n",
       "      <td>5.36</td>\n",
       "      <td>1.058901</td>\n",
       "      <td>0.435714</td>\n",
       "      <td>1.61</td>\n",
       "      <td>1.35</td>\n",
       "      <td>0.61</td>\n",
       "      <td>2.584006</td>\n",
       "    </tr>\n",
       "    <tr>\n",
       "      <th>59</th>\n",
       "      <td>1.64</td>\n",
       "      <td>0.64</td>\n",
       "      <td>-2.70</td>\n",
       "      <td>-0.22</td>\n",
       "      <td>0.000000</td>\n",
       "      <td>1.71</td>\n",
       "      <td>5.48</td>\n",
       "      <td>1.053728</td>\n",
       "      <td>0.457143</td>\n",
       "      <td>1.64</td>\n",
       "      <td>1.38</td>\n",
       "      <td>0.64</td>\n",
       "      <td>2.645057</td>\n",
       "    </tr>\n",
       "    <tr>\n",
       "      <th>4</th>\n",
       "      <td>1.28</td>\n",
       "      <td>0.54</td>\n",
       "      <td>-1.58</td>\n",
       "      <td>0.13</td>\n",
       "      <td>0.000000</td>\n",
       "      <td>0.34</td>\n",
       "      <td>1.83</td>\n",
       "      <td>0.976828</td>\n",
       "      <td>0.385714</td>\n",
       "      <td>1.28</td>\n",
       "      <td>0.95</td>\n",
       "      <td>0.54</td>\n",
       "      <td>1.813159</td>\n",
       "    </tr>\n",
       "  </tbody>\n",
       "</table>\n",
       "<p>480 rows × 13 columns</p>\n",
       "</div>"
      ],
      "text/plain": [
       "      Radius A _ang_  Radius B _ang_  Formation energy _eV/atom_  \\\n",
       "629             1.38            0.65                       -1.55   \n",
       "663             1.34            0.55                       -2.61   \n",
       "606             1.61            0.94                       -3.62   \n",
       "685             1.34            0.69                       -2.53   \n",
       "1106            1.36            0.68                       -2.40   \n",
       "...              ...             ...                         ...   \n",
       "4               1.28            0.54                       -1.58   \n",
       "6               1.61            0.61                       -3.29   \n",
       "6               1.61            0.61                       -3.29   \n",
       "59              1.64            0.64                       -2.70   \n",
       "4               1.28            0.54                       -1.58   \n",
       "\n",
       "      Stability _eV/atom_  Magnetic moment _mu_B_  Band gap _eV_  \\\n",
       "629                  0.02                1.000000           1.28   \n",
       "663                  0.05                0.400000           0.54   \n",
       "606                  0.00                0.000000           4.36   \n",
       "685                  0.02                0.234952           2.74   \n",
       "1106                 0.04                0.200000           0.00   \n",
       "...                   ...                     ...            ...   \n",
       "4                    0.13                0.000000           0.34   \n",
       "6                   -0.03                0.000000           1.68   \n",
       "6                   -0.03                0.000000           1.68   \n",
       "59                  -0.22                0.000000           1.71   \n",
       "4                    0.13                0.000000           0.34   \n",
       "\n",
       "      Vacancy energy _eV/O atom_  Goldschmidt Tolerance  Octahedral factor  \\\n",
       "629                         2.59               0.958906           0.464286   \n",
       "663                         1.46               0.993576           0.392857   \n",
       "606                         6.15               0.909569           0.671429   \n",
       "685                         3.48               0.927020           0.492857   \n",
       "1106                        2.05               0.938276           0.485714   \n",
       "...                          ...                    ...                ...   \n",
       "4                           1.83               0.976828           0.385714   \n",
       "6                           5.36               1.058901           0.435714   \n",
       "6                           5.36               1.058901           0.435714   \n",
       "59                          5.48               1.053728           0.457143   \n",
       "4                           1.83               0.976828           0.385714   \n",
       "\n",
       "      rA at 12 _ang_  rA at 6 _ang_  rB at 6 _ang_  New Tolerance Factor  \n",
       "629             1.38           0.90           0.65              1.714374  \n",
       "663             1.34           1.00           0.55              1.905676  \n",
       "606             1.61           1.35           0.94              2.584006  \n",
       "685             1.34           1.00           0.69              1.905676  \n",
       "1106            1.36           1.03           0.68              1.962317  \n",
       "...              ...            ...            ...                   ...  \n",
       "4               1.28           0.95           0.54              1.813159  \n",
       "6               1.61           1.35           0.61              2.584006  \n",
       "6               1.61           1.35           0.61              2.584006  \n",
       "59              1.64           1.38           0.64              2.645057  \n",
       "4               1.28           0.95           0.54              1.813159  \n",
       "\n",
       "[480 rows x 13 columns]"
      ]
     },
     "execution_count": 139,
     "metadata": {},
     "output_type": "execute_result"
    }
   ],
   "source": [
    "X_new"
   ]
  },
  {
   "cell_type": "code",
   "execution_count": 140,
   "metadata": {},
   "outputs": [
    {
     "data": {
      "text/plain": [
       "1.0"
      ]
     },
     "execution_count": 140,
     "metadata": {},
     "output_type": "execute_result"
    }
   ],
   "source": [
    "model1.fit(X_new, y_new)\n",
    "model1.score(X_new,y_new)"
   ]
  },
  {
   "cell_type": "code",
   "execution_count": 141,
   "metadata": {},
   "outputs": [
    {
     "data": {
      "text/plain": [
       "0.9054054054054054"
      ]
     },
     "execution_count": 141,
     "metadata": {},
     "output_type": "execute_result"
    }
   ],
   "source": [
    "model1.score(X_test,y_test)"
   ]
  },
  {
   "cell_type": "code",
   "execution_count": 142,
   "metadata": {},
   "outputs": [
    {
     "data": {
      "text/plain": [
       "0.9054054054054054"
      ]
     },
     "execution_count": 142,
     "metadata": {},
     "output_type": "execute_result"
    }
   ],
   "source": [
    "preds = model1.predict(X_test)\n",
    "accuracy_score(preds,y_test)"
   ]
  },
  {
   "cell_type": "code",
   "execution_count": 143,
   "metadata": {},
   "outputs": [
    {
     "data": {
      "text/plain": [
       "array([[ 3,  0,  0,  0],\n",
       "       [ 1, 61,  3,  0],\n",
       "       [ 0,  2,  2,  0],\n",
       "       [ 1,  0,  0,  1]], dtype=int64)"
      ]
     },
     "execution_count": 143,
     "metadata": {},
     "output_type": "execute_result"
    }
   ],
   "source": [
    "confusion_matrix(preds,y_test)"
   ]
  },
  {
   "cell_type": "code",
   "execution_count": 144,
   "metadata": {},
   "outputs": [
    {
     "data": {
      "text/plain": [
       "1    65\n",
       "2     4\n",
       "0     3\n",
       "3     2\n",
       "dtype: int64"
      ]
     },
     "execution_count": 144,
     "metadata": {},
     "output_type": "execute_result"
    }
   ],
   "source": [
    "pd.Series(preds).value_counts()"
   ]
  },
  {
   "cell_type": "code",
   "execution_count": 145,
   "metadata": {},
   "outputs": [],
   "source": [
    "#accuracy 0.8960964408725602 with only orignal data\n",
    "#confusion matrix\n",
    "#array([[1004,    3,    2,    2],\n",
    "#       [   9,  433,   30,    3],\n",
    "#       [  25,   68,   86,    4],\n",
    "#       [  10,   20,    5,   38]], dtype=int64)\n",
    "\n",
    "## accuracy decreased to 0.8864569083447332 after introducing valence a and b\n",
    "# accuracy on having new tolerance factor =0.8938002296211252\n",
    "\n",
    "#on building only on experimentall true data\n",
    "#0.9054054054054054\n",
    "#array([[ 3,  0,  0,  0],\n",
    "      # [ 1, 61,  3,  0],\n",
    "     #  [ 0,  2,  2,  0],\n",
    "    #   [ 1,  0,  0,  1]], dtype=int64)"
   ]
  },
  {
   "cell_type": "code",
   "execution_count": 146,
   "metadata": {},
   "outputs": [
    {
     "data": {
      "image/png": "[encoded data removed]",
      "text/plain": [
       "<Figure size 1500x600 with 1 Axes>"
      ]
     },
     "metadata": {
      "needs_background": "light"
     },
     "output_type": "display_data"
    }
   ],
   "source": [
    "features = X_new.columns\n",
    "importances = model1.feature_importances_\n",
    "indices = np.argsort(importances)\n",
    "\n",
    "#plt.figure(figsize=(6,7))\n",
    "plt.title('Feature Importances')\n",
    "plt.barh(range(len(indices)), importances[indices], color='b', align='center')\n",
    "plt.yticks(range(len(indices)), [features[i] for i in indices])\n",
    "plt.xlabel('Relative Importance')\n",
    "plt.show()\n"
   ]
  },
  {
   "cell_type": "markdown",
   "metadata": {},
   "source": [
    "## Decision Tree"
   ]
  },
  {
   "cell_type": "code",
   "execution_count": 147,
   "metadata": {},
   "outputs": [
    {
     "data": {
      "text/plain": [
       "1.0"
      ]
     },
     "execution_count": 147,
     "metadata": {},
     "output_type": "execute_result"
    }
   ],
   "source": [
    "model3.fit(X_new, y_new)\n",
    "model3.score(X_new,y_new)"
   ]
  },
  {
   "cell_type": "code",
   "execution_count": 148,
   "metadata": {},
   "outputs": [
    {
     "data": {
      "text/plain": [
       "0.8783783783783784"
      ]
     },
     "execution_count": 148,
     "metadata": {},
     "output_type": "execute_result"
    }
   ],
   "source": [
    "model3.score(X_test,y_test)"
   ]
  },
  {
   "cell_type": "code",
   "execution_count": 149,
   "metadata": {},
   "outputs": [
    {
     "data": {
      "text/plain": [
       "0.8783783783783784"
      ]
     },
     "execution_count": 149,
     "metadata": {},
     "output_type": "execute_result"
    }
   ],
   "source": [
    "preds = model3.predict(X_test)\n",
    "accuracy_score(preds,y_test)"
   ]
  },
  {
   "cell_type": "code",
   "execution_count": 150,
   "metadata": {},
   "outputs": [
    {
     "data": {
      "text/plain": [
       "array([[ 3,  1,  0,  0],\n",
       "       [ 2, 60,  3,  0],\n",
       "       [ 0,  1,  2,  1],\n",
       "       [ 0,  1,  0,  0]], dtype=int64)"
      ]
     },
     "execution_count": 150,
     "metadata": {},
     "output_type": "execute_result"
    }
   ],
   "source": [
    "confusion_matrix(preds,y_test)"
   ]
  },
  {
   "cell_type": "code",
   "execution_count": 151,
   "metadata": {
    "scrolled": true
   },
   "outputs": [
    {
     "data": {
      "text/plain": [
       "1    65\n",
       "2     4\n",
       "0     4\n",
       "3     1\n",
       "dtype: int64"
      ]
     },
     "execution_count": 151,
     "metadata": {},
     "output_type": "execute_result"
    }
   ],
   "source": [
    "pd.Series(preds).value_counts()"
   ]
  },
  {
   "cell_type": "code",
   "execution_count": 153,
   "metadata": {},
   "outputs": [],
   "source": [
    "#accuracy 0.883467278989667\n",
    "#confusion matrix\n",
    "#array([[1018,   27,   14,    8],\n",
    "       #[  16,  439,   50,    8],\n",
    "       #[  12,   41,   55,    4],\n",
    "       #[   2,   17,    4,   27]], dtype=int64)\n",
    "    \n",
    "#after valence a and b\n",
    "#0.8741450068399452\n",
    "# accuracy with new tolerance factor 0.8880597014925373\n",
    "\n",
    "#Using only experimnetally proved data\n",
    "#0.8783783783783784\n",
    "#array([[ 3,  1,  0,  0],\n",
    " #      [ 2, 60,  3,  0],\n",
    " #      [ 0,  1,  2,  1],\n",
    "#       [ 0,  1,  0,  0]], dtype=int64)"
   ]
  },
  {
   "cell_type": "markdown",
   "metadata": {},
   "source": [
    "## Random Forest"
   ]
  },
  {
   "cell_type": "code",
   "execution_count": 154,
   "metadata": {},
   "outputs": [
    {
     "data": {
      "text/plain": [
       "1.0"
      ]
     },
     "execution_count": 154,
     "metadata": {},
     "output_type": "execute_result"
    }
   ],
   "source": [
    "model4.fit(X_new, y_new)\n",
    "model4.score(X_new,y_new)"
   ]
  },
  {
   "cell_type": "code",
   "execution_count": 155,
   "metadata": {},
   "outputs": [
    {
     "data": {
      "text/plain": [
       "0.918918918918919"
      ]
     },
     "execution_count": 155,
     "metadata": {},
     "output_type": "execute_result"
    }
   ],
   "source": [
    "model4.score(X_test,y_test)"
   ]
  },
  {
   "cell_type": "code",
   "execution_count": 156,
   "metadata": {},
   "outputs": [
    {
     "data": {
      "text/plain": [
       "0.8783783783783784"
      ]
     },
     "execution_count": 156,
     "metadata": {},
     "output_type": "execute_result"
    }
   ],
   "source": [
    "preds = model3.predict(X_test)\n",
    "accuracy_score(preds,y_test)"
   ]
  },
  {
   "cell_type": "code",
   "execution_count": 157,
   "metadata": {},
   "outputs": [
    {
     "data": {
      "text/plain": [
       "array([[ 3,  1,  0,  0],\n",
       "       [ 2, 60,  3,  0],\n",
       "       [ 0,  1,  2,  1],\n",
       "       [ 0,  1,  0,  0]], dtype=int64)"
      ]
     },
     "execution_count": 157,
     "metadata": {},
     "output_type": "execute_result"
    }
   ],
   "source": [
    "confusion_matrix(preds,y_test)"
   ]
  },
  {
   "cell_type": "code",
   "execution_count": 158,
   "metadata": {},
   "outputs": [],
   "source": [
    "#accuracy 0.883467278989667\n",
    "#confusion matrix\n",
    "#array([[1018,   27,   14,    8],\n",
    "       #[  16,  439,   50,    8],\n",
    "       #[  12,   41,   55,    4],\n",
    "       #[   2,   17,    4,   27]], dtype=int64)\n",
    "    \n",
    "#after valence a and b\n",
    "#0.8741450068399452\n",
    "# accuracy with new tolerance factor 0.8880597014925373\n",
    "\n",
    "#Using only experimnetally proved data\n",
    "#0.8783783783783784\n",
    "#array([[ 3,  1,  0,  0],\n",
    " #      [ 2, 60,  3,  0],\n",
    " #      [ 0,  1,  2,  1],\n",
    "#       [ 0,  1,  0,  0]], dtype=int64)"
   ]
  },
  {
   "cell_type": "code",
   "execution_count": null,
   "metadata": {},
   "outputs": [],
   "source": []
  },
  {
   "cell_type": "code",
   "execution_count": null,
   "metadata": {},
   "outputs": [],
   "source": []
  }
 ],
 "metadata": {
  "kernelspec": {
   "display_name": "Python [conda env:newenv] *",
   "language": "python",
   "name": "conda-env-newenv-py"
  },
  "language_info": {
   "codemirror_mode": {
    "name": "ipython",
    "version": 3
   },
   "file_extension": ".py",
   "mimetype": "text/x-python",
   "name": "python",
   "nbconvert_exporter": "python",
   "pygments_lexer": "ipython3",
   "version": "3.6.10"
  }
 },
 "nbformat": 4,
 "nbformat_minor": 4
}
